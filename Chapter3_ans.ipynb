{
 "cells": [
  {
   "cell_type": "code",
   "execution_count": 1,
   "metadata": {
    "ExecuteTime": {
     "end_time": "2020-08-17T01:05:21.456741Z",
     "start_time": "2020-08-17T01:05:19.549829Z"
    }
   },
   "outputs": [],
   "source": [
    "from functools import reduce\n",
    "from math import sqrt\n",
    "from sklearn import linear_model\n",
    "import numpy as np\n",
    "import pandas as pd\n",
    "import matplotlib\n",
    "import matplotlib.pyplot as plt\n",
    "%matplotlib inline\n",
    "matplotlib.style.use('ggplot')\n",
    "import statsmodels.api as sm\n",
    "import statsmodels.formula.api as smf\n",
    "import scipy as sp"
   ]
  },
  {
   "cell_type": "code",
   "execution_count": 2,
   "metadata": {
    "ExecuteTime": {
     "end_time": "2020-08-17T01:05:21.479670Z",
     "start_time": "2020-08-17T01:05:21.457731Z"
    },
    "code_folding": [
     0
    ]
   },
   "outputs": [],
   "source": [
    "#(c)\n",
    "def standardization(x, mean, std) : \n",
    "    return (x-mean)/std\n",
    "\n",
    "def get_tot_diff_with_mean(x) : \n",
    "    mean_x = get_mean(x)\n",
    "    return sum(map(lambda x : (x - mean_x) ** 2, x))\n",
    "\n",
    "def get_mean(x) : \n",
    "    return (reduce(lambda value_x1, value_x2 : value_x1 + value_x2, x))/len(x)\n",
    "\n",
    "def get_var(x) : \n",
    "    return get_tot_diff_with_mean(x)/len(x)\n",
    "\n",
    "def get_std(x) : \n",
    "    return sqrt(get_tot_diff_with_mean(x)/(len(x) - 1))\n",
    "\n",
    "def get_cov(x, y) : \n",
    "    mean_x = get_mean(x)\n",
    "    mean_y = get_mean(y)\n",
    "    sum_of_diff = sum(map(lambda value_x, value_y: (value_x-mean_x)*(value_y-mean_y), x, y))\n",
    "    return sum_of_diff / (len(x) - 1)\n",
    "\n",
    "def get_cor(x, y) : \n",
    "    return get_cov(x, y) / (get_std(x) * get_std(y))\n",
    "\n",
    "def get_SSE(y, y_hat) :\n",
    "    return sum(map(lambda value_y, value_y_hat : (value_y-value_y_hat) ** 2, y, y_hat)) / (len(y) - 2)\n",
    "\n",
    "def get_slope(x, y) : \n",
    "    mean_x = get_mean(x)\n",
    "    mean_y = get_mean(y)\n",
    "    return sum(map(lambda value_x, value_y : (value_x - mean_x) * (value_y - mean_y), x, y)) / get_tot_diff_with_mean(x)\n",
    "\n",
    "def get_intercept(x, y) : \n",
    "    return get_mean(y) - (get_slope(x, y) * get_mean(x))\n",
    "\n",
    "def get_SST(y) : \n",
    "    return get_tot_diff_with_mean(y)\n",
    "\n",
    "def get_R_sqr(y, y_hat) : \n",
    "    return 1 - (get_SSE(y, y_hat)/get_SST(y))\n",
    "\n",
    "def get_std_err_of_intercept(y, y_hat, x) : \n",
    "    mean_x = get_mean(x)\n",
    "    var = get_SSE(y, y_hat)\n",
    "    std_err_of_intercept = sqrt(var) * sqrt((1/len(x)) + (mean_x ** 2 / get_tot_diff_with_mean(x)))    \n",
    "    return std_err_of_intercept\n",
    "\n",
    "def get_std_err_of_slope(y, y_hat, x) : \n",
    "    std_err_of_slope = sqrt(get_SSE(y, y_hat)) / sqrt(get_tot_diff_with_mean(x))\n",
    "    return std_err_of_slope\n",
    "\n",
    "def get_y_hat(slope, intercept, x) : \n",
    "    y_hat = [intercept + slope * x for x in x]\n",
    "    return y_hat\n",
    "\n",
    "def get_predicted_value(slope, intercept, given_x) : \n",
    "    predicted_value = intercept + slope * given_x\n",
    "    return predicted_value\n",
    "\n",
    "def get_std_err_of_predicted_value(SSE, x, given_x) : \n",
    "    mean_x = get_mean(x)\n",
    "    std_err_of_predicted_value = SSE * sqrt(1 + (1/len(x)) + (((given_x - mean_x) ** 2) / get_tot_diff_with_mean(x)))\n",
    "    return std_err_of_predicted_value\n",
    "\n",
    "def get_confidence_interval_of_predicted_values(predicted_value, std_err_of_predicted_value, x, alpha=0.95) : \n",
    "    confidence_interval = sp.stats.t.interval(alpha=0.95, df=len(x)-2)\n",
    "    print(std_err_of_predicted_value)\n",
    "    print(predicted_value)\n",
    "    print(confidence_interval)\n",
    "    return (predicted_value + (std_err_of_predicted_value * confidence_interval[0]), predicted_value + (std_err_of_predicted_value * confidence_interval[1]))"
   ]
  },
  {
   "cell_type": "markdown",
   "metadata": {},
   "source": [
    "#### 3.1\n",
    "감독자 직무수행능력 데이터를 이용하여, 식 (3.12)에 주어진 적합식 $\\hat{Y} = 15.3276 + 0.7803 X_1 - 0.0502 X_2$에서의 $X_1$의 계수가 3.5절에서 $X_2$의 계수에 대하여 묘사된 일련의 단순회귀식에 의하여 구해질 수 있음을 보여라."
   ]
  },
  {
   "cell_type": "code",
   "execution_count": 3,
   "metadata": {
    "ExecuteTime": {
     "end_time": "2020-08-17T01:05:21.494629Z",
     "start_time": "2020-08-17T01:05:21.481669Z"
    }
   },
   "outputs": [],
   "source": [
    "performance = pd.read_csv(\"Supervisor_Performance.csv\", sep=\"\\t\")\n",
    "performance.columns = [col.strip() for col in performance.columns]"
   ]
  },
  {
   "cell_type": "code",
   "execution_count": 53,
   "metadata": {
    "ExecuteTime": {
     "end_time": "2020-08-17T01:37:42.156796Z",
     "start_time": "2020-08-17T01:37:42.138871Z"
    }
   },
   "outputs": [
    {
     "data": {
      "text/html": [
       "<div>\n",
       "<style scoped>\n",
       "    .dataframe tbody tr th:only-of-type {\n",
       "        vertical-align: middle;\n",
       "    }\n",
       "\n",
       "    .dataframe tbody tr th {\n",
       "        vertical-align: top;\n",
       "    }\n",
       "\n",
       "    .dataframe thead th {\n",
       "        text-align: right;\n",
       "    }\n",
       "</style>\n",
       "<table border=\"1\" class=\"dataframe\">\n",
       "  <thead>\n",
       "    <tr style=\"text-align: right;\">\n",
       "      <th></th>\n",
       "      <th>Y</th>\n",
       "      <th>X1</th>\n",
       "      <th>X2</th>\n",
       "      <th>X3</th>\n",
       "      <th>X4</th>\n",
       "      <th>X5</th>\n",
       "      <th>X6</th>\n",
       "      <th>W</th>\n",
       "    </tr>\n",
       "  </thead>\n",
       "  <tbody>\n",
       "    <tr>\n",
       "      <th>0</th>\n",
       "      <td>43</td>\n",
       "      <td>51</td>\n",
       "      <td>30</td>\n",
       "      <td>39</td>\n",
       "      <td>61</td>\n",
       "      <td>92</td>\n",
       "      <td>45</td>\n",
       "      <td>90</td>\n",
       "    </tr>\n",
       "    <tr>\n",
       "      <th>1</th>\n",
       "      <td>63</td>\n",
       "      <td>64</td>\n",
       "      <td>51</td>\n",
       "      <td>54</td>\n",
       "      <td>63</td>\n",
       "      <td>73</td>\n",
       "      <td>47</td>\n",
       "      <td>118</td>\n",
       "    </tr>\n",
       "    <tr>\n",
       "      <th>2</th>\n",
       "      <td>71</td>\n",
       "      <td>70</td>\n",
       "      <td>68</td>\n",
       "      <td>69</td>\n",
       "      <td>76</td>\n",
       "      <td>86</td>\n",
       "      <td>48</td>\n",
       "      <td>139</td>\n",
       "    </tr>\n",
       "    <tr>\n",
       "      <th>3</th>\n",
       "      <td>61</td>\n",
       "      <td>63</td>\n",
       "      <td>45</td>\n",
       "      <td>47</td>\n",
       "      <td>54</td>\n",
       "      <td>84</td>\n",
       "      <td>35</td>\n",
       "      <td>110</td>\n",
       "    </tr>\n",
       "    <tr>\n",
       "      <th>4</th>\n",
       "      <td>81</td>\n",
       "      <td>78</td>\n",
       "      <td>56</td>\n",
       "      <td>66</td>\n",
       "      <td>71</td>\n",
       "      <td>83</td>\n",
       "      <td>47</td>\n",
       "      <td>144</td>\n",
       "    </tr>\n",
       "    <tr>\n",
       "      <th>5</th>\n",
       "      <td>43</td>\n",
       "      <td>55</td>\n",
       "      <td>49</td>\n",
       "      <td>44</td>\n",
       "      <td>54</td>\n",
       "      <td>49</td>\n",
       "      <td>34</td>\n",
       "      <td>99</td>\n",
       "    </tr>\n",
       "    <tr>\n",
       "      <th>6</th>\n",
       "      <td>58</td>\n",
       "      <td>67</td>\n",
       "      <td>42</td>\n",
       "      <td>56</td>\n",
       "      <td>66</td>\n",
       "      <td>68</td>\n",
       "      <td>35</td>\n",
       "      <td>123</td>\n",
       "    </tr>\n",
       "    <tr>\n",
       "      <th>7</th>\n",
       "      <td>71</td>\n",
       "      <td>75</td>\n",
       "      <td>50</td>\n",
       "      <td>55</td>\n",
       "      <td>70</td>\n",
       "      <td>66</td>\n",
       "      <td>41</td>\n",
       "      <td>130</td>\n",
       "    </tr>\n",
       "    <tr>\n",
       "      <th>8</th>\n",
       "      <td>72</td>\n",
       "      <td>82</td>\n",
       "      <td>72</td>\n",
       "      <td>67</td>\n",
       "      <td>71</td>\n",
       "      <td>83</td>\n",
       "      <td>31</td>\n",
       "      <td>149</td>\n",
       "    </tr>\n",
       "    <tr>\n",
       "      <th>9</th>\n",
       "      <td>67</td>\n",
       "      <td>61</td>\n",
       "      <td>45</td>\n",
       "      <td>47</td>\n",
       "      <td>62</td>\n",
       "      <td>80</td>\n",
       "      <td>41</td>\n",
       "      <td>108</td>\n",
       "    </tr>\n",
       "    <tr>\n",
       "      <th>10</th>\n",
       "      <td>64</td>\n",
       "      <td>53</td>\n",
       "      <td>53</td>\n",
       "      <td>58</td>\n",
       "      <td>58</td>\n",
       "      <td>67</td>\n",
       "      <td>34</td>\n",
       "      <td>111</td>\n",
       "    </tr>\n",
       "    <tr>\n",
       "      <th>11</th>\n",
       "      <td>67</td>\n",
       "      <td>60</td>\n",
       "      <td>47</td>\n",
       "      <td>39</td>\n",
       "      <td>59</td>\n",
       "      <td>74</td>\n",
       "      <td>41</td>\n",
       "      <td>99</td>\n",
       "    </tr>\n",
       "    <tr>\n",
       "      <th>12</th>\n",
       "      <td>69</td>\n",
       "      <td>62</td>\n",
       "      <td>57</td>\n",
       "      <td>42</td>\n",
       "      <td>55</td>\n",
       "      <td>63</td>\n",
       "      <td>25</td>\n",
       "      <td>104</td>\n",
       "    </tr>\n",
       "    <tr>\n",
       "      <th>13</th>\n",
       "      <td>68</td>\n",
       "      <td>83</td>\n",
       "      <td>83</td>\n",
       "      <td>45</td>\n",
       "      <td>59</td>\n",
       "      <td>77</td>\n",
       "      <td>35</td>\n",
       "      <td>128</td>\n",
       "    </tr>\n",
       "    <tr>\n",
       "      <th>14</th>\n",
       "      <td>77</td>\n",
       "      <td>77</td>\n",
       "      <td>54</td>\n",
       "      <td>72</td>\n",
       "      <td>79</td>\n",
       "      <td>77</td>\n",
       "      <td>46</td>\n",
       "      <td>149</td>\n",
       "    </tr>\n",
       "    <tr>\n",
       "      <th>15</th>\n",
       "      <td>81</td>\n",
       "      <td>90</td>\n",
       "      <td>50</td>\n",
       "      <td>72</td>\n",
       "      <td>60</td>\n",
       "      <td>54</td>\n",
       "      <td>36</td>\n",
       "      <td>162</td>\n",
       "    </tr>\n",
       "    <tr>\n",
       "      <th>16</th>\n",
       "      <td>74</td>\n",
       "      <td>85</td>\n",
       "      <td>64</td>\n",
       "      <td>69</td>\n",
       "      <td>79</td>\n",
       "      <td>79</td>\n",
       "      <td>63</td>\n",
       "      <td>154</td>\n",
       "    </tr>\n",
       "    <tr>\n",
       "      <th>17</th>\n",
       "      <td>65</td>\n",
       "      <td>60</td>\n",
       "      <td>65</td>\n",
       "      <td>75</td>\n",
       "      <td>55</td>\n",
       "      <td>80</td>\n",
       "      <td>60</td>\n",
       "      <td>135</td>\n",
       "    </tr>\n",
       "    <tr>\n",
       "      <th>18</th>\n",
       "      <td>65</td>\n",
       "      <td>70</td>\n",
       "      <td>46</td>\n",
       "      <td>57</td>\n",
       "      <td>75</td>\n",
       "      <td>85</td>\n",
       "      <td>46</td>\n",
       "      <td>127</td>\n",
       "    </tr>\n",
       "    <tr>\n",
       "      <th>19</th>\n",
       "      <td>50</td>\n",
       "      <td>58</td>\n",
       "      <td>68</td>\n",
       "      <td>54</td>\n",
       "      <td>64</td>\n",
       "      <td>78</td>\n",
       "      <td>52</td>\n",
       "      <td>112</td>\n",
       "    </tr>\n",
       "    <tr>\n",
       "      <th>20</th>\n",
       "      <td>50</td>\n",
       "      <td>40</td>\n",
       "      <td>33</td>\n",
       "      <td>34</td>\n",
       "      <td>43</td>\n",
       "      <td>64</td>\n",
       "      <td>33</td>\n",
       "      <td>74</td>\n",
       "    </tr>\n",
       "    <tr>\n",
       "      <th>21</th>\n",
       "      <td>64</td>\n",
       "      <td>61</td>\n",
       "      <td>52</td>\n",
       "      <td>62</td>\n",
       "      <td>66</td>\n",
       "      <td>80</td>\n",
       "      <td>41</td>\n",
       "      <td>123</td>\n",
       "    </tr>\n",
       "    <tr>\n",
       "      <th>22</th>\n",
       "      <td>53</td>\n",
       "      <td>66</td>\n",
       "      <td>52</td>\n",
       "      <td>50</td>\n",
       "      <td>63</td>\n",
       "      <td>80</td>\n",
       "      <td>37</td>\n",
       "      <td>116</td>\n",
       "    </tr>\n",
       "    <tr>\n",
       "      <th>23</th>\n",
       "      <td>40</td>\n",
       "      <td>37</td>\n",
       "      <td>42</td>\n",
       "      <td>58</td>\n",
       "      <td>50</td>\n",
       "      <td>57</td>\n",
       "      <td>49</td>\n",
       "      <td>95</td>\n",
       "    </tr>\n",
       "    <tr>\n",
       "      <th>24</th>\n",
       "      <td>63</td>\n",
       "      <td>54</td>\n",
       "      <td>42</td>\n",
       "      <td>48</td>\n",
       "      <td>66</td>\n",
       "      <td>75</td>\n",
       "      <td>33</td>\n",
       "      <td>102</td>\n",
       "    </tr>\n",
       "    <tr>\n",
       "      <th>25</th>\n",
       "      <td>66</td>\n",
       "      <td>77</td>\n",
       "      <td>66</td>\n",
       "      <td>63</td>\n",
       "      <td>88</td>\n",
       "      <td>76</td>\n",
       "      <td>72</td>\n",
       "      <td>140</td>\n",
       "    </tr>\n",
       "    <tr>\n",
       "      <th>26</th>\n",
       "      <td>78</td>\n",
       "      <td>75</td>\n",
       "      <td>58</td>\n",
       "      <td>74</td>\n",
       "      <td>80</td>\n",
       "      <td>78</td>\n",
       "      <td>49</td>\n",
       "      <td>149</td>\n",
       "    </tr>\n",
       "    <tr>\n",
       "      <th>27</th>\n",
       "      <td>48</td>\n",
       "      <td>57</td>\n",
       "      <td>44</td>\n",
       "      <td>45</td>\n",
       "      <td>51</td>\n",
       "      <td>83</td>\n",
       "      <td>38</td>\n",
       "      <td>102</td>\n",
       "    </tr>\n",
       "    <tr>\n",
       "      <th>28</th>\n",
       "      <td>85</td>\n",
       "      <td>85</td>\n",
       "      <td>71</td>\n",
       "      <td>71</td>\n",
       "      <td>77</td>\n",
       "      <td>74</td>\n",
       "      <td>55</td>\n",
       "      <td>156</td>\n",
       "    </tr>\n",
       "    <tr>\n",
       "      <th>29</th>\n",
       "      <td>82</td>\n",
       "      <td>82</td>\n",
       "      <td>39</td>\n",
       "      <td>59</td>\n",
       "      <td>64</td>\n",
       "      <td>78</td>\n",
       "      <td>39</td>\n",
       "      <td>141</td>\n",
       "    </tr>\n",
       "  </tbody>\n",
       "</table>\n",
       "</div>"
      ],
      "text/plain": [
       "     Y  X1  X2  X3  X4  X5  X6    W\n",
       "0   43  51  30  39  61  92  45   90\n",
       "1   63  64  51  54  63  73  47  118\n",
       "2   71  70  68  69  76  86  48  139\n",
       "3   61  63  45  47  54  84  35  110\n",
       "4   81  78  56  66  71  83  47  144\n",
       "5   43  55  49  44  54  49  34   99\n",
       "6   58  67  42  56  66  68  35  123\n",
       "7   71  75  50  55  70  66  41  130\n",
       "8   72  82  72  67  71  83  31  149\n",
       "9   67  61  45  47  62  80  41  108\n",
       "10  64  53  53  58  58  67  34  111\n",
       "11  67  60  47  39  59  74  41   99\n",
       "12  69  62  57  42  55  63  25  104\n",
       "13  68  83  83  45  59  77  35  128\n",
       "14  77  77  54  72  79  77  46  149\n",
       "15  81  90  50  72  60  54  36  162\n",
       "16  74  85  64  69  79  79  63  154\n",
       "17  65  60  65  75  55  80  60  135\n",
       "18  65  70  46  57  75  85  46  127\n",
       "19  50  58  68  54  64  78  52  112\n",
       "20  50  40  33  34  43  64  33   74\n",
       "21  64  61  52  62  66  80  41  123\n",
       "22  53  66  52  50  63  80  37  116\n",
       "23  40  37  42  58  50  57  49   95\n",
       "24  63  54  42  48  66  75  33  102\n",
       "25  66  77  66  63  88  76  72  140\n",
       "26  78  75  58  74  80  78  49  149\n",
       "27  48  57  44  45  51  83  38  102\n",
       "28  85  85  71  71  77  74  55  156\n",
       "29  82  82  39  59  64  78  39  141"
      ]
     },
     "execution_count": 53,
     "metadata": {},
     "output_type": "execute_result"
    }
   ],
   "source": [
    "performance"
   ]
  },
  {
   "cell_type": "code",
   "execution_count": 54,
   "metadata": {
    "ExecuteTime": {
     "end_time": "2020-08-17T01:38:14.515544Z",
     "start_time": "2020-08-17T01:38:14.482580Z"
    }
   },
   "outputs": [
    {
     "data": {
      "text/html": [
       "<table class=\"simpletable\">\n",
       "<caption>OLS Regression Results</caption>\n",
       "<tr>\n",
       "  <th>Dep. Variable:</th>            <td>Y</td>        <th>  R-squared:         </th> <td>   0.733</td>\n",
       "</tr>\n",
       "<tr>\n",
       "  <th>Model:</th>                   <td>OLS</td>       <th>  Adj. R-squared:    </th> <td>   0.663</td>\n",
       "</tr>\n",
       "<tr>\n",
       "  <th>Method:</th>             <td>Least Squares</td>  <th>  F-statistic:       </th> <td>   10.50</td>\n",
       "</tr>\n",
       "<tr>\n",
       "  <th>Date:</th>             <td>Mon, 17 Aug 2020</td> <th>  Prob (F-statistic):</th> <td>1.24e-05</td>\n",
       "</tr>\n",
       "<tr>\n",
       "  <th>Time:</th>                 <td>10:38:14</td>     <th>  Log-Likelihood:    </th> <td> -97.250</td>\n",
       "</tr>\n",
       "<tr>\n",
       "  <th>No. Observations:</th>      <td>    30</td>      <th>  AIC:               </th> <td>   208.5</td>\n",
       "</tr>\n",
       "<tr>\n",
       "  <th>Df Residuals:</th>          <td>    23</td>      <th>  BIC:               </th> <td>   218.3</td>\n",
       "</tr>\n",
       "<tr>\n",
       "  <th>Df Model:</th>              <td>     6</td>      <th>                     </th>     <td> </td>   \n",
       "</tr>\n",
       "<tr>\n",
       "  <th>Covariance Type:</th>      <td>nonrobust</td>    <th>                     </th>     <td> </td>   \n",
       "</tr>\n",
       "</table>\n",
       "<table class=\"simpletable\">\n",
       "<tr>\n",
       "      <td></td>         <th>coef</th>     <th>std err</th>      <th>t</th>      <th>P>|t|</th>  <th>[0.025</th>    <th>0.975]</th>  \n",
       "</tr>\n",
       "<tr>\n",
       "  <th>Intercept</th> <td>   10.7871</td> <td>   11.589</td> <td>    0.931</td> <td> 0.362</td> <td>  -13.187</td> <td>   34.761</td>\n",
       "</tr>\n",
       "<tr>\n",
       "  <th>X1</th>        <td>    0.6132</td> <td>    0.161</td> <td>    3.809</td> <td> 0.001</td> <td>    0.280</td> <td>    0.946</td>\n",
       "</tr>\n",
       "<tr>\n",
       "  <th>X2</th>        <td>   -0.0731</td> <td>    0.136</td> <td>   -0.538</td> <td> 0.596</td> <td>   -0.354</td> <td>    0.208</td>\n",
       "</tr>\n",
       "<tr>\n",
       "  <th>X3</th>        <td>    0.3203</td> <td>    0.169</td> <td>    1.901</td> <td> 0.070</td> <td>   -0.028</td> <td>    0.669</td>\n",
       "</tr>\n",
       "<tr>\n",
       "  <th>X4</th>        <td>    0.0817</td> <td>    0.221</td> <td>    0.369</td> <td> 0.715</td> <td>   -0.376</td> <td>    0.540</td>\n",
       "</tr>\n",
       "<tr>\n",
       "  <th>X5</th>        <td>    0.0384</td> <td>    0.147</td> <td>    0.261</td> <td> 0.796</td> <td>   -0.266</td> <td>    0.342</td>\n",
       "</tr>\n",
       "<tr>\n",
       "  <th>X6</th>        <td>   -0.2171</td> <td>    0.178</td> <td>   -1.218</td> <td> 0.236</td> <td>   -0.586</td> <td>    0.152</td>\n",
       "</tr>\n",
       "</table>\n",
       "<table class=\"simpletable\">\n",
       "<tr>\n",
       "  <th>Omnibus:</th>       <td> 2.386</td> <th>  Durbin-Watson:     </th> <td>   1.795</td>\n",
       "</tr>\n",
       "<tr>\n",
       "  <th>Prob(Omnibus):</th> <td> 0.303</td> <th>  Jarque-Bera (JB):  </th> <td>   1.255</td>\n",
       "</tr>\n",
       "<tr>\n",
       "  <th>Skew:</th>          <td>-0.081</td> <th>  Prob(JB):          </th> <td>   0.534</td>\n",
       "</tr>\n",
       "<tr>\n",
       "  <th>Kurtosis:</th>      <td> 2.011</td> <th>  Cond. No.          </th> <td>1.34e+03</td>\n",
       "</tr>\n",
       "</table><br/><br/>Warnings:<br/>[1] Standard Errors assume that the covariance matrix of the errors is correctly specified.<br/>[2] The condition number is large, 1.34e+03. This might indicate that there are<br/>strong multicollinearity or other numerical problems."
      ],
      "text/plain": [
       "<class 'statsmodels.iolib.summary.Summary'>\n",
       "\"\"\"\n",
       "                            OLS Regression Results                            \n",
       "==============================================================================\n",
       "Dep. Variable:                      Y   R-squared:                       0.733\n",
       "Model:                            OLS   Adj. R-squared:                  0.663\n",
       "Method:                 Least Squares   F-statistic:                     10.50\n",
       "Date:                Mon, 17 Aug 2020   Prob (F-statistic):           1.24e-05\n",
       "Time:                        10:38:14   Log-Likelihood:                -97.250\n",
       "No. Observations:                  30   AIC:                             208.5\n",
       "Df Residuals:                      23   BIC:                             218.3\n",
       "Df Model:                           6                                         \n",
       "Covariance Type:            nonrobust                                         \n",
       "==============================================================================\n",
       "                 coef    std err          t      P>|t|      [0.025      0.975]\n",
       "------------------------------------------------------------------------------\n",
       "Intercept     10.7871     11.589      0.931      0.362     -13.187      34.761\n",
       "X1             0.6132      0.161      3.809      0.001       0.280       0.946\n",
       "X2            -0.0731      0.136     -0.538      0.596      -0.354       0.208\n",
       "X3             0.3203      0.169      1.901      0.070      -0.028       0.669\n",
       "X4             0.0817      0.221      0.369      0.715      -0.376       0.540\n",
       "X5             0.0384      0.147      0.261      0.796      -0.266       0.342\n",
       "X6            -0.2171      0.178     -1.218      0.236      -0.586       0.152\n",
       "==============================================================================\n",
       "Omnibus:                        2.386   Durbin-Watson:                   1.795\n",
       "Prob(Omnibus):                  0.303   Jarque-Bera (JB):                1.255\n",
       "Skew:                          -0.081   Prob(JB):                        0.534\n",
       "Kurtosis:                       2.011   Cond. No.                     1.34e+03\n",
       "==============================================================================\n",
       "\n",
       "Warnings:\n",
       "[1] Standard Errors assume that the covariance matrix of the errors is correctly specified.\n",
       "[2] The condition number is large, 1.34e+03. This might indicate that there are\n",
       "strong multicollinearity or other numerical problems.\n",
       "\"\"\""
      ]
     },
     "execution_count": 54,
     "metadata": {},
     "output_type": "execute_result"
    }
   ],
   "source": [
    "performance_model = smf.ols(data=performance, formula=\"Y ~ X1 + X2 + X3 + X4 + X5 + X6\")\n",
    "result = performance_model.fit()\n",
    "result.summary()"
   ]
  },
  {
   "cell_type": "code",
   "execution_count": 4,
   "metadata": {
    "ExecuteTime": {
     "end_time": "2020-08-17T01:05:21.505600Z",
     "start_time": "2020-08-17T01:05:21.495628Z"
    }
   },
   "outputs": [
    {
     "name": "stdout",
     "output_type": "stream",
     "text": [
      "0.754609818719365\n",
      "14.37631940662363\n"
     ]
    }
   ],
   "source": [
    "# y hat과 x_1의 회귀방정식 구하기\n",
    "slope = get_slope(x=performance[\"X1 \"], y=performance[\"Y \"])\n",
    "intercept = get_intercept(x=performance[\"X1 \"], y=performance[\"Y \"])\n",
    "print(slope)\n",
    "print(intercept)\n",
    "y_hat = get_y_hat(slope=slope, intercept=intercept, x=performance[\"X1 \"])\n",
    "res_err_btw_y_and_x1 = [y-predicted_value for y, predicted_value in zip(performance[\"Y \"], y_hat)]"
   ]
  },
  {
   "cell_type": "code",
   "execution_count": 5,
   "metadata": {
    "ExecuteTime": {
     "end_time": "2020-08-17T01:05:21.513580Z",
     "start_time": "2020-08-17T01:05:21.508593Z"
    },
    "code_folding": []
   },
   "outputs": [
    {
     "name": "stdout",
     "output_type": "stream",
     "text": [
      "0.5130319769703571\n",
      "18.96540366710755\n"
     ]
    }
   ],
   "source": [
    "# x1과 x2의 회귀 방정식 구하기\n",
    "slope = get_slope(x=performance[\"X1 \"], y=performance[\"X2 \"])\n",
    "intercept = get_intercept(x=performance[\"X1 \"], y=performance[\"X2 \"])\n",
    "print(slope)\n",
    "print(intercept)\n",
    "y_hat = get_y_hat(slope=slope, intercept=intercept, x=performance[\"X1 \"])\n",
    "res_err_btw_x1_and_x2 = [y-predicted_value for y, predicted_value in zip(performance[\"X2 \"], y_hat)]"
   ]
  },
  {
   "cell_type": "code",
   "execution_count": 6,
   "metadata": {
    "ExecuteTime": {
     "end_time": "2020-08-17T01:05:21.521559Z",
     "start_time": "2020-08-17T01:05:21.515576Z"
    }
   },
   "outputs": [
    {
     "name": "stdout",
     "output_type": "stream",
     "text": [
      "-0.050159795205249866\n",
      "-1.108431528942783e-14\n"
     ]
    }
   ],
   "source": [
    "# y에 대한 x1의 잔차와 x2에 대한 x1의 잔차의 회귀방정 식 구하기\n",
    "slope = get_slope(x=res_err_btw_x1_and_x2, y=res_err_btw_y_and_x1)\n",
    "intercept = get_intercept(x=res_err_btw_x1_and_x2, y=res_err_btw_y_and_x1)\n",
    "print(slope)\n",
    "print(intercept)\n",
    "y_hat = get_y_hat(slope=slope, intercept=intercept, x=res_err_btw_x1_and_x2)\n",
    "res_err_btw_yx1_and_x2x1 = [y-predicted_value for y, predicted_value in zip(res_err_btw_y_and_x1, y_hat)]"
   ]
  },
  {
   "cell_type": "markdown",
   "metadata": {},
   "source": [
    "#### 3.3\n",
    "표 3.10은 통계학 과목을 수강한 22명의 학생들에 대하여 기말시험 성적 F와 두 번의 기초 시험 성적 P1, P2를 보여준다. "
   ]
  },
  {
   "cell_type": "code",
   "execution_count": 7,
   "metadata": {
    "ExecuteTime": {
     "end_time": "2020-08-17T01:05:21.533529Z",
     "start_time": "2020-08-17T01:05:21.522555Z"
    }
   },
   "outputs": [],
   "source": [
    "examination = pd.read_csv(\"Examination_Data.csv\", sep=\"\\t\")"
   ]
  },
  {
   "cell_type": "code",
   "execution_count": 9,
   "metadata": {
    "ExecuteTime": {
     "end_time": "2020-08-17T01:05:21.628273Z",
     "start_time": "2020-08-17T01:05:21.551481Z"
    }
   },
   "outputs": [
    {
     "data": {
      "text/html": [
       "<table class=\"simpletable\">\n",
       "<caption>OLS Regression Results</caption>\n",
       "<tr>\n",
       "  <th>Dep. Variable:</th>            <td>F</td>        <th>  R-squared:         </th> <td>   0.802</td>\n",
       "</tr>\n",
       "<tr>\n",
       "  <th>Model:</th>                   <td>OLS</td>       <th>  Adj. R-squared:    </th> <td>   0.792</td>\n",
       "</tr>\n",
       "<tr>\n",
       "  <th>Method:</th>             <td>Least Squares</td>  <th>  F-statistic:       </th> <td>   81.14</td>\n",
       "</tr>\n",
       "<tr>\n",
       "  <th>Date:</th>             <td>Mon, 17 Aug 2020</td> <th>  Prob (F-statistic):</th> <td>1.78e-08</td>\n",
       "</tr>\n",
       "<tr>\n",
       "  <th>Time:</th>                 <td>10:05:21</td>     <th>  Log-Likelihood:    </th> <td> -65.930</td>\n",
       "</tr>\n",
       "<tr>\n",
       "  <th>No. Observations:</th>      <td>    22</td>      <th>  AIC:               </th> <td>   135.9</td>\n",
       "</tr>\n",
       "<tr>\n",
       "  <th>Df Residuals:</th>          <td>    20</td>      <th>  BIC:               </th> <td>   138.0</td>\n",
       "</tr>\n",
       "<tr>\n",
       "  <th>Df Model:</th>              <td>     1</td>      <th>                     </th>     <td> </td>   \n",
       "</tr>\n",
       "<tr>\n",
       "  <th>Covariance Type:</th>      <td>nonrobust</td>    <th>                     </th>     <td> </td>   \n",
       "</tr>\n",
       "</table>\n",
       "<table class=\"simpletable\">\n",
       "<tr>\n",
       "      <td></td>         <th>coef</th>     <th>std err</th>      <th>t</th>      <th>P>|t|</th>  <th>[0.025</th>    <th>0.975]</th>  \n",
       "</tr>\n",
       "<tr>\n",
       "  <th>Intercept</th> <td>  -22.3424</td> <td>   11.564</td> <td>   -1.932</td> <td> 0.068</td> <td>  -46.464</td> <td>    1.780</td>\n",
       "</tr>\n",
       "<tr>\n",
       "  <th>P1</th>        <td>    1.2605</td> <td>    0.140</td> <td>    9.008</td> <td> 0.000</td> <td>    0.969</td> <td>    1.552</td>\n",
       "</tr>\n",
       "</table>\n",
       "<table class=\"simpletable\">\n",
       "<tr>\n",
       "  <th>Omnibus:</th>       <td> 1.630</td> <th>  Durbin-Watson:     </th> <td>   1.604</td>\n",
       "</tr>\n",
       "<tr>\n",
       "  <th>Prob(Omnibus):</th> <td> 0.443</td> <th>  Jarque-Bera (JB):  </th> <td>   1.284</td>\n",
       "</tr>\n",
       "<tr>\n",
       "  <th>Skew:</th>          <td>-0.402</td> <th>  Prob(JB):          </th> <td>   0.526</td>\n",
       "</tr>\n",
       "<tr>\n",
       "  <th>Kurtosis:</th>      <td> 2.131</td> <th>  Cond. No.          </th> <td>    882.</td>\n",
       "</tr>\n",
       "</table><br/><br/>Warnings:<br/>[1] Standard Errors assume that the covariance matrix of the errors is correctly specified."
      ],
      "text/plain": [
       "<class 'statsmodels.iolib.summary.Summary'>\n",
       "\"\"\"\n",
       "                            OLS Regression Results                            \n",
       "==============================================================================\n",
       "Dep. Variable:                      F   R-squared:                       0.802\n",
       "Model:                            OLS   Adj. R-squared:                  0.792\n",
       "Method:                 Least Squares   F-statistic:                     81.14\n",
       "Date:                Mon, 17 Aug 2020   Prob (F-statistic):           1.78e-08\n",
       "Time:                        10:05:21   Log-Likelihood:                -65.930\n",
       "No. Observations:                  22   AIC:                             135.9\n",
       "Df Residuals:                      20   BIC:                             138.0\n",
       "Df Model:                           1                                         \n",
       "Covariance Type:            nonrobust                                         \n",
       "==============================================================================\n",
       "                 coef    std err          t      P>|t|      [0.025      0.975]\n",
       "------------------------------------------------------------------------------\n",
       "Intercept    -22.3424     11.564     -1.932      0.068     -46.464       1.780\n",
       "P1             1.2605      0.140      9.008      0.000       0.969       1.552\n",
       "==============================================================================\n",
       "Omnibus:                        1.630   Durbin-Watson:                   1.604\n",
       "Prob(Omnibus):                  0.443   Jarque-Bera (JB):                1.284\n",
       "Skew:                          -0.402   Prob(JB):                        0.526\n",
       "Kurtosis:                       2.131   Cond. No.                         882.\n",
       "==============================================================================\n",
       "\n",
       "Warnings:\n",
       "[1] Standard Errors assume that the covariance matrix of the errors is correctly specified.\n",
       "\"\"\""
      ]
     },
     "execution_count": 9,
     "metadata": {},
     "output_type": "execute_result"
    }
   ],
   "source": [
    "#(a) 데이터에 다음의 모형들 각각을 적합하여라\n",
    "exam_model_1 = smf.ols(formula=\"F ~ P1\", data=examination)\n",
    "result_1 = exam_model_1.fit()\n",
    "result_1.summary()"
   ]
  },
  {
   "cell_type": "code",
   "execution_count": 10,
   "metadata": {
    "ExecuteTime": {
     "end_time": "2020-08-17T01:05:21.656199Z",
     "start_time": "2020-08-17T01:05:21.629270Z"
    }
   },
   "outputs": [
    {
     "data": {
      "text/html": [
       "<table class=\"simpletable\">\n",
       "<caption>OLS Regression Results</caption>\n",
       "<tr>\n",
       "  <th>Dep. Variable:</th>            <td>F</td>        <th>  R-squared:         </th> <td>   0.860</td>\n",
       "</tr>\n",
       "<tr>\n",
       "  <th>Model:</th>                   <td>OLS</td>       <th>  Adj. R-squared:    </th> <td>   0.853</td>\n",
       "</tr>\n",
       "<tr>\n",
       "  <th>Method:</th>             <td>Least Squares</td>  <th>  F-statistic:       </th> <td>   122.9</td>\n",
       "</tr>\n",
       "<tr>\n",
       "  <th>Date:</th>             <td>Mon, 17 Aug 2020</td> <th>  Prob (F-statistic):</th> <td>5.44e-10</td>\n",
       "</tr>\n",
       "<tr>\n",
       "  <th>Time:</th>                 <td>10:05:21</td>     <th>  Log-Likelihood:    </th> <td> -62.128</td>\n",
       "</tr>\n",
       "<tr>\n",
       "  <th>No. Observations:</th>      <td>    22</td>      <th>  AIC:               </th> <td>   128.3</td>\n",
       "</tr>\n",
       "<tr>\n",
       "  <th>Df Residuals:</th>          <td>    20</td>      <th>  BIC:               </th> <td>   130.4</td>\n",
       "</tr>\n",
       "<tr>\n",
       "  <th>Df Model:</th>              <td>     1</td>      <th>                     </th>     <td> </td>   \n",
       "</tr>\n",
       "<tr>\n",
       "  <th>Covariance Type:</th>      <td>nonrobust</td>    <th>                     </th>     <td> </td>   \n",
       "</tr>\n",
       "</table>\n",
       "<table class=\"simpletable\">\n",
       "<tr>\n",
       "      <td></td>         <th>coef</th>     <th>std err</th>      <th>t</th>      <th>P>|t|</th>  <th>[0.025</th>    <th>0.975]</th>  \n",
       "</tr>\n",
       "<tr>\n",
       "  <th>Intercept</th> <td>   -1.8535</td> <td>    7.562</td> <td>   -0.245</td> <td> 0.809</td> <td>  -17.627</td> <td>   13.920</td>\n",
       "</tr>\n",
       "<tr>\n",
       "  <th>P2</th>        <td>    1.0043</td> <td>    0.091</td> <td>   11.086</td> <td> 0.000</td> <td>    0.815</td> <td>    1.193</td>\n",
       "</tr>\n",
       "</table>\n",
       "<table class=\"simpletable\">\n",
       "<tr>\n",
       "  <th>Omnibus:</th>       <td> 2.902</td> <th>  Durbin-Watson:     </th> <td>   2.064</td>\n",
       "</tr>\n",
       "<tr>\n",
       "  <th>Prob(Omnibus):</th> <td> 0.234</td> <th>  Jarque-Bera (JB):  </th> <td>   1.397</td>\n",
       "</tr>\n",
       "<tr>\n",
       "  <th>Skew:</th>          <td>-0.558</td> <th>  Prob(JB):          </th> <td>   0.497</td>\n",
       "</tr>\n",
       "<tr>\n",
       "  <th>Kurtosis:</th>      <td> 3.529</td> <th>  Cond. No.          </th> <td>    693.</td>\n",
       "</tr>\n",
       "</table><br/><br/>Warnings:<br/>[1] Standard Errors assume that the covariance matrix of the errors is correctly specified."
      ],
      "text/plain": [
       "<class 'statsmodels.iolib.summary.Summary'>\n",
       "\"\"\"\n",
       "                            OLS Regression Results                            \n",
       "==============================================================================\n",
       "Dep. Variable:                      F   R-squared:                       0.860\n",
       "Model:                            OLS   Adj. R-squared:                  0.853\n",
       "Method:                 Least Squares   F-statistic:                     122.9\n",
       "Date:                Mon, 17 Aug 2020   Prob (F-statistic):           5.44e-10\n",
       "Time:                        10:05:21   Log-Likelihood:                -62.128\n",
       "No. Observations:                  22   AIC:                             128.3\n",
       "Df Residuals:                      20   BIC:                             130.4\n",
       "Df Model:                           1                                         \n",
       "Covariance Type:            nonrobust                                         \n",
       "==============================================================================\n",
       "                 coef    std err          t      P>|t|      [0.025      0.975]\n",
       "------------------------------------------------------------------------------\n",
       "Intercept     -1.8535      7.562     -0.245      0.809     -17.627      13.920\n",
       "P2             1.0043      0.091     11.086      0.000       0.815       1.193\n",
       "==============================================================================\n",
       "Omnibus:                        2.902   Durbin-Watson:                   2.064\n",
       "Prob(Omnibus):                  0.234   Jarque-Bera (JB):                1.397\n",
       "Skew:                          -0.558   Prob(JB):                        0.497\n",
       "Kurtosis:                       3.529   Cond. No.                         693.\n",
       "==============================================================================\n",
       "\n",
       "Warnings:\n",
       "[1] Standard Errors assume that the covariance matrix of the errors is correctly specified.\n",
       "\"\"\""
      ]
     },
     "execution_count": 10,
     "metadata": {},
     "output_type": "execute_result"
    }
   ],
   "source": [
    "#(a) 데이터에 다음의 모형들 각각을 적합하여라\n",
    "exam_model_2 = smf.ols(formula=\"F ~ P2\", data=examination)\n",
    "result_2 = exam_model_2.fit()\n",
    "result_2.summary()"
   ]
  },
  {
   "cell_type": "code",
   "execution_count": 11,
   "metadata": {
    "ExecuteTime": {
     "end_time": "2020-08-17T01:05:21.690108Z",
     "start_time": "2020-08-17T01:05:21.658194Z"
    },
    "scrolled": false
   },
   "outputs": [
    {
     "data": {
      "text/html": [
       "<table class=\"simpletable\">\n",
       "<caption>OLS Regression Results</caption>\n",
       "<tr>\n",
       "  <th>Dep. Variable:</th>            <td>F</td>        <th>  R-squared:         </th> <td>   0.886</td>\n",
       "</tr>\n",
       "<tr>\n",
       "  <th>Model:</th>                   <td>OLS</td>       <th>  Adj. R-squared:    </th> <td>   0.874</td>\n",
       "</tr>\n",
       "<tr>\n",
       "  <th>Method:</th>             <td>Least Squares</td>  <th>  F-statistic:       </th> <td>   74.07</td>\n",
       "</tr>\n",
       "<tr>\n",
       "  <th>Date:</th>             <td>Mon, 17 Aug 2020</td> <th>  Prob (F-statistic):</th> <td>1.07e-09</td>\n",
       "</tr>\n",
       "<tr>\n",
       "  <th>Time:</th>                 <td>10:05:21</td>     <th>  Log-Likelihood:    </th> <td> -59.840</td>\n",
       "</tr>\n",
       "<tr>\n",
       "  <th>No. Observations:</th>      <td>    22</td>      <th>  AIC:               </th> <td>   125.7</td>\n",
       "</tr>\n",
       "<tr>\n",
       "  <th>Df Residuals:</th>          <td>    19</td>      <th>  BIC:               </th> <td>   129.0</td>\n",
       "</tr>\n",
       "<tr>\n",
       "  <th>Df Model:</th>              <td>     2</td>      <th>                     </th>     <td> </td>   \n",
       "</tr>\n",
       "<tr>\n",
       "  <th>Covariance Type:</th>      <td>nonrobust</td>    <th>                     </th>     <td> </td>   \n",
       "</tr>\n",
       "</table>\n",
       "<table class=\"simpletable\">\n",
       "<tr>\n",
       "      <td></td>         <th>coef</th>     <th>std err</th>      <th>t</th>      <th>P>|t|</th>  <th>[0.025</th>    <th>0.975]</th>  \n",
       "</tr>\n",
       "<tr>\n",
       "  <th>Intercept</th> <td>  -14.5005</td> <td>    9.236</td> <td>   -1.570</td> <td> 0.133</td> <td>  -33.831</td> <td>    4.830</td>\n",
       "</tr>\n",
       "<tr>\n",
       "  <th>P1</th>        <td>    0.4883</td> <td>    0.233</td> <td>    2.096</td> <td> 0.050</td> <td>    0.001</td> <td>    0.976</td>\n",
       "</tr>\n",
       "<tr>\n",
       "  <th>P2</th>        <td>    0.6720</td> <td>    0.179</td> <td>    3.748</td> <td> 0.001</td> <td>    0.297</td> <td>    1.047</td>\n",
       "</tr>\n",
       "</table>\n",
       "<table class=\"simpletable\">\n",
       "<tr>\n",
       "  <th>Omnibus:</th>       <td> 0.910</td> <th>  Durbin-Watson:     </th> <td>   1.778</td>\n",
       "</tr>\n",
       "<tr>\n",
       "  <th>Prob(Omnibus):</th> <td> 0.634</td> <th>  Jarque-Bera (JB):  </th> <td>   0.703</td>\n",
       "</tr>\n",
       "<tr>\n",
       "  <th>Skew:</th>          <td>-0.410</td> <th>  Prob(JB):          </th> <td>   0.704</td>\n",
       "</tr>\n",
       "<tr>\n",
       "  <th>Kurtosis:</th>      <td> 2.696</td> <th>  Cond. No.          </th> <td>1.29e+03</td>\n",
       "</tr>\n",
       "</table><br/><br/>Warnings:<br/>[1] Standard Errors assume that the covariance matrix of the errors is correctly specified.<br/>[2] The condition number is large, 1.29e+03. This might indicate that there are<br/>strong multicollinearity or other numerical problems."
      ],
      "text/plain": [
       "<class 'statsmodels.iolib.summary.Summary'>\n",
       "\"\"\"\n",
       "                            OLS Regression Results                            \n",
       "==============================================================================\n",
       "Dep. Variable:                      F   R-squared:                       0.886\n",
       "Model:                            OLS   Adj. R-squared:                  0.874\n",
       "Method:                 Least Squares   F-statistic:                     74.07\n",
       "Date:                Mon, 17 Aug 2020   Prob (F-statistic):           1.07e-09\n",
       "Time:                        10:05:21   Log-Likelihood:                -59.840\n",
       "No. Observations:                  22   AIC:                             125.7\n",
       "Df Residuals:                      19   BIC:                             129.0\n",
       "Df Model:                           2                                         \n",
       "Covariance Type:            nonrobust                                         \n",
       "==============================================================================\n",
       "                 coef    std err          t      P>|t|      [0.025      0.975]\n",
       "------------------------------------------------------------------------------\n",
       "Intercept    -14.5005      9.236     -1.570      0.133     -33.831       4.830\n",
       "P1             0.4883      0.233      2.096      0.050       0.001       0.976\n",
       "P2             0.6720      0.179      3.748      0.001       0.297       1.047\n",
       "==============================================================================\n",
       "Omnibus:                        0.910   Durbin-Watson:                   1.778\n",
       "Prob(Omnibus):                  0.634   Jarque-Bera (JB):                0.703\n",
       "Skew:                          -0.410   Prob(JB):                        0.704\n",
       "Kurtosis:                       2.696   Cond. No.                     1.29e+03\n",
       "==============================================================================\n",
       "\n",
       "Warnings:\n",
       "[1] Standard Errors assume that the covariance matrix of the errors is correctly specified.\n",
       "[2] The condition number is large, 1.29e+03. This might indicate that there are\n",
       "strong multicollinearity or other numerical problems.\n",
       "\"\"\""
      ]
     },
     "execution_count": 11,
     "metadata": {},
     "output_type": "execute_result"
    }
   ],
   "source": [
    "#(a) 데이터에 다음의 모형들 각각을 적합하여라\n",
    "exam_model_3 = smf.ols(formula=\"F ~ P1 + P2\", data=examination)\n",
    "result_3 = exam_model_3.fit()\n",
    "result_3.summary()"
   ]
  },
  {
   "cell_type": "code",
   "execution_count": 12,
   "metadata": {
    "ExecuteTime": {
     "end_time": "2020-08-17T01:05:21.696092Z",
     "start_time": "2020-08-17T01:05:21.691106Z"
    }
   },
   "outputs": [],
   "source": [
    "#(b) 세 모형에 각각에 대하여 B0 = 0를 검정하여라"
   ]
  },
  {
   "cell_type": "markdown",
   "metadata": {},
   "source": [
    "$t_{(20, 0.025)} = 2.086$  \n",
    "$F = B_0 + B_1P_1 + \\epsilon$\n",
    "- $B_0$의 p-value는 0.068 < 2.08 이므로 기각할 수 없다.\n",
    "\n",
    "$F = B_0 + B_2P_2 + \\epsilon$\n",
    "- $B_0$의 p-value는 0.809 < 2.08 이므로 기각할 수 없다.\n",
    "\n",
    "$F = B_0 + B_1P_1 + B_2P_2 + \\epsilon$\n",
    "- $B_0$의 p-value는 0.133 < 2.08 이므로 기각할 수 없다."
   ]
  },
  {
   "cell_type": "code",
   "execution_count": 13,
   "metadata": {
    "ExecuteTime": {
     "end_time": "2020-08-17T01:05:21.702075Z",
     "start_time": "2020-08-17T01:05:21.699085Z"
    }
   },
   "outputs": [],
   "source": [
    "#(c) 개별적으로 P1과 P2 중 어느 것이 F에 대하여 더 좋은 예측 변수 인가? P2의 회귀계수가 크고, p-value 또한 매우 작아 P2가 더 좋은 변수이다."
   ]
  },
  {
   "cell_type": "code",
   "execution_count": 14,
   "metadata": {
    "ExecuteTime": {
     "end_time": "2020-08-17T01:05:21.709056Z",
     "start_time": "2020-08-17T01:05:21.704071Z"
    }
   },
   "outputs": [
    {
     "data": {
      "text/plain": [
       "80.51400000000001"
      ]
     },
     "execution_count": 14,
     "metadata": {},
     "output_type": "execute_result"
    }
   ],
   "source": [
    "#(d) 첫 번째와 두 번째 기초 시험 성적이 78, 85점인 학생에 대하여 기말 시험 성적을 예측하기 위하여 어떤 모형을 사용하는 것이 좋은가?\n",
    "# 각 모형에서 사용하는 변수의 수가 다르므로 수정 결정 계수를 사용 - 모형 3이 adjusted R-square가 가장 높으므로 모형 3이 적합\n",
    "0.488*78+0.67*85-14.5"
   ]
  },
  {
   "cell_type": "markdown",
   "metadata": {},
   "source": [
    "#### 3.4 수정된 회귀계수 $R_{a}^2$ 가 음수로 나타나는 단순 또는 다중회귀 데이터의 예를 찾거나 만들어라\n",
    "수정된 회귀계수가 음수로 나타나는 경우는, 데이터 상의 컬럼 수가 로우보다 길 경우에 음수가 나올 수 있다."
   ]
  },
  {
   "cell_type": "markdown",
   "metadata": {},
   "source": [
    "#### 3.5 다음 회귀식들을 비교함으로써 단순과 다중회귀계수 사이의 관계를 살펴볼 수 있다.\n",
    "회귀식들은 책 참조\n",
    "단순과 다중 회귀계수 사이의 관계식 -> 따로 볼 수 있는 곳이 없을까?"
   ]
  },
  {
   "cell_type": "markdown",
   "metadata": {},
   "source": [
    "#### 3.6, 3.7, 3.8, 3.9\n",
    "아이패드 풀이 "
   ]
  },
  {
   "cell_type": "markdown",
   "metadata": {},
   "source": [
    "#### 3.10\n",
    "감독자 직무 능력 평가 데이터를 이용하여, 다음의 각 모형에 대하여 $H_0 : B_1 = B_3 = 0.5$를 검정하여라"
   ]
  },
  {
   "cell_type": "code",
   "execution_count": 33,
   "metadata": {
    "ExecuteTime": {
     "end_time": "2020-08-17T01:13:19.477207Z",
     "start_time": "2020-08-17T01:13:19.473007Z"
    }
   },
   "outputs": [],
   "source": [
    "performance[\"W\"] = performance[\"X1\"] + performance[\"X3\"]"
   ]
  },
  {
   "cell_type": "code",
   "execution_count": 105,
   "metadata": {
    "ExecuteTime": {
     "end_time": "2020-08-17T07:00:38.138395Z",
     "start_time": "2020-08-17T07:00:38.134405Z"
    }
   },
   "outputs": [],
   "source": [
    "performance[\"X7\"] = 0.5 * performance[\"X1\"]"
   ]
  },
  {
   "cell_type": "code",
   "execution_count": 106,
   "metadata": {
    "ExecuteTime": {
     "end_time": "2020-08-17T07:00:44.553819Z",
     "start_time": "2020-08-17T07:00:44.549801Z"
    }
   },
   "outputs": [],
   "source": [
    "performance[\"X8\"] = 0.5 * performance[\"X3\"]"
   ]
  },
  {
   "cell_type": "code",
   "execution_count": 110,
   "metadata": {
    "ExecuteTime": {
     "end_time": "2020-08-17T07:02:15.168524Z",
     "start_time": "2020-08-17T07:02:15.142087Z"
    }
   },
   "outputs": [
    {
     "data": {
      "text/html": [
       "<table class=\"simpletable\">\n",
       "<caption>OLS Regression Results</caption>\n",
       "<tr>\n",
       "  <th>Dep. Variable:</th>            <td>Y</td>        <th>  R-squared:         </th> <td>   0.708</td>\n",
       "</tr>\n",
       "<tr>\n",
       "  <th>Model:</th>                   <td>OLS</td>       <th>  Adj. R-squared:    </th> <td>   0.686</td>\n",
       "</tr>\n",
       "<tr>\n",
       "  <th>Method:</th>             <td>Least Squares</td>  <th>  F-statistic:       </th> <td>   32.74</td>\n",
       "</tr>\n",
       "<tr>\n",
       "  <th>Date:</th>             <td>Mon, 17 Aug 2020</td> <th>  Prob (F-statistic):</th> <td>6.06e-08</td>\n",
       "</tr>\n",
       "<tr>\n",
       "  <th>Time:</th>                 <td>16:02:15</td>     <th>  Log-Likelihood:    </th> <td> -98.569</td>\n",
       "</tr>\n",
       "<tr>\n",
       "  <th>No. Observations:</th>      <td>    30</td>      <th>  AIC:               </th> <td>   203.1</td>\n",
       "</tr>\n",
       "<tr>\n",
       "  <th>Df Residuals:</th>          <td>    27</td>      <th>  BIC:               </th> <td>   207.3</td>\n",
       "</tr>\n",
       "<tr>\n",
       "  <th>Df Model:</th>              <td>     2</td>      <th>                     </th>     <td> </td>   \n",
       "</tr>\n",
       "<tr>\n",
       "  <th>Covariance Type:</th>      <td>nonrobust</td>    <th>                     </th>     <td> </td>   \n",
       "</tr>\n",
       "</table>\n",
       "<table class=\"simpletable\">\n",
       "<tr>\n",
       "      <td></td>         <th>coef</th>     <th>std err</th>      <th>t</th>      <th>P>|t|</th>  <th>[0.025</th>    <th>0.975]</th>  \n",
       "</tr>\n",
       "<tr>\n",
       "  <th>Intercept</th> <td>    9.8709</td> <td>    7.061</td> <td>    1.398</td> <td> 0.174</td> <td>   -4.618</td> <td>   24.359</td>\n",
       "</tr>\n",
       "<tr>\n",
       "  <th>X1</th>        <td>    0.6435</td> <td>    0.118</td> <td>    5.432</td> <td> 0.000</td> <td>    0.400</td> <td>    0.887</td>\n",
       "</tr>\n",
       "<tr>\n",
       "  <th>X3</th>        <td>    0.2112</td> <td>    0.134</td> <td>    1.571</td> <td> 0.128</td> <td>   -0.065</td> <td>    0.487</td>\n",
       "</tr>\n",
       "</table>\n",
       "<table class=\"simpletable\">\n",
       "<tr>\n",
       "  <th>Omnibus:</th>       <td> 6.448</td> <th>  Durbin-Watson:     </th> <td>   1.958</td>\n",
       "</tr>\n",
       "<tr>\n",
       "  <th>Prob(Omnibus):</th> <td> 0.040</td> <th>  Jarque-Bera (JB):  </th> <td>   1.959</td>\n",
       "</tr>\n",
       "<tr>\n",
       "  <th>Skew:</th>          <td>-0.041</td> <th>  Prob(JB):          </th> <td>   0.375</td>\n",
       "</tr>\n",
       "<tr>\n",
       "  <th>Kurtosis:</th>      <td> 1.751</td> <th>  Cond. No.          </th> <td>    503.</td>\n",
       "</tr>\n",
       "</table><br/><br/>Warnings:<br/>[1] Standard Errors assume that the covariance matrix of the errors is correctly specified."
      ],
      "text/plain": [
       "<class 'statsmodels.iolib.summary.Summary'>\n",
       "\"\"\"\n",
       "                            OLS Regression Results                            \n",
       "==============================================================================\n",
       "Dep. Variable:                      Y   R-squared:                       0.708\n",
       "Model:                            OLS   Adj. R-squared:                  0.686\n",
       "Method:                 Least Squares   F-statistic:                     32.74\n",
       "Date:                Mon, 17 Aug 2020   Prob (F-statistic):           6.06e-08\n",
       "Time:                        16:02:15   Log-Likelihood:                -98.569\n",
       "No. Observations:                  30   AIC:                             203.1\n",
       "Df Residuals:                      27   BIC:                             207.3\n",
       "Df Model:                           2                                         \n",
       "Covariance Type:            nonrobust                                         \n",
       "==============================================================================\n",
       "                 coef    std err          t      P>|t|      [0.025      0.975]\n",
       "------------------------------------------------------------------------------\n",
       "Intercept      9.8709      7.061      1.398      0.174      -4.618      24.359\n",
       "X1             0.6435      0.118      5.432      0.000       0.400       0.887\n",
       "X3             0.2112      0.134      1.571      0.128      -0.065       0.487\n",
       "==============================================================================\n",
       "Omnibus:                        6.448   Durbin-Watson:                   1.958\n",
       "Prob(Omnibus):                  0.040   Jarque-Bera (JB):                1.959\n",
       "Skew:                          -0.041   Prob(JB):                        0.375\n",
       "Kurtosis:                       1.751   Cond. No.                         503.\n",
       "==============================================================================\n",
       "\n",
       "Warnings:\n",
       "[1] Standard Errors assume that the covariance matrix of the errors is correctly specified.\n",
       "\"\"\""
      ]
     },
     "execution_count": 110,
     "metadata": {},
     "output_type": "execute_result"
    }
   ],
   "source": [
    "model = smf.ols(formula=\"Y ~ X1 + X3\", data=performance)\n",
    "result = model.fit()\n",
    "result.summary()"
   ]
  },
  {
   "cell_type": "code",
   "execution_count": 112,
   "metadata": {
    "ExecuteTime": {
     "end_time": "2020-08-17T07:02:36.964562Z",
     "start_time": "2020-08-17T07:02:36.957580Z"
    }
   },
   "outputs": [
    {
     "data": {
      "text/plain": [
       "<class 'statsmodels.stats.contrast.ContrastResults'>\n",
       "                             Test for Constraints                             \n",
       "==============================================================================\n",
       "                 coef    std err          t      P>|t|      [0.025      0.975]\n",
       "------------------------------------------------------------------------------\n",
       "c0             0.2112      0.134     -2.149      0.041      -0.065       0.487\n",
       "=============================================================================="
      ]
     },
     "execution_count": 112,
     "metadata": {},
     "output_type": "execute_result"
    }
   ],
   "source": [
    "result.t_test(\"X3=0.5\")"
   ]
  },
  {
   "cell_type": "markdown",
   "metadata": {},
   "source": [
    "- 우선 주어진 귀무가설인 $B_1=B_3=0.5$를 파이썬으로 한 번에 검정할 수 있는 방법은 알지 못하겠다\n",
    "- 하지만 2개의 등호를 쪼개서 볼 수는 있을 것 같다. $B_1=0.5$를 귀무가설로 한다던가\n",
    "- 이런 경우,주어진 귀무가설을 $B_1=0.5, B_3=0.5, B_1=B_3$ 으로 쪼개서 t_test로 보고, 모두 맞을 경우 $B_1=B_3=0.5$가 맞다고 할 수 있는가?"
   ]
  }
 ],
 "metadata": {
  "kernelspec": {
   "display_name": "Python 3",
   "language": "python",
   "name": "python3"
  },
  "language_info": {
   "codemirror_mode": {
    "name": "ipython",
    "version": 3
   },
   "file_extension": ".py",
   "mimetype": "text/x-python",
   "name": "python",
   "nbconvert_exporter": "python",
   "pygments_lexer": "ipython3",
   "version": "3.8.3"
  },
  "toc": {
   "base_numbering": 1,
   "nav_menu": {},
   "number_sections": true,
   "sideBar": true,
   "skip_h1_title": false,
   "title_cell": "Table of Contents",
   "title_sidebar": "Contents",
   "toc_cell": false,
   "toc_position": {},
   "toc_section_display": true,
   "toc_window_display": true
  },
  "varInspector": {
   "cols": {
    "lenName": 16,
    "lenType": 16,
    "lenVar": 40
   },
   "kernels_config": {
    "python": {
     "delete_cmd_postfix": "",
     "delete_cmd_prefix": "del ",
     "library": "var_list.py",
     "varRefreshCmd": "print(var_dic_list())"
    },
    "r": {
     "delete_cmd_postfix": ") ",
     "delete_cmd_prefix": "rm(",
     "library": "var_list.r",
     "varRefreshCmd": "cat(var_dic_list()) "
    }
   },
   "types_to_exclude": [
    "module",
    "function",
    "builtin_function_or_method",
    "instance",
    "_Feature"
   ],
   "window_display": false
  }
 },
 "nbformat": 4,
 "nbformat_minor": 4
}
