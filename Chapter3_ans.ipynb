{
 "cells": [
  {
   "cell_type": "code",
   "execution_count": 1,
   "metadata": {
    "ExecuteTime": {
     "end_time": "2020-08-05T22:12:58.098720Z",
     "start_time": "2020-08-05T22:12:56.402222Z"
    }
   },
   "outputs": [],
   "source": [
    "from functools import reduce\n",
    "from math import sqrt\n",
    "from sklearn import linear_model\n",
    "import numpy as np\n",
    "import pandas as pd\n",
    "import matplotlib\n",
    "import matplotlib.pyplot as plt\n",
    "%matplotlib inline\n",
    "matplotlib.style.use('ggplot')\n",
    "import statsmodels.api as sm\n",
    "import statsmodels.formula.api as smf\n",
    "import scipy as sp"
   ]
  },
  {
   "cell_type": "code",
   "execution_count": 2,
   "metadata": {
    "ExecuteTime": {
     "end_time": "2020-08-05T22:12:58.125230Z",
     "start_time": "2020-08-05T22:12:58.109631Z"
    },
    "code_folding": [
     0
    ]
   },
   "outputs": [],
   "source": [
    "#(c)\n",
    "def standardization(x, mean, std) : \n",
    "    return (x-mean)/std\n",
    "\n",
    "def get_tot_diff_with_mean(x) : \n",
    "    mean_x = get_mean(x)\n",
    "    return sum(map(lambda x : (x - mean_x) ** 2, x))\n",
    "\n",
    "def get_mean(x) : \n",
    "    return (reduce(lambda value_x1, value_x2 : value_x1 + value_x2, x))/len(x)\n",
    "\n",
    "def get_var(x) : \n",
    "    return get_tot_diff_with_mean(x)/len(x)\n",
    "\n",
    "def get_std(x) : \n",
    "    return sqrt(get_tot_diff_with_mean(x)/(len(x) - 1))\n",
    "\n",
    "def get_cov(x, y) : \n",
    "    mean_x = get_mean(x)\n",
    "    mean_y = get_mean(y)\n",
    "    sum_of_diff = sum(map(lambda value_x, value_y: (value_x-mean_x)*(value_y-mean_y), x, y))\n",
    "    return sum_of_diff / (len(x) - 1)\n",
    "\n",
    "def get_cor(x, y) : \n",
    "    return get_cov(x, y) / (get_std(x) * get_std(y))\n",
    "\n",
    "def get_SSE(y, y_hat) :\n",
    "    return sum(map(lambda value_y, value_y_hat : (value_y-value_y_hat) ** 2, y, y_hat)) / (len(y) - 2)\n",
    "\n",
    "def get_slope(x, y) : \n",
    "    mean_x = get_mean(x)\n",
    "    mean_y = get_mean(y)\n",
    "    return sum(map(lambda value_x, value_y : (value_x - mean_x) * (value_y - mean_y), x, y)) / get_tot_diff_with_mean(x)\n",
    "\n",
    "def get_intercept(x, y) : \n",
    "    return get_mean(y) - (get_slope(x, y) * get_mean(x))\n",
    "\n",
    "def get_SST(y) : \n",
    "    return get_tot_diff_with_mean(y)\n",
    "\n",
    "def get_R_sqr(y, y_hat) : \n",
    "    return 1 - (get_SSE(y, y_hat)/get_SST(y))\n",
    "\n",
    "def get_std_err_of_intercept(y, y_hat, x) : \n",
    "    mean_x = get_mean(x)\n",
    "    var = get_SSE(y, y_hat)\n",
    "    std_err_of_intercept = sqrt(var) * sqrt((1/len(x)) + (mean_x ** 2 / get_tot_diff_with_mean(x)))    \n",
    "    return std_err_of_intercept\n",
    "\n",
    "def get_std_err_of_slope(y, y_hat, x) : \n",
    "    std_err_of_slope = sqrt(get_SSE(y, y_hat)) / sqrt(get_tot_diff_with_mean(x))\n",
    "    return std_err_of_slope\n",
    "\n",
    "def get_y_hat(slope, intercept, x) : \n",
    "    y_hat = [intercept + slope * x for x in x]\n",
    "    return y_hat\n",
    "\n",
    "def get_predicted_value(slope, intercept, given_x) : \n",
    "    predicted_value = intercept + slope * given_x\n",
    "    return predicted_value\n",
    "\n",
    "def get_std_err_of_predicted_value(SSE, x, given_x) : \n",
    "    mean_x = get_mean(x)\n",
    "    std_err_of_predicted_value = SSE * sqrt(1 + (1/len(x)) + (((given_x - mean_x) ** 2) / get_tot_diff_with_mean(x)))\n",
    "    return std_err_of_predicted_value\n",
    "\n",
    "def get_confidence_interval_of_predicted_values(predicted_value, std_err_of_predicted_value, x, alpha=0.95) : \n",
    "    confidence_interval = sp.stats.t.interval(alpha=0.95, df=len(x)-2)\n",
    "    print(std_err_of_predicted_value)\n",
    "    print(predicted_value)\n",
    "    print(confidence_interval)\n",
    "    return (predicted_value + (std_err_of_predicted_value * confidence_interval[0]), predicted_value + (std_err_of_predicted_value * confidence_interval[1]))"
   ]
  },
  {
   "cell_type": "markdown",
   "metadata": {},
   "source": [
    "#### 3.1\n",
    "감독자 직무수행능력 데이터를 이용하여, 식 (3.12)에 주어진 적합식 $\\hat{Y} = 15.3276 + 0.7803 X_1 - 0.0502 X_2$에서의 $X_1$의 계수가 3.5절에서 $X_2$의 계수에 대하여 묘사된 일련의 단순회귀식에 의하여 구해질 수 있음을 보여라."
   ]
  },
  {
   "cell_type": "code",
   "execution_count": 3,
   "metadata": {
    "ExecuteTime": {
     "end_time": "2020-08-05T22:16:22.810953Z",
     "start_time": "2020-08-05T22:16:22.800979Z"
    }
   },
   "outputs": [],
   "source": [
    "performance = pd.read_csv(\"Supervisor_Performance.csv\", sep=\"\\t\")"
   ]
  },
  {
   "cell_type": "code",
   "execution_count": 11,
   "metadata": {
    "ExecuteTime": {
     "end_time": "2020-08-05T22:24:27.118259Z",
     "start_time": "2020-08-05T22:24:27.113250Z"
    }
   },
   "outputs": [
    {
     "name": "stdout",
     "output_type": "stream",
     "text": [
      "0.754609818719365\n",
      "14.37631940662363\n"
     ]
    }
   ],
   "source": [
    "# y hat과 x_1의 회귀방정식 구하기\n",
    "slope = get_slope(x=performance[\"X1 \"], y=performance[\"Y \"])\n",
    "intercept = get_intercept(x=performance[\"X1 \"], y=performance[\"Y \"])\n",
    "print(slope)\n",
    "print(intercept)\n",
    "y_hat = get_y_hat(slope=slope, intercept=intercept, x=performance[\"X1 \"])\n",
    "res_err_btw_y_and_x1 = [y-predicted_value for y, predicted_value in zip(performance[\"Y \"], y_hat)]"
   ]
  },
  {
   "cell_type": "code",
   "execution_count": 12,
   "metadata": {
    "ExecuteTime": {
     "end_time": "2020-08-05T22:25:26.414946Z",
     "start_time": "2020-08-05T22:25:26.409950Z"
    },
    "code_folding": []
   },
   "outputs": [
    {
     "name": "stdout",
     "output_type": "stream",
     "text": [
      "0.5130319769703571\n",
      "18.96540366710755\n"
     ]
    }
   ],
   "source": [
    "# x1과 x2의 회귀 방정식 구하기\n",
    "slope = get_slope(x=performance[\"X1 \"], y=performance[\"X2 \"])\n",
    "intercept = get_intercept(x=performance[\"X1 \"], y=performance[\"X2 \"])\n",
    "print(slope)\n",
    "print(intercept)\n",
    "y_hat = get_y_hat(slope=slope, intercept=intercept, x=performance[\"X1 \"])\n",
    "res_err_btw_x1_and_x2 = [y-predicted_value for y, predicted_value in zip(performance[\"X2 \"], y_hat)]"
   ]
  },
  {
   "cell_type": "code",
   "execution_count": 13,
   "metadata": {
    "ExecuteTime": {
     "end_time": "2020-08-05T22:26:57.574145Z",
     "start_time": "2020-08-05T22:26:57.569159Z"
    }
   },
   "outputs": [
    {
     "name": "stdout",
     "output_type": "stream",
     "text": [
      "-0.050159795205249866\n",
      "-1.108431528942783e-14\n"
     ]
    }
   ],
   "source": [
    "# y에 대한 x1의 잔차와 x2에 대한 x1의 잔차의 회귀방정 식 구하기\n",
    "slope = get_slope(x=res_err_btw_x1_and_x2, y=res_err_btw_y_and_x1)\n",
    "intercept = get_intercept(x=res_err_btw_x1_and_x2, y=res_err_btw_y_and_x1)\n",
    "print(slope)\n",
    "print(intercept)\n",
    "y_hat = get_y_hat(slope=slope, intercept=intercept, x=res_err_btw_x1_and_x2)\n",
    "res_err_btw_yx1_and_x2x1 = [y-predicted_value for y, predicted_value in zip(res_err_btw_y_and_x1, y_hat)]"
   ]
  },
  {
   "cell_type": "markdown",
   "metadata": {},
   "source": [
    "#### 3.3\n",
    "표 3.10은 통계학 과목을 수강한 22명의 학생들에 대하여 기말시험 성적 F와 두 번의 기초 시험 성적 P1, P2를 보여준다. "
   ]
  },
  {
   "cell_type": "code",
   "execution_count": 14,
   "metadata": {
    "ExecuteTime": {
     "end_time": "2020-08-05T22:32:04.846204Z",
     "start_time": "2020-08-05T22:32:04.840209Z"
    }
   },
   "outputs": [],
   "source": [
    "examination = pd.read_csv(\"Examination_Data.csv\", sep=\"\\t\")"
   ]
  },
  {
   "cell_type": "code",
   "execution_count": 16,
   "metadata": {
    "ExecuteTime": {
     "end_time": "2020-08-05T22:33:23.182786Z",
     "start_time": "2020-08-05T22:33:23.095966Z"
    }
   },
   "outputs": [
    {
     "data": {
      "text/html": [
       "<table class=\"simpletable\">\n",
       "<caption>OLS Regression Results</caption>\n",
       "<tr>\n",
       "  <th>Dep. Variable:</th>            <td>F</td>        <th>  R-squared:         </th> <td>   0.802</td>\n",
       "</tr>\n",
       "<tr>\n",
       "  <th>Model:</th>                   <td>OLS</td>       <th>  Adj. R-squared:    </th> <td>   0.792</td>\n",
       "</tr>\n",
       "<tr>\n",
       "  <th>Method:</th>             <td>Least Squares</td>  <th>  F-statistic:       </th> <td>   81.14</td>\n",
       "</tr>\n",
       "<tr>\n",
       "  <th>Date:</th>             <td>Thu, 06 Aug 2020</td> <th>  Prob (F-statistic):</th> <td>1.78e-08</td>\n",
       "</tr>\n",
       "<tr>\n",
       "  <th>Time:</th>                 <td>07:33:23</td>     <th>  Log-Likelihood:    </th> <td> -65.930</td>\n",
       "</tr>\n",
       "<tr>\n",
       "  <th>No. Observations:</th>      <td>    22</td>      <th>  AIC:               </th> <td>   135.9</td>\n",
       "</tr>\n",
       "<tr>\n",
       "  <th>Df Residuals:</th>          <td>    20</td>      <th>  BIC:               </th> <td>   138.0</td>\n",
       "</tr>\n",
       "<tr>\n",
       "  <th>Df Model:</th>              <td>     1</td>      <th>                     </th>     <td> </td>   \n",
       "</tr>\n",
       "<tr>\n",
       "  <th>Covariance Type:</th>      <td>nonrobust</td>    <th>                     </th>     <td> </td>   \n",
       "</tr>\n",
       "</table>\n",
       "<table class=\"simpletable\">\n",
       "<tr>\n",
       "      <td></td>         <th>coef</th>     <th>std err</th>      <th>t</th>      <th>P>|t|</th>  <th>[0.025</th>    <th>0.975]</th>  \n",
       "</tr>\n",
       "<tr>\n",
       "  <th>Intercept</th> <td>  -22.3424</td> <td>   11.564</td> <td>   -1.932</td> <td> 0.068</td> <td>  -46.464</td> <td>    1.780</td>\n",
       "</tr>\n",
       "<tr>\n",
       "  <th>P1</th>        <td>    1.2605</td> <td>    0.140</td> <td>    9.008</td> <td> 0.000</td> <td>    0.969</td> <td>    1.552</td>\n",
       "</tr>\n",
       "</table>\n",
       "<table class=\"simpletable\">\n",
       "<tr>\n",
       "  <th>Omnibus:</th>       <td> 1.630</td> <th>  Durbin-Watson:     </th> <td>   1.604</td>\n",
       "</tr>\n",
       "<tr>\n",
       "  <th>Prob(Omnibus):</th> <td> 0.443</td> <th>  Jarque-Bera (JB):  </th> <td>   1.284</td>\n",
       "</tr>\n",
       "<tr>\n",
       "  <th>Skew:</th>          <td>-0.402</td> <th>  Prob(JB):          </th> <td>   0.526</td>\n",
       "</tr>\n",
       "<tr>\n",
       "  <th>Kurtosis:</th>      <td> 2.131</td> <th>  Cond. No.          </th> <td>    882.</td>\n",
       "</tr>\n",
       "</table><br/><br/>Warnings:<br/>[1] Standard Errors assume that the covariance matrix of the errors is correctly specified."
      ],
      "text/plain": [
       "<class 'statsmodels.iolib.summary.Summary'>\n",
       "\"\"\"\n",
       "                            OLS Regression Results                            \n",
       "==============================================================================\n",
       "Dep. Variable:                      F   R-squared:                       0.802\n",
       "Model:                            OLS   Adj. R-squared:                  0.792\n",
       "Method:                 Least Squares   F-statistic:                     81.14\n",
       "Date:                Thu, 06 Aug 2020   Prob (F-statistic):           1.78e-08\n",
       "Time:                        07:33:23   Log-Likelihood:                -65.930\n",
       "No. Observations:                  22   AIC:                             135.9\n",
       "Df Residuals:                      20   BIC:                             138.0\n",
       "Df Model:                           1                                         \n",
       "Covariance Type:            nonrobust                                         \n",
       "==============================================================================\n",
       "                 coef    std err          t      P>|t|      [0.025      0.975]\n",
       "------------------------------------------------------------------------------\n",
       "Intercept    -22.3424     11.564     -1.932      0.068     -46.464       1.780\n",
       "P1             1.2605      0.140      9.008      0.000       0.969       1.552\n",
       "==============================================================================\n",
       "Omnibus:                        1.630   Durbin-Watson:                   1.604\n",
       "Prob(Omnibus):                  0.443   Jarque-Bera (JB):                1.284\n",
       "Skew:                          -0.402   Prob(JB):                        0.526\n",
       "Kurtosis:                       2.131   Cond. No.                         882.\n",
       "==============================================================================\n",
       "\n",
       "Warnings:\n",
       "[1] Standard Errors assume that the covariance matrix of the errors is correctly specified.\n",
       "\"\"\""
      ]
     },
     "execution_count": 16,
     "metadata": {},
     "output_type": "execute_result"
    }
   ],
   "source": [
    "#(a) 데이터에 다음의 모형들 각각을 적합하여라\n",
    "exam_model_1 = smf.ols(formula=\"F ~ P1\", data=examination)\n",
    "result_1 = exam_model_1.fit()\n",
    "result_1.summary()"
   ]
  },
  {
   "cell_type": "code",
   "execution_count": 17,
   "metadata": {
    "ExecuteTime": {
     "end_time": "2020-08-05T22:35:58.134829Z",
     "start_time": "2020-08-05T22:35:58.112912Z"
    }
   },
   "outputs": [
    {
     "data": {
      "text/html": [
       "<table class=\"simpletable\">\n",
       "<caption>OLS Regression Results</caption>\n",
       "<tr>\n",
       "  <th>Dep. Variable:</th>            <td>F</td>        <th>  R-squared:         </th> <td>   0.860</td>\n",
       "</tr>\n",
       "<tr>\n",
       "  <th>Model:</th>                   <td>OLS</td>       <th>  Adj. R-squared:    </th> <td>   0.853</td>\n",
       "</tr>\n",
       "<tr>\n",
       "  <th>Method:</th>             <td>Least Squares</td>  <th>  F-statistic:       </th> <td>   122.9</td>\n",
       "</tr>\n",
       "<tr>\n",
       "  <th>Date:</th>             <td>Thu, 06 Aug 2020</td> <th>  Prob (F-statistic):</th> <td>5.44e-10</td>\n",
       "</tr>\n",
       "<tr>\n",
       "  <th>Time:</th>                 <td>07:35:58</td>     <th>  Log-Likelihood:    </th> <td> -62.128</td>\n",
       "</tr>\n",
       "<tr>\n",
       "  <th>No. Observations:</th>      <td>    22</td>      <th>  AIC:               </th> <td>   128.3</td>\n",
       "</tr>\n",
       "<tr>\n",
       "  <th>Df Residuals:</th>          <td>    20</td>      <th>  BIC:               </th> <td>   130.4</td>\n",
       "</tr>\n",
       "<tr>\n",
       "  <th>Df Model:</th>              <td>     1</td>      <th>                     </th>     <td> </td>   \n",
       "</tr>\n",
       "<tr>\n",
       "  <th>Covariance Type:</th>      <td>nonrobust</td>    <th>                     </th>     <td> </td>   \n",
       "</tr>\n",
       "</table>\n",
       "<table class=\"simpletable\">\n",
       "<tr>\n",
       "      <td></td>         <th>coef</th>     <th>std err</th>      <th>t</th>      <th>P>|t|</th>  <th>[0.025</th>    <th>0.975]</th>  \n",
       "</tr>\n",
       "<tr>\n",
       "  <th>Intercept</th> <td>   -1.8535</td> <td>    7.562</td> <td>   -0.245</td> <td> 0.809</td> <td>  -17.627</td> <td>   13.920</td>\n",
       "</tr>\n",
       "<tr>\n",
       "  <th>P2</th>        <td>    1.0043</td> <td>    0.091</td> <td>   11.086</td> <td> 0.000</td> <td>    0.815</td> <td>    1.193</td>\n",
       "</tr>\n",
       "</table>\n",
       "<table class=\"simpletable\">\n",
       "<tr>\n",
       "  <th>Omnibus:</th>       <td> 2.902</td> <th>  Durbin-Watson:     </th> <td>   2.064</td>\n",
       "</tr>\n",
       "<tr>\n",
       "  <th>Prob(Omnibus):</th> <td> 0.234</td> <th>  Jarque-Bera (JB):  </th> <td>   1.397</td>\n",
       "</tr>\n",
       "<tr>\n",
       "  <th>Skew:</th>          <td>-0.558</td> <th>  Prob(JB):          </th> <td>   0.497</td>\n",
       "</tr>\n",
       "<tr>\n",
       "  <th>Kurtosis:</th>      <td> 3.529</td> <th>  Cond. No.          </th> <td>    693.</td>\n",
       "</tr>\n",
       "</table><br/><br/>Warnings:<br/>[1] Standard Errors assume that the covariance matrix of the errors is correctly specified."
      ],
      "text/plain": [
       "<class 'statsmodels.iolib.summary.Summary'>\n",
       "\"\"\"\n",
       "                            OLS Regression Results                            \n",
       "==============================================================================\n",
       "Dep. Variable:                      F   R-squared:                       0.860\n",
       "Model:                            OLS   Adj. R-squared:                  0.853\n",
       "Method:                 Least Squares   F-statistic:                     122.9\n",
       "Date:                Thu, 06 Aug 2020   Prob (F-statistic):           5.44e-10\n",
       "Time:                        07:35:58   Log-Likelihood:                -62.128\n",
       "No. Observations:                  22   AIC:                             128.3\n",
       "Df Residuals:                      20   BIC:                             130.4\n",
       "Df Model:                           1                                         \n",
       "Covariance Type:            nonrobust                                         \n",
       "==============================================================================\n",
       "                 coef    std err          t      P>|t|      [0.025      0.975]\n",
       "------------------------------------------------------------------------------\n",
       "Intercept     -1.8535      7.562     -0.245      0.809     -17.627      13.920\n",
       "P2             1.0043      0.091     11.086      0.000       0.815       1.193\n",
       "==============================================================================\n",
       "Omnibus:                        2.902   Durbin-Watson:                   2.064\n",
       "Prob(Omnibus):                  0.234   Jarque-Bera (JB):                1.397\n",
       "Skew:                          -0.558   Prob(JB):                        0.497\n",
       "Kurtosis:                       3.529   Cond. No.                         693.\n",
       "==============================================================================\n",
       "\n",
       "Warnings:\n",
       "[1] Standard Errors assume that the covariance matrix of the errors is correctly specified.\n",
       "\"\"\""
      ]
     },
     "execution_count": 17,
     "metadata": {},
     "output_type": "execute_result"
    }
   ],
   "source": [
    "#(a) 데이터에 다음의 모형들 각각을 적합하여라\n",
    "exam_model_2 = smf.ols(formula=\"F ~ P2\", data=examination)\n",
    "result_2 = exam_model_2.fit()\n",
    "result_2.summary()"
   ]
  },
  {
   "cell_type": "code",
   "execution_count": 18,
   "metadata": {
    "ExecuteTime": {
     "end_time": "2020-08-05T22:37:25.391818Z",
     "start_time": "2020-08-05T22:37:25.360391Z"
    },
    "scrolled": false
   },
   "outputs": [
    {
     "data": {
      "text/html": [
       "<table class=\"simpletable\">\n",
       "<caption>OLS Regression Results</caption>\n",
       "<tr>\n",
       "  <th>Dep. Variable:</th>            <td>F</td>        <th>  R-squared:         </th> <td>   0.886</td>\n",
       "</tr>\n",
       "<tr>\n",
       "  <th>Model:</th>                   <td>OLS</td>       <th>  Adj. R-squared:    </th> <td>   0.874</td>\n",
       "</tr>\n",
       "<tr>\n",
       "  <th>Method:</th>             <td>Least Squares</td>  <th>  F-statistic:       </th> <td>   74.07</td>\n",
       "</tr>\n",
       "<tr>\n",
       "  <th>Date:</th>             <td>Thu, 06 Aug 2020</td> <th>  Prob (F-statistic):</th> <td>1.07e-09</td>\n",
       "</tr>\n",
       "<tr>\n",
       "  <th>Time:</th>                 <td>07:37:25</td>     <th>  Log-Likelihood:    </th> <td> -59.840</td>\n",
       "</tr>\n",
       "<tr>\n",
       "  <th>No. Observations:</th>      <td>    22</td>      <th>  AIC:               </th> <td>   125.7</td>\n",
       "</tr>\n",
       "<tr>\n",
       "  <th>Df Residuals:</th>          <td>    19</td>      <th>  BIC:               </th> <td>   129.0</td>\n",
       "</tr>\n",
       "<tr>\n",
       "  <th>Df Model:</th>              <td>     2</td>      <th>                     </th>     <td> </td>   \n",
       "</tr>\n",
       "<tr>\n",
       "  <th>Covariance Type:</th>      <td>nonrobust</td>    <th>                     </th>     <td> </td>   \n",
       "</tr>\n",
       "</table>\n",
       "<table class=\"simpletable\">\n",
       "<tr>\n",
       "      <td></td>         <th>coef</th>     <th>std err</th>      <th>t</th>      <th>P>|t|</th>  <th>[0.025</th>    <th>0.975]</th>  \n",
       "</tr>\n",
       "<tr>\n",
       "  <th>Intercept</th> <td>  -14.5005</td> <td>    9.236</td> <td>   -1.570</td> <td> 0.133</td> <td>  -33.831</td> <td>    4.830</td>\n",
       "</tr>\n",
       "<tr>\n",
       "  <th>P1</th>        <td>    0.4883</td> <td>    0.233</td> <td>    2.096</td> <td> 0.050</td> <td>    0.001</td> <td>    0.976</td>\n",
       "</tr>\n",
       "<tr>\n",
       "  <th>P2</th>        <td>    0.6720</td> <td>    0.179</td> <td>    3.748</td> <td> 0.001</td> <td>    0.297</td> <td>    1.047</td>\n",
       "</tr>\n",
       "</table>\n",
       "<table class=\"simpletable\">\n",
       "<tr>\n",
       "  <th>Omnibus:</th>       <td> 0.910</td> <th>  Durbin-Watson:     </th> <td>   1.778</td>\n",
       "</tr>\n",
       "<tr>\n",
       "  <th>Prob(Omnibus):</th> <td> 0.634</td> <th>  Jarque-Bera (JB):  </th> <td>   0.703</td>\n",
       "</tr>\n",
       "<tr>\n",
       "  <th>Skew:</th>          <td>-0.410</td> <th>  Prob(JB):          </th> <td>   0.704</td>\n",
       "</tr>\n",
       "<tr>\n",
       "  <th>Kurtosis:</th>      <td> 2.696</td> <th>  Cond. No.          </th> <td>1.29e+03</td>\n",
       "</tr>\n",
       "</table><br/><br/>Warnings:<br/>[1] Standard Errors assume that the covariance matrix of the errors is correctly specified.<br/>[2] The condition number is large, 1.29e+03. This might indicate that there are<br/>strong multicollinearity or other numerical problems."
      ],
      "text/plain": [
       "<class 'statsmodels.iolib.summary.Summary'>\n",
       "\"\"\"\n",
       "                            OLS Regression Results                            \n",
       "==============================================================================\n",
       "Dep. Variable:                      F   R-squared:                       0.886\n",
       "Model:                            OLS   Adj. R-squared:                  0.874\n",
       "Method:                 Least Squares   F-statistic:                     74.07\n",
       "Date:                Thu, 06 Aug 2020   Prob (F-statistic):           1.07e-09\n",
       "Time:                        07:37:25   Log-Likelihood:                -59.840\n",
       "No. Observations:                  22   AIC:                             125.7\n",
       "Df Residuals:                      19   BIC:                             129.0\n",
       "Df Model:                           2                                         \n",
       "Covariance Type:            nonrobust                                         \n",
       "==============================================================================\n",
       "                 coef    std err          t      P>|t|      [0.025      0.975]\n",
       "------------------------------------------------------------------------------\n",
       "Intercept    -14.5005      9.236     -1.570      0.133     -33.831       4.830\n",
       "P1             0.4883      0.233      2.096      0.050       0.001       0.976\n",
       "P2             0.6720      0.179      3.748      0.001       0.297       1.047\n",
       "==============================================================================\n",
       "Omnibus:                        0.910   Durbin-Watson:                   1.778\n",
       "Prob(Omnibus):                  0.634   Jarque-Bera (JB):                0.703\n",
       "Skew:                          -0.410   Prob(JB):                        0.704\n",
       "Kurtosis:                       2.696   Cond. No.                     1.29e+03\n",
       "==============================================================================\n",
       "\n",
       "Warnings:\n",
       "[1] Standard Errors assume that the covariance matrix of the errors is correctly specified.\n",
       "[2] The condition number is large, 1.29e+03. This might indicate that there are\n",
       "strong multicollinearity or other numerical problems.\n",
       "\"\"\""
      ]
     },
     "execution_count": 18,
     "metadata": {},
     "output_type": "execute_result"
    }
   ],
   "source": [
    "#(a) 데이터에 다음의 모형들 각각을 적합하여라\n",
    "exam_model_3 = smf.ols(formula=\"F ~ P1 + P2\", data=examination)\n",
    "result_3 = exam_model_3.fit()\n",
    "result_3.summary()"
   ]
  },
  {
   "cell_type": "code",
   "execution_count": 21,
   "metadata": {
    "ExecuteTime": {
     "end_time": "2020-08-05T22:40:46.924279Z",
     "start_time": "2020-08-05T22:40:46.920288Z"
    }
   },
   "outputs": [],
   "source": [
    "#(b) 세 모형에 각각에 대하여 B0 = 0를 검정하여라"
   ]
  },
  {
   "cell_type": "markdown",
   "metadata": {},
   "source": [
    "$F = B_0 + B_1P_1 + \\epsilon$\n",
    "- $B_0$의 p-value는 0.068로 95% 신뢰 수준 하에서 유의하지 않다.\n",
    "\n",
    "$F = B_0 + B_2P_2 + \\epsilon$\n",
    "- $B_0$의 p-value는 0.809로 95% 신뢰 수준 하에서 유의하지 않다.\n",
    "\n",
    "$F = B_0 + B_1P_1 + B_2P_2 + \\epsilon$\n",
    "- $B_0$의 p-value는 0.133로 95% 신뢰 수준 하에서 유의하지 않다."
   ]
  },
  {
   "cell_type": "code",
   "execution_count": 22,
   "metadata": {
    "ExecuteTime": {
     "end_time": "2020-08-05T22:41:10.283989Z",
     "start_time": "2020-08-05T22:41:10.279971Z"
    }
   },
   "outputs": [],
   "source": [
    "#(c) 개별적으로 P1과 P2 중 어느 것이 F에 대하여 더 좋은 예측 변수 인가? P2의 기울기가 크고, p-value 또한 매우 작아 P2가 더 좋은 변수이다."
   ]
  },
  {
   "cell_type": "code",
   "execution_count": 34,
   "metadata": {
    "ExecuteTime": {
     "end_time": "2020-08-05T22:51:14.186790Z",
     "start_time": "2020-08-05T22:51:14.183798Z"
    }
   },
   "outputs": [],
   "source": [
    "#(d) 첫 번째와 두 번째 기초 시험 성적이 78, 85점인 학생에 대하여 기말 시험 성적을 예측하기 위하여 어떤 모형을 사용하는 것이 좋은가?\n",
    "# smf로 하는 법을 모르겠음;"
   ]
  },
  {
   "cell_type": "code",
   "execution_count": null,
   "metadata": {},
   "outputs": [],
   "source": []
  }
 ],
 "metadata": {
  "kernelspec": {
   "display_name": "Python 3",
   "language": "python",
   "name": "python3"
  },
  "language_info": {
   "codemirror_mode": {
    "name": "ipython",
    "version": 3
   },
   "file_extension": ".py",
   "mimetype": "text/x-python",
   "name": "python",
   "nbconvert_exporter": "python",
   "pygments_lexer": "ipython3",
   "version": "3.8.3"
  },
  "toc": {
   "base_numbering": 1,
   "nav_menu": {},
   "number_sections": true,
   "sideBar": true,
   "skip_h1_title": false,
   "title_cell": "Table of Contents",
   "title_sidebar": "Contents",
   "toc_cell": false,
   "toc_position": {},
   "toc_section_display": true,
   "toc_window_display": false
  },
  "varInspector": {
   "cols": {
    "lenName": 16,
    "lenType": 16,
    "lenVar": 40
   },
   "kernels_config": {
    "python": {
     "delete_cmd_postfix": "",
     "delete_cmd_prefix": "del ",
     "library": "var_list.py",
     "varRefreshCmd": "print(var_dic_list())"
    },
    "r": {
     "delete_cmd_postfix": ") ",
     "delete_cmd_prefix": "rm(",
     "library": "var_list.r",
     "varRefreshCmd": "cat(var_dic_list()) "
    }
   },
   "types_to_exclude": [
    "module",
    "function",
    "builtin_function_or_method",
    "instance",
    "_Feature"
   ],
   "window_display": false
  }
 },
 "nbformat": 4,
 "nbformat_minor": 4
}
