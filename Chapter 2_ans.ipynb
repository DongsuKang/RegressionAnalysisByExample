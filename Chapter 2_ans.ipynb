{
 "cells": [
  {
   "cell_type": "markdown",
   "metadata": {},
   "source": [
    "2.1\n",
    "- (a)Var(x)와 Var(y)를 계산하여라\n",
    "- (b)sum_{i=1}^n (y_i - \\bar{y}) = 0$ 임을 보여라\n",
    "- (c)표준화 된 변수들은 평균 0과 표준편차 1을 가짐을 보여라\n",
    "- (d)식 (2.5), (2.6), (2.7)의 세가지 공식들이 동일함을 보여라\n",
    "- (e) 식 (2.14)와 (2.20)의 두 공식들이 동일함을 보여라"
   ]
  },
  {
   "cell_type": "code",
   "execution_count": null,
   "metadata": {},
   "outputs": [],
   "source": [
    "#(a)"
   ]
  },
  {
   "cell_type": "code",
   "execution_count": null,
   "metadata": {},
   "outputs": [],
   "source": [
    "#(b)"
   ]
  },
  {
   "cell_type": "code",
   "execution_count": 2,
   "metadata": {
    "ExecuteTime": {
     "end_time": "2020-07-18T23:20:54.812286Z",
     "start_time": "2020-07-18T23:20:54.809294Z"
    }
   },
   "outputs": [],
   "source": [
    "from functools import reduce\n",
    "from math import sqrt"
   ]
  },
  {
   "cell_type": "code",
   "execution_count": 59,
   "metadata": {
    "ExecuteTime": {
     "end_time": "2020-07-19T06:15:05.626220Z",
     "start_time": "2020-07-19T06:15:05.622205Z"
    }
   },
   "outputs": [],
   "source": [
    "#(c)\n",
    "def standardization(sample_x, mean, std) : \n",
    "    return (sample_x-mean)/std"
   ]
  },
  {
   "cell_type": "code",
   "execution_count": 46,
   "metadata": {
    "ExecuteTime": {
     "end_time": "2020-07-19T06:04:40.881020Z",
     "start_time": "2020-07-19T06:04:40.877475Z"
    }
   },
   "outputs": [],
   "source": [
    "def get_tot_diff_with_mean(sample_x) : \n",
    "    return sum(map(lambda x : (x - get_mean(sample_x)) ** 2, sample_x))"
   ]
  },
  {
   "cell_type": "code",
   "execution_count": 26,
   "metadata": {
    "ExecuteTime": {
     "end_time": "2020-07-19T05:59:05.363573Z",
     "start_time": "2020-07-19T05:59:05.359585Z"
    }
   },
   "outputs": [],
   "source": [
    "def get_mean(sample_x) : \n",
    "    return (reduce(lambda x, y : x+y, sample_x))/len(sample_x)"
   ]
  },
  {
   "cell_type": "code",
   "execution_count": 35,
   "metadata": {
    "ExecuteTime": {
     "end_time": "2020-07-19T05:59:21.626698Z",
     "start_time": "2020-07-19T05:59:21.622708Z"
    }
   },
   "outputs": [],
   "source": [
    "def get_var(sample_x) : \n",
    "    return get_tot_diff_with_mean(sample_x)/len(sample_x)"
   ]
  },
  {
   "cell_type": "code",
   "execution_count": 99,
   "metadata": {
    "ExecuteTime": {
     "end_time": "2020-07-19T06:27:29.889511Z",
     "start_time": "2020-07-19T06:27:29.885520Z"
    }
   },
   "outputs": [],
   "source": [
    "def get_std(sample_x) : \n",
    "    return sqrt(get_tot_diff_with_mean(sample_x)/(len(sample_x) - 1))"
   ]
  },
  {
   "cell_type": "code",
   "execution_count": 79,
   "metadata": {
    "ExecuteTime": {
     "end_time": "2020-07-19T06:19:06.644476Z",
     "start_time": "2020-07-19T06:19:06.640486Z"
    }
   },
   "outputs": [],
   "source": [
    "def get_cov(sample_x, sample_y) : \n",
    "    sum_of_diff = sum(map(lambda x,y: (x-get_mean(sample_x))*(y-get_mean(sample_y)), sample_x, sample_y))\n",
    "    return sum_of_diff / (len(sample_x) - 1)"
   ]
  },
  {
   "cell_type": "code",
   "execution_count": 102,
   "metadata": {
    "ExecuteTime": {
     "end_time": "2020-07-19T06:27:58.474605Z",
     "start_time": "2020-07-19T06:27:58.470615Z"
    }
   },
   "outputs": [],
   "source": [
    "def get_cor(sample_x, sample_y) : \n",
    "    return get_cov(sample_x, sample_y) / (get_std(sample_x) * get_std(sample_y))"
   ]
  },
  {
   "cell_type": "code",
   "execution_count": 92,
   "metadata": {
    "ExecuteTime": {
     "end_time": "2020-07-19T06:21:22.809661Z",
     "start_time": "2020-07-19T06:21:22.805605Z"
    }
   },
   "outputs": [],
   "source": [
    "x = [1, 2, 3, 4, 4, 5, 6, 6, 7, 8, 9, 9, 10, 10]\n",
    "y = [23, 29, 49, 64, 74, 87, 96, 97, 109, 119, 149, 145, 154, 166]"
   ]
  },
  {
   "cell_type": "code",
   "execution_count": 61,
   "metadata": {
    "ExecuteTime": {
     "end_time": "2020-07-19T06:15:25.420133Z",
     "start_time": "2020-07-19T06:15:25.415111Z"
    }
   },
   "outputs": [],
   "source": [
    "# 표준화 된 x의 모음\n",
    "standardized_x = []\n",
    "for x_i in x : \n",
    "    standardized_x.append(standardization(x_i, mean=get_mean(x), std=get_std(x)))"
   ]
  },
  {
   "cell_type": "code",
   "execution_count": 63,
   "metadata": {
    "ExecuteTime": {
     "end_time": "2020-07-19T06:15:38.442864Z",
     "start_time": "2020-07-19T06:15:38.438102Z"
    }
   },
   "outputs": [],
   "source": [
    "# 표준화 된 y의 모음\n",
    "standardized_y = []\n",
    "for y_i in y : \n",
    "    standardized_y.append(standardization(y_i, get_mean(y), get_std(y)))"
   ]
  },
  {
   "cell_type": "code",
   "execution_count": 67,
   "metadata": {
    "ExecuteTime": {
     "end_time": "2020-07-19T06:16:10.314287Z",
     "start_time": "2020-07-19T06:16:10.310263Z"
    }
   },
   "outputs": [
    {
     "name": "stdout",
     "output_type": "stream",
     "text": [
      "-3.172065784643304e-17\n",
      "1.0\n"
     ]
    }
   ],
   "source": [
    "print(get_mean(standardized_x))\n",
    "print(get_std(standardized_x))"
   ]
  },
  {
   "cell_type": "code",
   "execution_count": 69,
   "metadata": {
    "ExecuteTime": {
     "end_time": "2020-07-19T06:16:15.169754Z",
     "start_time": "2020-07-19T06:16:15.165762Z"
    }
   },
   "outputs": [
    {
     "name": "stdout",
     "output_type": "stream",
     "text": [
      "1.1102230246251565e-16\n",
      "0.9999999999999999\n"
     ]
    }
   ],
   "source": [
    "print(get_mean(standardized_y))\n",
    "print(get_std(standardized_y))"
   ]
  },
  {
   "cell_type": "markdown",
   "metadata": {},
   "source": [
    "#### 2.2 다음 진술들에 대하여 동의하는지 혹은 그렇지 않은지를 그 이유와 함께 설명하시오."
   ]
  },
  {
   "cell_type": "markdown",
   "metadata": {},
   "source": [
    "(a) Cov(Y, X)와 Cor(Y, X)는 $-\\infty$ 와 $\\infty$ 사이의 값을 가질 수 있다.  \n",
    "-> 그럴 것 같다"
   ]
  },
  {
   "cell_type": "markdown",
   "metadata": {},
   "source": [
    "(b) Cov(Y, X) = 0 또는 Cor(Y,X) = 0 이면, Y와 X사이에 아무런 관계가 없다고 결론 지을 수 있다  \n",
    "-> 상관 관계만 0이고 인과 관계는 또 모르는 일임"
   ]
  },
  {
   "cell_type": "markdown",
   "metadata": {},
   "source": [
    "(c) Y대 $\\hat{Y}$ 의 산점도에 있는 점들에 적합된 최소제곱회귀선은 절편항 0과 기울기 1을 가진다.  \n",
    "-> 안 그럴 것 같은데...?"
   ]
  },
  {
   "cell_type": "markdown",
   "metadata": {},
   "source": [
    "#### 2.3 표 2.9에 있는 회귀 분석 결과를 이용하여 다음 가설들에 대한 검정을 수행하여라($\\alpha$ = 0.1)\n",
    "| variables | coefficient | s.e.  | t-test | p-value |\n",
    "|-----------|-------------|-------|--------|---------|\n",
    "| const.    | 4.162       | 3.355 | 1.24   | 0.2385  |\n",
    "| Units     | 15.509      | 0.505 | 30.71  | <0.0001 |"
   ]
  },
  {
   "cell_type": "markdown",
   "metadata": {},
   "source": [
    "(a) $H_0 : B_1 = 15$ 대 $H_1 : B_1 \\ne 15$"
   ]
  },
  {
   "cell_type": "code",
   "execution_count": 14,
   "metadata": {
    "ExecuteTime": {
     "end_time": "2020-07-19T01:56:40.339463Z",
     "start_time": "2020-07-19T01:56:37.187881Z"
    }
   },
   "outputs": [],
   "source": [
    "import scipy.stats"
   ]
  },
  {
   "cell_type": "code",
   "execution_count": 20,
   "metadata": {
    "ExecuteTime": {
     "end_time": "2020-07-19T04:22:26.605384Z",
     "start_time": "2020-07-19T04:22:26.601394Z"
    }
   },
   "outputs": [
    {
     "data": {
      "text/plain": [
       "1.0079207920792086"
      ]
     },
     "execution_count": 20,
     "metadata": {},
     "output_type": "execute_result"
    }
   ],
   "source": [
    "# s.e.(B^_1) = 0.505\n",
    "(15.509-15)/0.505"
   ]
  },
  {
   "cell_type": "markdown",
   "metadata": {},
   "source": [
    "자유도 12를 따르는 t 분포의 유의 수준 = 0.1 기준으로 양측 검정 시, 이 귀무가설의 임계값은 1.782 이므로 귀무가설을 기각할 수 없다.  "
   ]
  },
  {
   "cell_type": "markdown",
   "metadata": {},
   "source": [
    "(b) $H_0 : B_1 = 15$ 대 $H_1 : B_1 > 15$"
   ]
  },
  {
   "cell_type": "markdown",
   "metadata": {},
   "source": [
    "위 결과를 이용,  자유도 12의 t 분포에서 유의 수준 0.1에 해당하는 t 값은 1.356이므로 귀무가설을 기각할 수 없다."
   ]
  },
  {
   "cell_type": "markdown",
   "metadata": {},
   "source": [
    "(c) $H_0 : B_0 = 0$ 대 $H_1 : B_0 \\ne 15$"
   ]
  },
  {
   "cell_type": "code",
   "execution_count": 22,
   "metadata": {
    "ExecuteTime": {
     "end_time": "2020-07-19T04:26:10.350425Z",
     "start_time": "2020-07-19T04:26:10.346410Z"
    }
   },
   "outputs": [
    {
     "data": {
      "text/plain": [
       "1.2405365126676602"
      ]
     },
     "execution_count": 22,
     "metadata": {},
     "output_type": "execute_result"
    }
   ],
   "source": [
    "4.162/3.355"
   ]
  },
  {
   "cell_type": "markdown",
   "metadata": {},
   "source": [
    "1.24 < 1.782 이므로 기각할 수 없다"
   ]
  },
  {
   "cell_type": "markdown",
   "metadata": {},
   "source": [
    "(c) $H_0 : B_0 = 5$ 대 $H_1 : B_0 \\ne 5$"
   ]
  },
  {
   "cell_type": "code",
   "execution_count": 23,
   "metadata": {
    "ExecuteTime": {
     "end_time": "2020-07-19T04:27:01.751640Z",
     "start_time": "2020-07-19T04:27:01.746651Z"
    }
   },
   "outputs": [
    {
     "data": {
      "text/plain": [
       "-0.2497764530551416"
      ]
     },
     "execution_count": 23,
     "metadata": {},
     "output_type": "execute_result"
    }
   ],
   "source": [
    "(4.162-5)/3.355"
   ]
  },
  {
   "cell_type": "markdown",
   "metadata": {},
   "source": [
    "-0.24 > -1.356 이므로 기각할 수 없다."
   ]
  },
  {
   "cell_type": "markdown",
   "metadata": {},
   "source": [
    "#### 2.3 표2.9에 있는 회귀분석 결과를 이용하여 $B_0$에 대한 99% 신뢰구간을 구축하여라"
   ]
  },
  {
   "cell_type": "code",
   "execution_count": 24,
   "metadata": {
    "ExecuteTime": {
     "end_time": "2020-07-19T04:33:16.990489Z",
     "start_time": "2020-07-19T04:33:16.985503Z"
    }
   },
   "outputs": [
    {
     "data": {
      "text/plain": [
       "(-6.087525, 14.411525000000001)"
      ]
     },
     "execution_count": 24,
     "metadata": {},
     "output_type": "execute_result"
    }
   ],
   "source": [
    "(4.162 - (3.055 * 3.355), 4.162 + (3.055 * 3.355))"
   ]
  },
  {
   "cell_type": "markdown",
   "metadata": {},
   "source": [
    "#### 최소 제곱법을 이용하여 단순선형회귀모형 $Y = B_0 + B_1 X + \\epsilon$ 을 데이터에 적합할 때, 다음의 각 진술들이 사실임을 증명할 수 있다.   각 진술들을 수리적으로 증명하거나, 옳음을 수치적으로 보여라(표 2.5의 데이터를 이용하여)"
   ]
  },
  {
   "cell_type": "markdown",
   "metadata": {},
   "source": [
    "#### 표 2.5의 데이터와 표 2.7의 적합값 및 잔차를 이용하여 다음을 보여라."
   ]
  },
  {
   "cell_type": "markdown",
   "metadata": {},
   "source": [
    "(a) $Cor(Y, X) = Cor(Y, \\hat{Y}) = 0.994$"
   ]
  },
  {
   "cell_type": "code",
   "execution_count": 104,
   "metadata": {
    "ExecuteTime": {
     "end_time": "2020-07-19T06:28:04.009800Z",
     "start_time": "2020-07-19T06:28:04.005812Z"
    },
    "scrolled": true
   },
   "outputs": [
    {
     "data": {
      "text/plain": [
       "0.9936987461308749"
      ]
     },
     "execution_count": 104,
     "metadata": {},
     "output_type": "execute_result"
    }
   ],
   "source": [
    "get_cor(y, x)"
   ]
  },
  {
   "cell_type": "code",
   "execution_count": 105,
   "metadata": {
    "ExecuteTime": {
     "end_time": "2020-07-19T06:28:59.578846Z",
     "start_time": "2020-07-19T06:28:59.574731Z"
    }
   },
   "outputs": [],
   "source": [
    "y_hat = [19.67, 35.18, 50.69, 66.20, 66.20, 81.71, 97.21, 97.21, 112.72, 128.23, 143.74, 143.74, 159.25, 159.25]"
   ]
  },
  {
   "cell_type": "code",
   "execution_count": 107,
   "metadata": {
    "ExecuteTime": {
     "end_time": "2020-07-19T06:29:08.634864Z",
     "start_time": "2020-07-19T06:29:08.629876Z"
    }
   },
   "outputs": [
    {
     "data": {
      "text/plain": [
       "0.9937010506867261"
      ]
     },
     "execution_count": 107,
     "metadata": {},
     "output_type": "execute_result"
    }
   ],
   "source": [
    "get_cor(y, y_hat)"
   ]
  },
  {
   "cell_type": "markdown",
   "metadata": {},
   "source": [
    "(b) SST = 22768.348  \n",
    "SST = $\\sum_{i=1}^n(y_i - \\bar{y})^2$"
   ]
  },
  {
   "cell_type": "code",
   "execution_count": 109,
   "metadata": {
    "ExecuteTime": {
     "end_time": "2020-07-19T06:32:41.339141Z",
     "start_time": "2020-07-19T06:32:41.334154Z"
    }
   },
   "outputs": [
    {
     "data": {
      "text/plain": [
       "27768.357142857145"
      ]
     },
     "execution_count": 109,
     "metadata": {},
     "output_type": "execute_result"
    }
   ],
   "source": [
    "# SST\n",
    "get_tot_diff_with_mean(y)"
   ]
  },
  {
   "cell_type": "markdown",
   "metadata": {},
   "source": [
    "(c)SSE = 348.848  \n",
    "SSE = $\\sum_{i=1}^n(y_i - \\hat{y_i})^2$"
   ]
  },
  {
   "cell_type": "code",
   "execution_count": 139,
   "metadata": {
    "ExecuteTime": {
     "end_time": "2020-07-19T06:48:10.297315Z",
     "start_time": "2020-07-19T06:48:10.293325Z"
    }
   },
   "outputs": [],
   "source": [
    "def get_SSE(sample_y, y_hat) :\n",
    "    return sum(map(lambda y, y_hat : (y-y_hat) ** 2, sample_y, y_hat))"
   ]
  },
  {
   "cell_type": "code",
   "execution_count": 141,
   "metadata": {
    "ExecuteTime": {
     "end_time": "2020-07-19T06:48:16.384596Z",
     "start_time": "2020-07-19T06:48:16.380599Z"
    }
   },
   "outputs": [
    {
     "data": {
      "text/plain": [
       "348.7211999999996"
      ]
     },
     "execution_count": 141,
     "metadata": {},
     "output_type": "execute_result"
    }
   ],
   "source": [
    "get_SSE(y, y_hat)"
   ]
  },
  {
   "cell_type": "markdown",
   "metadata": {},
   "source": [
    "#### 2.7 표 2.4에 있는 네 개의 데이터들은 다음 통계량들에 대하여 동일한 값을 준다는 것을 보여라"
   ]
  },
  {
   "cell_type": "code",
   "execution_count": 129,
   "metadata": {
    "ExecuteTime": {
     "end_time": "2020-07-19T06:45:07.802014Z",
     "start_time": "2020-07-19T06:45:07.797028Z"
    }
   },
   "outputs": [],
   "source": [
    "x_1 = [10, 8, 13, 9, 11, 14,6, 4,12, 7,5,]\n",
    "y_1 = [8.04, 6.95, 7.58, 8.81, 8.33, 9.96, 7.24, 4.26, 10.84, 4.82, 5.68, ]"
   ]
  },
  {
   "cell_type": "code",
   "execution_count": 130,
   "metadata": {
    "ExecuteTime": {
     "end_time": "2020-07-19T06:45:08.738103Z",
     "start_time": "2020-07-19T06:45:08.734150Z"
    }
   },
   "outputs": [],
   "source": [
    "x_2 = [10, 8, 13, 9, 11, 14, 6, 4, 12, 7, 5]\n",
    "y_2 = [9.14, 8.14, 8.74, 8.77, 9.26, 8.1, 6.13, 3.1, 9.13, 7.26, 4.74]"
   ]
  },
  {
   "cell_type": "code",
   "execution_count": 131,
   "metadata": {
    "ExecuteTime": {
     "end_time": "2020-07-19T06:45:08.907326Z",
     "start_time": "2020-07-19T06:45:08.903363Z"
    }
   },
   "outputs": [],
   "source": [
    "x_3 = [10, 8, 13, 9, 11, 14, 6, 4, 12, 7, 5, ]\n",
    "y_3= [7.46, 6.77, 12.74, 7.11, 7.81, 8.84, 6.08, 5.39, 8.15, 6.42, 5.73,]"
   ]
  },
  {
   "cell_type": "code",
   "execution_count": 132,
   "metadata": {
    "ExecuteTime": {
     "end_time": "2020-07-19T06:45:09.072881Z",
     "start_time": "2020-07-19T06:45:09.069927Z"
    }
   },
   "outputs": [],
   "source": [
    "x_4 = [8, 8, 8, 8, 8, 8, 8, 19, 8, 8, 8, ]\n",
    "y_4 = [6.58, 5.76, 7.71, 8.84, 8.47, 7.04, 5.25, 12.5, 5.56, 7.91, 6.89, ]"
   ]
  },
  {
   "cell_type": "code",
   "execution_count": 133,
   "metadata": {
    "ExecuteTime": {
     "end_time": "2020-07-19T06:45:09.523676Z",
     "start_time": "2020-07-19T06:45:09.519687Z"
    }
   },
   "outputs": [],
   "source": [
    "def get_slope(sample_x, sample_y) : \n",
    "    return sum(map(lambda x, y : (x - get_mean(sample_x)) * (y - get_mean(sample_y)), sample_x, sample_y)) / get_tot_diff_with_mean(sample_x)"
   ]
  },
  {
   "cell_type": "code",
   "execution_count": 137,
   "metadata": {
    "ExecuteTime": {
     "end_time": "2020-07-19T06:46:41.472909Z",
     "start_time": "2020-07-19T06:46:41.468919Z"
    }
   },
   "outputs": [],
   "source": [
    "def get_intercept(sample_x, sample_y) : \n",
    "    return get_mean(sample_y) - (get_slope(sample_x, sample_y) * get_mean(sample_x))"
   ]
  },
  {
   "cell_type": "code",
   "execution_count": 134,
   "metadata": {
    "ExecuteTime": {
     "end_time": "2020-07-19T06:45:09.946059Z",
     "start_time": "2020-07-19T06:45:09.941110Z"
    }
   },
   "outputs": [
    {
     "data": {
      "text/plain": [
       "(0.5000909090909091, 0.5, 0.49972727272727274, 0.49990909090909086)"
      ]
     },
     "execution_count": 134,
     "metadata": {},
     "output_type": "execute_result"
    }
   ],
   "source": [
    "get_slope(x_1, y_1), get_slope(x_2, y_2), get_slope(x_3, y_3), get_slope(x_4, y_4)"
   ]
  },
  {
   "cell_type": "code",
   "execution_count": 138,
   "metadata": {
    "ExecuteTime": {
     "end_time": "2020-07-19T06:46:49.226548Z",
     "start_time": "2020-07-19T06:46:49.221561Z"
    }
   },
   "outputs": [
    {
     "data": {
      "text/plain": [
       "(3.0000909090909103, 3.000909090909091, 3.0024545454545466, 3.0017272727272726)"
      ]
     },
     "execution_count": 138,
     "metadata": {},
     "output_type": "execute_result"
    }
   ],
   "source": [
    "get_intercept(x_1, y_1), get_intercept(x_2, y_2), get_intercept(x_3, y_3), get_intercept(x_4, y_4)"
   ]
  },
  {
   "cell_type": "code",
   "execution_count": 135,
   "metadata": {
    "ExecuteTime": {
     "end_time": "2020-07-19T06:45:18.370723Z",
     "start_time": "2020-07-19T06:45:18.364739Z"
    }
   },
   "outputs": [
    {
     "data": {
      "text/plain": [
       "(0.8164205163448399,\n",
       " 0.8162365060002429,\n",
       " 0.8162867394895982,\n",
       " 0.8165214368885029)"
      ]
     },
     "execution_count": 135,
     "metadata": {},
     "output_type": "execute_result"
    }
   ],
   "source": [
    "get_cor(x_1, y_1), get_cor(x_2, y_2), get_cor(x_3, y_3), get_cor(x_4, y_4)"
   ]
  },
  {
   "cell_type": "code",
   "execution_count": null,
   "metadata": {},
   "outputs": [],
   "source": [
    "def get_R_sqr(sample_y, y_hat) : \n",
    "    "
   ]
  }
 ],
 "metadata": {
  "kernelspec": {
   "display_name": "Python 3",
   "language": "python",
   "name": "python3"
  },
  "language_info": {
   "codemirror_mode": {
    "name": "ipython",
    "version": 3
   },
   "file_extension": ".py",
   "mimetype": "text/x-python",
   "name": "python",
   "nbconvert_exporter": "python",
   "pygments_lexer": "ipython3",
   "version": "3.7.1"
  },
  "toc": {
   "base_numbering": 1,
   "nav_menu": {},
   "number_sections": true,
   "sideBar": true,
   "skip_h1_title": false,
   "title_cell": "Table of Contents",
   "title_sidebar": "Contents",
   "toc_cell": false,
   "toc_position": {},
   "toc_section_display": true,
   "toc_window_display": false
  },
  "varInspector": {
   "cols": {
    "lenName": 16,
    "lenType": 16,
    "lenVar": 40
   },
   "kernels_config": {
    "python": {
     "delete_cmd_postfix": "",
     "delete_cmd_prefix": "del ",
     "library": "var_list.py",
     "varRefreshCmd": "print(var_dic_list())"
    },
    "r": {
     "delete_cmd_postfix": ") ",
     "delete_cmd_prefix": "rm(",
     "library": "var_list.r",
     "varRefreshCmd": "cat(var_dic_list()) "
    }
   },
   "types_to_exclude": [
    "module",
    "function",
    "builtin_function_or_method",
    "instance",
    "_Feature"
   ],
   "window_display": false
  }
 },
 "nbformat": 4,
 "nbformat_minor": 2
}
