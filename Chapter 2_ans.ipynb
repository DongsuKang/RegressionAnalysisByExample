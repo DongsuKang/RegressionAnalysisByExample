{
 "cells": [
  {
   "cell_type": "markdown",
   "metadata": {},
   "source": [
    "#### 함수 리스트"
   ]
  },
  {
   "cell_type": "code",
   "execution_count": 2,
   "metadata": {
    "ExecuteTime": {
     "end_time": "2020-07-27T11:47:52.136295Z",
     "start_time": "2020-07-27T11:47:52.126358Z"
    },
    "code_folding": [
     1,
     7,
     13,
     16,
     20
    ]
   },
   "outputs": [],
   "source": [
    "#(c)\n",
    "def standardization(sample_x, mean, std) : \n",
    "    return (sample_x-mean)/std\n",
    "\n",
    "def get_tot_diff_with_mean(sample_x) : \n",
    "    return sum(map(lambda x : (x - get_mean(sample_x)) ** 2, sample_x))\n",
    "\n",
    "def get_mean(sample_x) : \n",
    "    return (reduce(lambda x, y : x+y, sample_x))/len(sample_x)\n",
    "\n",
    "def get_var(sample_x) : \n",
    "    return get_tot_diff_with_mean(sample_x)/len(sample_x)\n",
    "\n",
    "def get_std(sample_x) : \n",
    "    return sqrt(get_tot_diff_with_mean(sample_x)/(len(sample_x) - 1))\n",
    "\n",
    "def get_cov(sample_x, sample_y) : \n",
    "    sum_of_diff = sum(map(lambda x,y: (x-get_mean(sample_x))*(y-get_mean(sample_y)), sample_x, sample_y))\n",
    "    return sum_of_diff / (len(sample_x) - 1)\n",
    "\n",
    "def get_cor(sample_x, sample_y) : \n",
    "    return get_cov(sample_x, sample_y) / (get_std(sample_x) * get_std(sample_y))\n",
    "\n",
    "def get_SSE(sample_y, y_hat) :\n",
    "    return sum(map(lambda y, y_hat : (y-y_hat) ** 2, sample_y, y_hat))\n",
    "\n",
    "def get_slope(sample_x, sample_y) : \n",
    "    return sum(map(lambda x, y : (x - get_mean(sample_x)) * (y - get_mean(sample_y)), sample_x, sample_y)) / get_tot_diff_with_mean(sample_x)\n",
    "\n",
    "def get_intercept(sample_x, sample_y) : \n",
    "    return get_mean(sample_y) - (get_slope(sample_x, sample_y) * get_mean(sample_x))\n",
    "\n",
    "def get_SST(sample_y) : \n",
    "    return get_tot_diff_with_mean(sample_y)\n",
    "\n",
    "def get_R_sqr(sample_y, y_hat) : \n",
    "    return 1 - (get_SSE(sample_y, y_hat)/get_SST(sample_y))"
   ]
  },
  {
   "cell_type": "code",
   "execution_count": 87,
   "metadata": {
    "ExecuteTime": {
     "end_time": "2020-07-28T00:04:22.423584Z",
     "start_time": "2020-07-28T00:04:22.419559Z"
    }
   },
   "outputs": [],
   "source": [
    "def get_std_err_of_intercept(sample_y, y_hat, sample_x) : \n",
    "    var = get_SSE(sample_y, sample_hat)\n",
    "    std_err_of_intercept = math.sqrt(var) * math.sqrt((1/len(x)) + get_mean(sample_x) ** 2 / get_tot_diff_with_mean(sample_x))\n",
    "    return std_err_of_intercept"
   ]
  },
  {
   "cell_type": "code",
   "execution_count": 36,
   "metadata": {
    "ExecuteTime": {
     "end_time": "2020-07-27T22:34:54.033985Z",
     "start_time": "2020-07-27T22:34:54.031425Z"
    }
   },
   "outputs": [],
   "source": [
    "def get_std_err_of_slope(sample_y, y_hat, sample_x) : \n",
    "    std_err_of_slope = get_SSE(sample_y, sample_hat) / get_tot_diff_with_mean(sample_x)\n",
    "    return std_err_of_slope"
   ]
  },
  {
   "cell_type": "code",
   "execution_count": 88,
   "metadata": {
    "ExecuteTime": {
     "end_time": "2020-07-28T00:05:39.796353Z",
     "start_time": "2020-07-28T00:05:39.792364Z"
    }
   },
   "outputs": [],
   "source": [
    "def get_y_hat(slope, intercept, sample_x) : \n",
    "    y_hat = [intercept + slope * x for x in sample_x]\n",
    "    return y_hat"
   ]
  },
  {
   "cell_type": "code",
   "execution_count": null,
   "metadata": {},
   "outputs": [],
   "source": [
    "def get_std_err_of_y_hat(y_hat, sample_x, sample_y) : \n",
    "    SSE = get_SSE(sample_y, y_hat)\n",
    "    var = math.sqrt(SSE)\n",
    "    var * math.sqrt(1 + (1/len(sample_x)) + (sample'l;))"
   ]
  },
  {
   "cell_type": "markdown",
   "metadata": {},
   "source": [
    "#### 2.1\n",
    "- (a)Var(x)와 Var(y)를 계산하여라\n",
    "- (b)$sum_{i=1}^n (y_i - \\bar{y}) = 0$ 임을 보여라\n",
    "- (c)표준화 된 변수들은 평균 0과 표준편차 1을 가짐을 보여라\n",
    "- (d)식 (2.5), (2.6), (2.7)의 세가지 공식들이 동일함을 보여라\n",
    "- (e) 식 (2.14)와 (2.20)의 두 공식들이 동일함을 보여라"
   ]
  },
  {
   "cell_type": "code",
   "execution_count": null,
   "metadata": {},
   "outputs": [],
   "source": [
    "#(a)"
   ]
  },
  {
   "cell_type": "code",
   "execution_count": null,
   "metadata": {},
   "outputs": [],
   "source": [
    "#(b)"
   ]
  },
  {
   "cell_type": "code",
   "execution_count": 73,
   "metadata": {
    "ExecuteTime": {
     "end_time": "2020-07-27T23:36:32.091650Z",
     "start_time": "2020-07-27T23:36:32.089655Z"
    }
   },
   "outputs": [],
   "source": [
    "from functools import reduce\n",
    "from math import sqrt"
   ]
  },
  {
   "cell_type": "code",
   "execution_count": 3,
   "metadata": {
    "ExecuteTime": {
     "end_time": "2020-07-27T11:47:52.615388Z",
     "start_time": "2020-07-27T11:47:52.612388Z"
    }
   },
   "outputs": [],
   "source": [
    "x = [1, 2, 3, 4, 4, 5, 6, 6, 7, 8, 9, 9, 10, 10]\n",
    "y = [23, 29, 49, 64, 74, 87, 96, 97, 109, 119, 149, 145, 154, 166]"
   ]
  },
  {
   "cell_type": "code",
   "execution_count": 4,
   "metadata": {
    "ExecuteTime": {
     "end_time": "2020-07-27T11:47:52.991373Z",
     "start_time": "2020-07-27T11:47:52.987385Z"
    }
   },
   "outputs": [],
   "source": [
    "# 표준화 된 x의 모음\n",
    "standardized_x = []\n",
    "for x_i in x : \n",
    "    standardized_x.append(standardization(x_i, mean=get_mean(x), std=get_std(x)))"
   ]
  },
  {
   "cell_type": "code",
   "execution_count": 5,
   "metadata": {
    "ExecuteTime": {
     "end_time": "2020-07-27T11:47:53.183860Z",
     "start_time": "2020-07-27T11:47:53.178879Z"
    }
   },
   "outputs": [],
   "source": [
    "# 표준화 된 y의 모음\n",
    "standardized_y = []\n",
    "for y_i in y : \n",
    "    standardized_y.append(standardization(y_i, get_mean(y), get_std(y)))"
   ]
  },
  {
   "cell_type": "code",
   "execution_count": 6,
   "metadata": {
    "ExecuteTime": {
     "end_time": "2020-07-27T11:47:53.364378Z",
     "start_time": "2020-07-27T11:47:53.360388Z"
    }
   },
   "outputs": [
    {
     "name": "stdout",
     "output_type": "stream",
     "text": [
      "3.172065784643304e-17\n",
      "1.0\n"
     ]
    }
   ],
   "source": [
    "print(get_mean(standardized_x))\n",
    "print(get_std(standardized_x))"
   ]
  },
  {
   "cell_type": "code",
   "execution_count": 7,
   "metadata": {
    "ExecuteTime": {
     "end_time": "2020-07-27T11:47:53.550878Z",
     "start_time": "2020-07-27T11:47:53.546899Z"
    }
   },
   "outputs": [
    {
     "name": "stdout",
     "output_type": "stream",
     "text": [
      "7.930164461608261e-17\n",
      "1.0\n"
     ]
    }
   ],
   "source": [
    "print(get_mean(standardized_y))\n",
    "print(get_std(standardized_y))"
   ]
  },
  {
   "cell_type": "markdown",
   "metadata": {},
   "source": [
    "#### 2.2 다음 진술들에 대하여 동의하는지 혹은 그렇지 않은지를 그 이유와 함께 설명하시오."
   ]
  },
  {
   "cell_type": "markdown",
   "metadata": {},
   "source": [
    "(a) Cov(Y, X)와 Cor(Y, X)는 $-\\infty$ 와 $\\infty$ 사이의 값을 가질 수 있다.  \n",
    "-> 그럴 것 같다"
   ]
  },
  {
   "cell_type": "markdown",
   "metadata": {},
   "source": [
    "(b) Cov(Y, X) = 0 또는 Cor(Y,X) = 0 이면, Y와 X사이에 아무런 관계가 없다고 결론 지을 수 있다  \n",
    "-> 상관 관계만 0이고 인과 관계는 또 모르는 일임"
   ]
  },
  {
   "cell_type": "markdown",
   "metadata": {},
   "source": [
    "(c) Y대 $\\hat{Y}$ 의 산점도에 있는 점들에 적합된 최소제곱회귀선은 절편항 0과 기울기 1을 가진다.  \n",
    "-> 안 그럴 것 같은데...?"
   ]
  },
  {
   "cell_type": "markdown",
   "metadata": {},
   "source": [
    "#### 2.3 표 2.9에 있는 회귀 분석 결과를 이용하여 다음 가설들에 대한 검정을 수행하여라($\\alpha$ = 0.1)\n",
    "| variables | coefficient | s.e.  | t-test | p-value |\n",
    "|-----------|-------------|-------|--------|---------|\n",
    "| const.    | 4.162       | 3.355 | 1.24   | 0.2385  |\n",
    "| Units     | 15.509      | 0.505 | 30.71  | <0.0001 |"
   ]
  },
  {
   "cell_type": "markdown",
   "metadata": {},
   "source": [
    "(a) $H_0 : B_1 = 15$ 대 $H_1 : B_1 \\ne 15$"
   ]
  },
  {
   "cell_type": "code",
   "execution_count": 9,
   "metadata": {
    "ExecuteTime": {
     "end_time": "2020-07-27T11:47:58.600076Z",
     "start_time": "2020-07-27T11:47:58.591151Z"
    }
   },
   "outputs": [
    {
     "data": {
      "text/plain": [
       "1.0079207920792086"
      ]
     },
     "execution_count": 9,
     "metadata": {},
     "output_type": "execute_result"
    }
   ],
   "source": [
    "# s.e.(B^_1) = 0.505\n",
    "(15.509-15)/0.505"
   ]
  },
  {
   "cell_type": "markdown",
   "metadata": {},
   "source": [
    "자유도 12를 따르는 t 분포의 유의 수준 = 0.1 기준으로 양측 검정 시, 이 귀무가설의 임계값은 1.782 이므로 귀무가설을 기각할 수 없다.  "
   ]
  },
  {
   "cell_type": "markdown",
   "metadata": {},
   "source": [
    "(b) $H_0 : B_1 = 15$ 대 $H_1 : B_1 > 15$"
   ]
  },
  {
   "cell_type": "markdown",
   "metadata": {},
   "source": [
    "위 결과를 이용,  자유도 12의 t 분포에서 유의 수준 0.1에 해당하는 t 값은 1.356이므로 귀무가설을 기각할 수 없다."
   ]
  },
  {
   "cell_type": "markdown",
   "metadata": {},
   "source": [
    "(c) $H_0 : B_0 = 0$ 대 $H_1 : B_0 \\ne 15$"
   ]
  },
  {
   "cell_type": "code",
   "execution_count": 10,
   "metadata": {
    "ExecuteTime": {
     "end_time": "2020-07-27T11:47:58.625014Z",
     "start_time": "2020-07-27T11:47:58.622055Z"
    }
   },
   "outputs": [
    {
     "data": {
      "text/plain": [
       "1.2405365126676602"
      ]
     },
     "execution_count": 10,
     "metadata": {},
     "output_type": "execute_result"
    }
   ],
   "source": [
    "4.162/3.355"
   ]
  },
  {
   "cell_type": "markdown",
   "metadata": {},
   "source": [
    "1.24 < 1.782 이므로 기각할 수 없다"
   ]
  },
  {
   "cell_type": "markdown",
   "metadata": {},
   "source": [
    "(c) $H_0 : B_0 = 5$ 대 $H_1 : B_0 \\ne 5$"
   ]
  },
  {
   "cell_type": "code",
   "execution_count": 11,
   "metadata": {
    "ExecuteTime": {
     "end_time": "2020-07-27T11:47:58.644955Z",
     "start_time": "2020-07-27T11:47:58.640003Z"
    }
   },
   "outputs": [
    {
     "data": {
      "text/plain": [
       "-0.2497764530551416"
      ]
     },
     "execution_count": 11,
     "metadata": {},
     "output_type": "execute_result"
    }
   ],
   "source": [
    "(4.162-5)/3.355"
   ]
  },
  {
   "cell_type": "markdown",
   "metadata": {},
   "source": [
    "-0.24 > -1.356 이므로 기각할 수 없다."
   ]
  },
  {
   "cell_type": "markdown",
   "metadata": {},
   "source": [
    "#### 2.3 표2.9에 있는 회귀분석 결과를 이용하여 $B_0$에 대한 99% 신뢰구간을 구축하여라"
   ]
  },
  {
   "cell_type": "code",
   "execution_count": 12,
   "metadata": {
    "ExecuteTime": {
     "end_time": "2020-07-27T11:47:58.664900Z",
     "start_time": "2020-07-27T11:47:58.659914Z"
    }
   },
   "outputs": [
    {
     "data": {
      "text/plain": [
       "(-6.087525, 14.411525000000001)"
      ]
     },
     "execution_count": 12,
     "metadata": {},
     "output_type": "execute_result"
    }
   ],
   "source": [
    "(4.162 - (3.055 * 3.355), 4.162 + (3.055 * 3.355))"
   ]
  },
  {
   "cell_type": "markdown",
   "metadata": {},
   "source": [
    "#### 최소 제곱법을 이용하여 단순선형회귀모형 $Y = B_0 + B_1 X + \\epsilon$ 을 데이터에 적합할 때, 다음의 각 진술들이 사실임을 증명할 수 있다.   각 진술들을 수리적으로 증명하거나, 옳음을 수치적으로 보여라(표 2.5의 데이터를 이용하여)"
   ]
  },
  {
   "cell_type": "markdown",
   "metadata": {},
   "source": [
    "#### 표 2.5의 데이터와 표 2.7의 적합값 및 잔차를 이용하여 다음을 보여라."
   ]
  },
  {
   "cell_type": "markdown",
   "metadata": {},
   "source": [
    "(a) $Cor(Y, X) = Cor(Y, \\hat{Y}) = 0.994$"
   ]
  },
  {
   "cell_type": "code",
   "execution_count": 13,
   "metadata": {
    "ExecuteTime": {
     "end_time": "2020-07-27T11:47:59.691196Z",
     "start_time": "2020-07-27T11:47:59.686170Z"
    },
    "scrolled": true
   },
   "outputs": [
    {
     "data": {
      "text/plain": [
       "0.9936987461308749"
      ]
     },
     "execution_count": 13,
     "metadata": {},
     "output_type": "execute_result"
    }
   ],
   "source": [
    "get_cor(y, x)"
   ]
  },
  {
   "cell_type": "code",
   "execution_count": 14,
   "metadata": {
    "ExecuteTime": {
     "end_time": "2020-07-27T11:47:59.891621Z",
     "start_time": "2020-07-27T11:47:59.887631Z"
    }
   },
   "outputs": [],
   "source": [
    "y_hat = [19.67, 35.18, 50.69, 66.20, 66.20, 81.71, 97.21, 97.21, 112.72, 128.23, 143.74, 143.74, 159.25, 159.25]"
   ]
  },
  {
   "cell_type": "code",
   "execution_count": 15,
   "metadata": {
    "ExecuteTime": {
     "end_time": "2020-07-27T11:48:00.099100Z",
     "start_time": "2020-07-27T11:48:00.095104Z"
    }
   },
   "outputs": [
    {
     "data": {
      "text/plain": [
       "0.9937010506867261"
      ]
     },
     "execution_count": 15,
     "metadata": {},
     "output_type": "execute_result"
    }
   ],
   "source": [
    "get_cor(y, y_hat)"
   ]
  },
  {
   "cell_type": "markdown",
   "metadata": {},
   "source": [
    "(b) SST = 22768.348  \n",
    "SST = $\\sum_{i=1}^n(y_i - \\bar{y})^2$"
   ]
  },
  {
   "cell_type": "code",
   "execution_count": 16,
   "metadata": {
    "ExecuteTime": {
     "end_time": "2020-07-27T11:48:01.499061Z",
     "start_time": "2020-07-27T11:48:01.495032Z"
    }
   },
   "outputs": [
    {
     "data": {
      "text/plain": [
       "27768.357142857145"
      ]
     },
     "execution_count": 16,
     "metadata": {},
     "output_type": "execute_result"
    }
   ],
   "source": [
    "# SST\n",
    "get_tot_diff_with_mean(y)"
   ]
  },
  {
   "cell_type": "markdown",
   "metadata": {},
   "source": [
    "(c)SSE = 348.848  \n",
    "SSE = $\\sum_{i=1}^n(y_i - \\hat{y_i})^2$"
   ]
  },
  {
   "cell_type": "code",
   "execution_count": 18,
   "metadata": {
    "ExecuteTime": {
     "end_time": "2020-07-27T11:48:02.745685Z",
     "start_time": "2020-07-27T11:48:02.740700Z"
    }
   },
   "outputs": [
    {
     "data": {
      "text/plain": [
       "348.7211999999996"
      ]
     },
     "execution_count": 18,
     "metadata": {},
     "output_type": "execute_result"
    }
   ],
   "source": [
    "get_SSE(y, y_hat)"
   ]
  },
  {
   "cell_type": "markdown",
   "metadata": {},
   "source": [
    "#### 2.7 표 2.4에 있는 네 개의 데이터들은 다음 통계량들에 대하여 동일한 값을 준다는 것을 보여라"
   ]
  },
  {
   "cell_type": "code",
   "execution_count": 19,
   "metadata": {
    "ExecuteTime": {
     "end_time": "2020-07-27T11:48:03.856166Z",
     "start_time": "2020-07-27T11:48:03.852175Z"
    }
   },
   "outputs": [],
   "source": [
    "x_1 = [10, 8, 13, 9, 11, 14,6, 4,12, 7,5,]\n",
    "y_1 = [8.04, 6.95, 7.58, 8.81, 8.33, 9.96, 7.24, 4.26, 10.84, 4.82, 5.68, ]"
   ]
  },
  {
   "cell_type": "code",
   "execution_count": 20,
   "metadata": {
    "ExecuteTime": {
     "end_time": "2020-07-27T11:48:04.316899Z",
     "start_time": "2020-07-27T11:48:04.312910Z"
    }
   },
   "outputs": [],
   "source": [
    "x_2 = [10, 8, 13, 9, 11, 14, 6, 4, 12, 7, 5]\n",
    "y_2 = [9.14, 8.14, 8.74, 8.77, 9.26, 8.1, 6.13, 3.1, 9.13, 7.26, 4.74]"
   ]
  },
  {
   "cell_type": "code",
   "execution_count": 21,
   "metadata": {
    "ExecuteTime": {
     "end_time": "2020-07-27T11:48:05.368543Z",
     "start_time": "2020-07-27T11:48:05.365941Z"
    }
   },
   "outputs": [],
   "source": [
    "x_3 = [10, 8, 13, 9, 11, 14, 6, 4, 12, 7, 5, ]\n",
    "y_3= [7.46, 6.77, 12.74, 7.11, 7.81, 8.84, 6.08, 5.39, 8.15, 6.42, 5.73,]"
   ]
  },
  {
   "cell_type": "code",
   "execution_count": 22,
   "metadata": {
    "ExecuteTime": {
     "end_time": "2020-07-27T11:48:05.541493Z",
     "start_time": "2020-07-27T11:48:05.538481Z"
    }
   },
   "outputs": [],
   "source": [
    "x_4 = [8, 8, 8, 8, 8, 8, 8, 19, 8, 8, 8, ]\n",
    "y_4 = [6.58, 5.76, 7.71, 8.84, 8.47, 7.04, 5.25, 12.5, 5.56, 7.91, 6.89, ]"
   ]
  },
  {
   "cell_type": "code",
   "execution_count": 25,
   "metadata": {
    "ExecuteTime": {
     "end_time": "2020-07-27T11:48:06.082061Z",
     "start_time": "2020-07-27T11:48:06.078038Z"
    }
   },
   "outputs": [
    {
     "data": {
      "text/plain": [
       "(0.5000909090909091, 0.5, 0.49972727272727274, 0.49990909090909086)"
      ]
     },
     "execution_count": 25,
     "metadata": {},
     "output_type": "execute_result"
    }
   ],
   "source": [
    "get_slope(x_1, y_1), get_slope(x_2, y_2), get_slope(x_3, y_3), get_slope(x_4, y_4)"
   ]
  },
  {
   "cell_type": "code",
   "execution_count": 26,
   "metadata": {
    "ExecuteTime": {
     "end_time": "2020-07-27T11:48:06.270561Z",
     "start_time": "2020-07-27T11:48:06.265536Z"
    }
   },
   "outputs": [
    {
     "data": {
      "text/plain": [
       "(3.0000909090909103, 3.000909090909091, 3.0024545454545466, 3.0017272727272726)"
      ]
     },
     "execution_count": 26,
     "metadata": {},
     "output_type": "execute_result"
    }
   ],
   "source": [
    "get_intercept(x_1, y_1), get_intercept(x_2, y_2), get_intercept(x_3, y_3), get_intercept(x_4, y_4)"
   ]
  },
  {
   "cell_type": "code",
   "execution_count": 27,
   "metadata": {
    "ExecuteTime": {
     "end_time": "2020-07-27T11:48:07.102036Z",
     "start_time": "2020-07-27T11:48:07.098014Z"
    }
   },
   "outputs": [
    {
     "data": {
      "text/plain": [
       "(0.8164205163448399,\n",
       " 0.8162365060002429,\n",
       " 0.8162867394895982,\n",
       " 0.8165214368885029)"
      ]
     },
     "execution_count": 27,
     "metadata": {},
     "output_type": "execute_result"
    }
   ],
   "source": [
    "get_cor(x_1, y_1), get_cor(x_2, y_2), get_cor(x_3, y_3), get_cor(x_4, y_4)"
   ]
  },
  {
   "cell_type": "code",
   "execution_count": 32,
   "metadata": {
    "ExecuteTime": {
     "end_time": "2020-07-27T11:58:02.737688Z",
     "start_time": "2020-07-27T11:58:02.732700Z"
    }
   },
   "outputs": [
    {
     "data": {
      "text/plain": [
       "(0.4002481818181819,\n",
       " 0.4000336363636364,\n",
       " 0.3996709090909092,\n",
       " 0.4002499999999999)"
      ]
     },
     "execution_count": 32,
     "metadata": {},
     "output_type": "execute_result"
    }
   ],
   "source": [
    "get_R_sqr(x_1, y_1), get_R_sqr(x_2, y_2), get_R_sqr(x_3, y_3), get_R_sqr(x_4, y_4)"
   ]
  },
  {
   "cell_type": "markdown",
   "metadata": {},
   "source": [
    "#### 2.8 최소제곱법을 이용하여 단순선형회귀모형 $Y = B_0 + B_1X + \\epsilon$ 을 데이터에 적합할 때, $H_0 : B_1 = 0$가 기각되지 않는다고 가정하자. 이것은 모형을 $Y = B_0 + \\epsilon$ 과 같이 단순하게 쓸수 있음을 의미한다. $B_0$의 최소제곱추정치는 $\\hat{B_0} = \\bar{y}$ 이다(이를 증명할 수 있는가?)"
   ]
  },
  {
   "cell_type": "code",
   "execution_count": 33,
   "metadata": {
    "ExecuteTime": {
     "end_time": "2020-07-27T12:02:59.733116Z",
     "start_time": "2020-07-27T12:02:59.730129Z"
    }
   },
   "outputs": [],
   "source": [
    "# 아이패드 풀이 참고"
   ]
  },
  {
   "cell_type": "markdown",
   "metadata": {},
   "source": [
    "#### 2.9 아이패드 풀이 참고\n"
   ]
  },
  {
   "cell_type": "code",
   "execution_count": 71,
   "metadata": {
    "ExecuteTime": {
     "end_time": "2020-07-27T23:30:13.354581Z",
     "start_time": "2020-07-27T23:30:13.350592Z"
    }
   },
   "outputs": [
    {
     "data": {
      "text/plain": [
       "0.08323225"
      ]
     },
     "execution_count": 71,
     "metadata": {},
     "output_type": "execute_result"
    }
   ],
   "source": [
    "0.2885 ** 2"
   ]
  },
  {
   "cell_type": "code",
   "execution_count": 70,
   "metadata": {
    "ExecuteTime": {
     "end_time": "2020-07-27T23:17:05.208355Z",
     "start_time": "2020-07-27T23:17:05.203368Z"
    }
   },
   "outputs": [
    {
     "data": {
      "text/plain": [
       "0.49520000000000003"
      ]
     },
     "execution_count": 70,
     "metadata": {},
     "output_type": "execute_result"
    }
   ],
   "source": [
    "#(b)\n",
    "0.656 * 0.45 + 0.2"
   ]
  },
  {
   "cell_type": "code",
   "execution_count": null,
   "metadata": {},
   "outputs": [],
   "source": [
    "#(c) (b) 에서 얻어진 추정치에 대한 95% 신뢰구간을 구축하여라"
   ]
  },
  {
   "cell_type": "markdown",
   "metadata": {},
   "source": [
    "$s.e.(\\hat{y}) = \\hat{\\sigma}\\sqrt{1+\\frac{1}{n}+\\frac{(x_0-\\bar{x})^2}{\\sum(x_i-\\bar{x})^2}}$"
   ]
  },
  {
   "cell_type": "code",
   "execution_count": 76,
   "metadata": {
    "ExecuteTime": {
     "end_time": "2020-07-27T23:38:12.664717Z",
     "start_time": "2020-07-27T23:38:12.661723Z"
    }
   },
   "outputs": [],
   "source": [
    "result = 0.0567 * sqrt(1 + (1/19) + (((0.495 - 0.5) ** 2) / (0.45-0.5) ** 2) )"
   ]
  },
  {
   "cell_type": "code",
   "execution_count": 77,
   "metadata": {
    "ExecuteTime": {
     "end_time": "2020-07-27T23:39:11.192022Z",
     "start_time": "2020-07-27T23:39:11.187999Z"
    }
   },
   "outputs": [
    {
     "data": {
      "text/plain": [
       "(0.6183266325478188, 0.37167336745218116)"
      ]
     },
     "execution_count": 77,
     "metadata": {},
     "output_type": "execute_result"
    }
   ],
   "source": [
    "(0.495 + (result*2.110), 0.495 - (result*2.110))"
   ]
  },
  {
   "cell_type": "code",
   "execution_count": 80,
   "metadata": {
    "ExecuteTime": {
     "end_time": "2020-07-27T23:48:06.497102Z",
     "start_time": "2020-07-27T23:48:06.493111Z"
    }
   },
   "outputs": [
    {
     "data": {
      "text/plain": [
       "(0.24222900000000008, 1.069771)"
      ]
     },
     "execution_count": 80,
     "metadata": {},
     "output_type": "execute_result"
    }
   ],
   "source": [
    "#(d) 회귀선의 기울기 $B_1$에 대한 95% 신뢰구간을 구축하여라\n",
    "(0.656 - (2.110 * 0.1961), 0.656 + (2.110 * 0.1961))"
   ]
  },
  {
   "cell_type": "code",
   "execution_count": 81,
   "metadata": {
    "ExecuteTime": {
     "end_time": "2020-07-27T23:53:10.553615Z",
     "start_time": "2020-07-27T23:53:10.549590Z"
    }
   },
   "outputs": [
    {
     "data": {
      "text/plain": [
       "-1.754207037225905"
      ]
     },
     "execution_count": 81,
     "metadata": {},
     "output_type": "execute_result"
    }
   ],
   "source": [
    "#(e) 5% 유의 수준 하에서 가설을 검정하여라\n",
    "(0.656-1)/0.1961"
   ]
  },
  {
   "cell_type": "markdown",
   "metadata": {},
   "source": [
    "#### 2.10 비슷한 키를 가진 사람들끼리 결혼하는 경향이 있는지가 관심이라고 하자. 이를 위해 신혼 부부들의 표본이 선택되었다. X는 남편의 키이고 Y는 아내의 키라고 하자."
   ]
  },
  {
   "cell_type": "code",
   "execution_count": 53,
   "metadata": {
    "ExecuteTime": {
     "end_time": "2020-07-27T22:46:31.771755Z",
     "start_time": "2020-07-27T22:46:31.762719Z"
    }
   },
   "outputs": [],
   "source": [
    "data = \"\"\"Husband\tWife\n",
    "186\t175 180\t168 160\t154 186\t166 163\t162 172\t152 192\t179 170\t163 174\t172 191\t170 182\t170 178\t147 181\t165 168\t162 162\t154 188\t166\n",
    "168\t167 183\t174 188\t173 166\t164 180\t163 176\t163 185\t171 169\t161 182\t167 162\t160 169\t165 176\t167 180\t175 157\t157 170\t172 186\t181\n",
    "180\t166 188\t181 153\t148 179\t169 175\t170 165\t157 156\t162 185\t174 172\t168 166\t162 179\t159 181\t155 176\t171 170\t159 165\t164 183\t175\n",
    "162\t156 192\t180 185\t167 163\t157 185\t167 170\t157 176\t168 176\t167 160\t145 167\t156 157\t153 180\t162 172\t156 184\t174 185\t160 165\t152\n",
    "181\t175 170\t169 161\t149 188\t176 181\t165 156\t143 161\t158 152\t141 179\t160 170\t149 170\t160 165\t148 165\t154 169\t171 171\t165 192\t175\n",
    "176\t161 168\t162 169\t162 184\t176 171\t160 161\t158 185\t175 184\t174 179\t168 184\t177 175\t158 173\t161 164\t146 181\t168 187\t178 181\t170\"\"\".split()"
   ]
  },
  {
   "cell_type": "code",
   "execution_count": 55,
   "metadata": {
    "ExecuteTime": {
     "end_time": "2020-07-27T22:46:53.003956Z",
     "start_time": "2020-07-27T22:46:52.999949Z"
    }
   },
   "outputs": [],
   "source": [
    "# 짝수는 남편, 홀수는 아내\n",
    "husband = [data[i] for i in range(len(data)) if i % 2 == 0]\n",
    "wife = [data[i] for i in range(len(data)) if i % 2 != 0]"
   ]
  },
  {
   "cell_type": "code",
   "execution_count": 56,
   "metadata": {
    "ExecuteTime": {
     "end_time": "2020-07-27T22:46:54.569256Z",
     "start_time": "2020-07-27T22:46:54.565232Z"
    }
   },
   "outputs": [],
   "source": [
    "husband = husband[1:]\n",
    "wife = wife[1:]"
   ]
  },
  {
   "cell_type": "code",
   "execution_count": 59,
   "metadata": {
    "ExecuteTime": {
     "end_time": "2020-07-27T22:47:12.116902Z",
     "start_time": "2020-07-27T22:47:12.112912Z"
    }
   },
   "outputs": [],
   "source": [
    "husband = list(map(int, husband))\n",
    "wife = list(map(int, wife))"
   ]
  },
  {
   "cell_type": "code",
   "execution_count": 61,
   "metadata": {
    "ExecuteTime": {
     "end_time": "2020-07-27T22:47:20.555638Z",
     "start_time": "2020-07-27T22:47:20.549657Z"
    }
   },
   "outputs": [
    {
     "data": {
      "text/plain": [
       "69.41293859649122"
      ]
     },
     "execution_count": 61,
     "metadata": {},
     "output_type": "execute_result"
    }
   ],
   "source": [
    "# (a) 남편과 아내의 키 사이의 공분산을 계산하여라\n",
    "get_cov(husband, wife)"
   ]
  },
  {
   "cell_type": "code",
   "execution_count": 64,
   "metadata": {
    "ExecuteTime": {
     "end_time": "2020-07-27T22:48:59.031054Z",
     "start_time": "2020-07-27T22:48:59.025070Z"
    }
   },
   "outputs": [
    {
     "data": {
      "text/plain": [
       "0.006941293859649124"
      ]
     },
     "execution_count": 64,
     "metadata": {},
     "output_type": "execute_result"
    }
   ],
   "source": [
    "#(b) 키가 세티미터가 아닌 미터로 측정되었다면 공분산은 어떻게 되겠는가\n",
    "husband_meter = list(map(lambda x: x/100, husband))\n",
    "wife_meter = list(map(lambda x: x/100, wife))\n",
    "get_cov(husband_meter, wife_meter)"
   ]
  },
  {
   "cell_type": "code",
   "execution_count": 65,
   "metadata": {
    "ExecuteTime": {
     "end_time": "2020-07-27T22:49:22.563486Z",
     "start_time": "2020-07-27T22:49:22.558497Z"
    }
   },
   "outputs": [
    {
     "data": {
      "text/plain": [
       "0.7633863969860972"
      ]
     },
     "execution_count": 65,
     "metadata": {},
     "output_type": "execute_result"
    }
   ],
   "source": [
    "#(c) 남편과 아내의 키 사이의 상관계수를 계산하여라\n",
    "get_cor(husband, wife)"
   ]
  },
  {
   "cell_type": "code",
   "execution_count": 66,
   "metadata": {
    "ExecuteTime": {
     "end_time": "2020-07-27T22:49:59.298384Z",
     "start_time": "2020-07-27T22:49:59.291403Z"
    }
   },
   "outputs": [
    {
     "data": {
      "text/plain": [
       "0.7633863969860971"
      ]
     },
     "execution_count": 66,
     "metadata": {},
     "output_type": "execute_result"
    }
   ],
   "source": [
    "#(d) 키가 센티미터가 아닌 미터로 측정되었다면 상관계수는 어떻게 되겠는가?\n",
    "get_cor(husband_meter, wife_meter)"
   ]
  },
  {
   "cell_type": "code",
   "execution_count": 67,
   "metadata": {
    "ExecuteTime": {
     "end_time": "2020-07-27T22:50:38.155592Z",
     "start_time": "2020-07-27T22:50:38.152600Z"
    }
   },
   "outputs": [],
   "source": [
    "#(e) 모든 남자들이 자신보다 정확히 5센티미터 작은 여자와 결혼하였다면 상관계수는 어떻게 되겠는가?\n",
    "wife_minus_5 = list(map(lambda x: x-5, wife))"
   ]
  },
  {
   "cell_type": "code",
   "execution_count": 68,
   "metadata": {
    "ExecuteTime": {
     "end_time": "2020-07-27T22:50:55.169812Z",
     "start_time": "2020-07-27T22:50:55.161833Z"
    }
   },
   "outputs": [
    {
     "data": {
      "text/plain": [
       "0.7633863969860972"
      ]
     },
     "execution_count": 68,
     "metadata": {},
     "output_type": "execute_result"
    }
   ],
   "source": [
    "get_cor(husband, wife_minus_5)"
   ]
  },
  {
   "cell_type": "code",
   "execution_count": 69,
   "metadata": {
    "ExecuteTime": {
     "end_time": "2020-07-27T22:53:24.312073Z",
     "start_time": "2020-07-27T22:53:24.306089Z"
    }
   },
   "outputs": [
    {
     "data": {
      "text/plain": [
       "(98.17697482638887, 82.46831597222219)"
      ]
     },
     "execution_count": 69,
     "metadata": {},
     "output_type": "execute_result"
    }
   ],
   "source": [
    "# 남편과 아내의 키에 관한 회귀모형을 적합하려고 한다. 두 변수 중 어느 것을 반응 변수로 하겠는가?\n",
    "get_var(husband), get_var(wife)"
   ]
  },
  {
   "cell_type": "code",
   "execution_count": 82,
   "metadata": {
    "ExecuteTime": {
     "end_time": "2020-07-28T00:00:25.574718Z",
     "start_time": "2020-07-28T00:00:25.565709Z"
    }
   },
   "outputs": [
    {
     "data": {
      "text/plain": [
       "(0.6996537352494864, 0.8329245764629727)"
      ]
     },
     "execution_count": 82,
     "metadata": {},
     "output_type": "execute_result"
    }
   ],
   "source": [
    "#(f) 남편과 아내의 키에 관한 회귀 모형을 적합하려고 한다. 두 변수 중 어느 것을 반응변수로 하겠는가? 당신의 답을 정당화하여라.\n",
    "get_slope(husband, wife), get_slope(wife, husband)"
   ]
  },
  {
   "cell_type": "code",
   "execution_count": 83,
   "metadata": {
    "ExecuteTime": {
     "end_time": "2020-07-28T00:01:31.286480Z",
     "start_time": "2020-07-28T00:01:31.278501Z"
    }
   },
   "outputs": [
    {
     "data": {
      "text/plain": [
       "(41.93015354791507, 37.81004910345402)"
      ]
     },
     "execution_count": 83,
     "metadata": {},
     "output_type": "execute_result"
    }
   ],
   "source": [
    "#(f) 남편과 아내의 키에 관한 회귀 모형을 적합하려고 한다. 두 변수 중 어느 것을 반응변수로 하겠는가? 당신의 답을 정당화하여라.\n",
    "get_intercept(husband, wife), get_intercept(wife, husband)"
   ]
  },
  {
   "cell_type": "code",
   "execution_count": 86,
   "metadata": {
    "ExecuteTime": {
     "end_time": "2020-07-28T00:02:53.405396Z",
     "start_time": "2020-07-28T00:02:53.399374Z"
    }
   },
   "outputs": [
    {
     "ename": "TypeError",
     "evalue": "get_std_err_of_const() missing 1 required positional argument: 'sample_x'",
     "output_type": "error",
     "traceback": [
      "\u001b[1;31m---------------------------------------------------------------------------\u001b[0m",
      "\u001b[1;31mTypeError\u001b[0m                                 Traceback (most recent call last)",
      "\u001b[1;32m<ipython-input-86-e3a7c104d5b4>\u001b[0m in \u001b[0;36m<module>\u001b[1;34m()\u001b[0m\n\u001b[1;32m----> 1\u001b[1;33m \u001b[0mget_std_err_of_const\u001b[0m\u001b[1;33m(\u001b[0m\u001b[0mhusband\u001b[0m\u001b[1;33m,\u001b[0m \u001b[0mwife\u001b[0m\u001b[1;33m)\u001b[0m\u001b[1;33m,\u001b[0m \u001b[0mget_std_err_of_const\u001b[0m\u001b[1;33m(\u001b[0m\u001b[0mwife\u001b[0m\u001b[1;33m,\u001b[0m \u001b[0mhusband\u001b[0m\u001b[1;33m)\u001b[0m\u001b[1;33m\u001b[0m\u001b[1;33m\u001b[0m\u001b[0m\n\u001b[0m",
      "\u001b[1;31mTypeError\u001b[0m: get_std_err_of_const() missing 1 required positional argument: 'sample_x'"
     ]
    }
   ],
   "source": [
    "get_std_err_of_const(husband, wife), get_std_err_of_const(wife, husband)"
   ]
  },
  {
   "cell_type": "code",
   "execution_count": 85,
   "metadata": {
    "ExecuteTime": {
     "end_time": "2020-07-28T00:02:46.882806Z",
     "start_time": "2020-07-28T00:02:46.875825Z"
    }
   },
   "outputs": [
    {
     "ename": "TypeError",
     "evalue": "get_std_err_of_const() missing 1 required positional argument: 'sample_x'",
     "output_type": "error",
     "traceback": [
      "\u001b[1;31m---------------------------------------------------------------------------\u001b[0m",
      "\u001b[1;31mTypeError\u001b[0m                                 Traceback (most recent call last)",
      "\u001b[1;32m<ipython-input-85-174371462317>\u001b[0m in \u001b[0;36m<module>\u001b[1;34m()\u001b[0m\n\u001b[1;32m----> 1\u001b[1;33m \u001b[0mprint\u001b[0m\u001b[1;33m(\u001b[0m\u001b[1;34m\"회귀계수들의 표준오차\"\u001b[0m\u001b[1;33m,\u001b[0m \u001b[0mget_std_err_of_const\u001b[0m\u001b[1;33m(\u001b[0m\u001b[0mhusband\u001b[0m\u001b[1;33m,\u001b[0m \u001b[0mwife\u001b[0m\u001b[1;33m)\u001b[0m\u001b[1;33m,\u001b[0m \u001b[0mget_std_err_of_const\u001b[0m\u001b[1;33m(\u001b[0m\u001b[0mwife\u001b[0m\u001b[1;33m,\u001b[0m \u001b[0mhusband\u001b[0m\u001b[1;33m)\u001b[0m\u001b[1;33m)\u001b[0m\u001b[1;33m\u001b[0m\u001b[1;33m\u001b[0m\u001b[0m\n\u001b[0m",
      "\u001b[1;31mTypeError\u001b[0m: get_std_err_of_const() missing 1 required positional argument: 'sample_x'"
     ]
    }
   ],
   "source": [
    "print(\"회귀계수들의 표준오차\", )"
   ]
  }
 ],
 "metadata": {
  "kernelspec": {
   "display_name": "Python 3",
   "language": "python",
   "name": "python3"
  },
  "language_info": {
   "codemirror_mode": {
    "name": "ipython",
    "version": 3
   },
   "file_extension": ".py",
   "mimetype": "text/x-python",
   "name": "python",
   "nbconvert_exporter": "python",
   "pygments_lexer": "ipython3",
   "version": "3.7.3"
  },
  "toc": {
   "base_numbering": 1,
   "nav_menu": {},
   "number_sections": true,
   "sideBar": true,
   "skip_h1_title": false,
   "title_cell": "Table of Contents",
   "title_sidebar": "Contents",
   "toc_cell": false,
   "toc_position": {
    "height": "calc(100% - 180px)",
    "left": "10px",
    "top": "150px",
    "width": "512px"
   },
   "toc_section_display": true,
   "toc_window_display": true
  },
  "varInspector": {
   "cols": {
    "lenName": 16,
    "lenType": 16,
    "lenVar": 40
   },
   "kernels_config": {
    "python": {
     "delete_cmd_postfix": "",
     "delete_cmd_prefix": "del ",
     "library": "var_list.py",
     "varRefreshCmd": "print(var_dic_list())"
    },
    "r": {
     "delete_cmd_postfix": ") ",
     "delete_cmd_prefix": "rm(",
     "library": "var_list.r",
     "varRefreshCmd": "cat(var_dic_list()) "
    }
   },
   "types_to_exclude": [
    "module",
    "function",
    "builtin_function_or_method",
    "instance",
    "_Feature"
   ],
   "window_display": false
  }
 },
 "nbformat": 4,
 "nbformat_minor": 2
}
