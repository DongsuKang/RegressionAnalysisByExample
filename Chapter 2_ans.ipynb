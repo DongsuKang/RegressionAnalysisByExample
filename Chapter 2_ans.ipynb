{
 "cells": [
  {
   "cell_type": "markdown",
   "metadata": {},
   "source": [
    "## Import"
   ]
  },
  {
   "cell_type": "code",
   "execution_count": 1,
   "metadata": {
    "ExecuteTime": {
     "end_time": "2020-08-03T01:47:13.101808Z",
     "start_time": "2020-08-03T01:47:11.626564Z"
    },
    "scrolled": true
   },
   "outputs": [],
   "source": [
    "from functools import reduce\n",
    "from math import sqrt\n",
    "from sklearn import linear_model\n",
    "import numpy as np\n",
    "import pandas as pd\n",
    "import matplotlib\n",
    "import matplotlib.pyplot as plt\n",
    "%matplotlib inline\n",
    "matplotlib.style.use('ggplot')"
   ]
  },
  {
   "cell_type": "code",
   "execution_count": 2,
   "metadata": {
    "ExecuteTime": {
     "end_time": "2020-08-03T01:47:13.487241Z",
     "start_time": "2020-08-03T01:47:13.102715Z"
    }
   },
   "outputs": [],
   "source": [
    "import statsmodels.api as sm\n",
    "import statsmodels.formula.api as smf"
   ]
  },
  {
   "cell_type": "code",
   "execution_count": 3,
   "metadata": {
    "ExecuteTime": {
     "end_time": "2020-08-03T01:47:13.492033Z",
     "start_time": "2020-08-03T01:47:13.489065Z"
    }
   },
   "outputs": [],
   "source": [
    "import scipy as sp"
   ]
  },
  {
   "cell_type": "markdown",
   "metadata": {},
   "source": [
    "## 함수 리스트"
   ]
  },
  {
   "cell_type": "code",
   "execution_count": 4,
   "metadata": {
    "ExecuteTime": {
     "end_time": "2020-08-03T01:47:13.507727Z",
     "start_time": "2020-08-03T01:47:13.494028Z"
    },
    "code_folding": []
   },
   "outputs": [],
   "source": [
    "#(c)\n",
    "def standardization(x, mean, std) : \n",
    "    return (x-mean)/std\n",
    "\n",
    "def get_tot_diff_with_mean(x) : \n",
    "    mean_x = get_mean(x)\n",
    "    return sum(map(lambda x : (x - mean_x) ** 2, x))\n",
    "\n",
    "def get_mean(x) : \n",
    "    return (reduce(lambda value_x1, value_x2 : value_x1 + value_x2, x))/len(x)\n",
    "\n",
    "def get_var(x) : \n",
    "    return get_tot_diff_with_mean(x)/len(x)\n",
    "\n",
    "def get_std(x) : \n",
    "    return sqrt(get_tot_diff_with_mean(x)/(len(x) - 1))\n",
    "\n",
    "def get_cov(x, y) : \n",
    "    mean_x = get_mean(x)\n",
    "    mean_y = get_mean(y)\n",
    "    sum_of_diff = sum(map(lambda value_x, value_y: (value_x-mean_x)*(value_y-mean_y), x, y))\n",
    "    return sum_of_diff / (len(x) - 1)\n",
    "\n",
    "def get_cor(x, y) : \n",
    "    return get_cov(x, y) / (get_std(x) * get_std(y))\n",
    "\n",
    "def get_SSE(y, y_hat) :\n",
    "    return sum(map(lambda value_y, value_y_hat : (value_y-value_y_hat) ** 2, y, y_hat)) / (len(y) - 2)\n",
    "\n",
    "def get_slope(x, y) : \n",
    "    mean_x = get_mean(x)\n",
    "    mean_y = get_mean(y)\n",
    "    return sum(map(lambda value_x, value_y : (value_x - mean_x) * (value_y - mean_y), x, y)) / get_tot_diff_with_mean(x)\n",
    "\n",
    "def get_intercept(x, y) : \n",
    "    return get_mean(y) - (get_slope(x, y) * get_mean(x))\n",
    "\n",
    "def get_SST(y) : \n",
    "    return get_tot_diff_with_mean(y)\n",
    "\n",
    "def get_R_sqr(y, y_hat) : \n",
    "    return 1 - (get_SSE(y, y_hat)/get_SST(y))\n",
    "\n",
    "def get_std_err_of_intercept(y, y_hat, x) : \n",
    "    mean_x = get_mean(x)\n",
    "    var = get_SSE(y, y_hat)\n",
    "    std_err_of_intercept = sqrt(var) * sqrt((1/len(x)) + (mean_x ** 2 / get_tot_diff_with_mean(x)))    \n",
    "    return std_err_of_intercept\n",
    "\n",
    "def get_std_err_of_slope(y, y_hat, x) : \n",
    "    std_err_of_slope = sqrt(get_SSE(y, y_hat)) / sqrt(get_tot_diff_with_mean(x))\n",
    "    return std_err_of_slope\n",
    "\n",
    "def get_y_hat(slope, intercept, x) : \n",
    "    y_hat = [intercept + slope * x for x in x]\n",
    "    return y_hat"
   ]
  },
  {
   "cell_type": "code",
   "execution_count": 79,
   "metadata": {
    "ExecuteTime": {
     "end_time": "2020-08-03T02:25:52.837441Z",
     "start_time": "2020-08-03T02:25:52.833476Z"
    }
   },
   "outputs": [],
   "source": [
    "def get_predicted_value(slope, intercept, given_x) : \n",
    "    predicted_value = intercept + slope * given_x\n",
    "    return predicted_value"
   ]
  },
  {
   "cell_type": "code",
   "execution_count": 60,
   "metadata": {
    "ExecuteTime": {
     "end_time": "2020-08-03T01:48:06.358218Z",
     "start_time": "2020-08-03T01:48:06.354597Z"
    }
   },
   "outputs": [],
   "source": [
    "def get_std_err_of_predicted_value(SSE, x, given_x) : \n",
    "    mean_x = get_mean(x)\n",
    "    std_err_of_predicted_value = SSE * sqrt(1 + (1/len(x)) + (((given_x - mean_x) ** 2) / get_tot_diff_with_mean(x)))\n",
    "    return std_err_of_predicted_value"
   ]
  },
  {
   "cell_type": "code",
   "execution_count": 95,
   "metadata": {
    "ExecuteTime": {
     "end_time": "2020-08-03T11:22:09.204941Z",
     "start_time": "2020-08-03T11:22:09.200173Z"
    }
   },
   "outputs": [],
   "source": [
    "def get_confidence_interval_of_predicted_values(predicted_value, std_err_of_predicted_value, x, alpha=0.95) : \n",
    "    confidence_interval = sp.stats.t.interval(alpha=0.95, df=len(x)-2)\n",
    "    print(std_err_of_predicted_value)\n",
    "    print(predicted_value)\n",
    "    print(confidence_interval)\n",
    "    return (predicted_value + (std_err_of_predicted_value * confidence_interval[0]), predicted_value + (std_err_of_predicted_value * confidence_interval[1]))"
   ]
  },
  {
   "cell_type": "markdown",
   "metadata": {},
   "source": [
    "## Chapter 2 문제"
   ]
  },
  {
   "cell_type": "markdown",
   "metadata": {},
   "source": [
    "### 2.1"
   ]
  },
  {
   "cell_type": "markdown",
   "metadata": {},
   "source": [
    "- (a)Var(x)와 Var(y)를 계산하여라\n",
    "- (b)$sum_{i=1}^n (y_i - \\bar{y}) = 0$ 임을 보여라\n",
    "- (c)표준화 된 변수들은 평균 0과 표준편차 1을 가짐을 보여라\n",
    "- (d)식 (2.5), (2.6), (2.7)의 세가지 공식들이 동일함을 보여라\n",
    "- (e) 식 (2.14)와 (2.20)의 두 공식들이 동일함을 보여라"
   ]
  },
  {
   "cell_type": "code",
   "execution_count": 7,
   "metadata": {
    "ExecuteTime": {
     "end_time": "2020-08-03T01:47:13.524966Z",
     "start_time": "2020-08-03T01:47:13.521069Z"
    }
   },
   "outputs": [],
   "source": [
    "x = [1, 2, 3, 4, 4, 5, 6, 6, 7, 8, 9, 9, 10, 10]\n",
    "y = [23, 29, 49, 64, 74, 87, 96, 97, 109, 119, 149, 145, 154, 166]"
   ]
  },
  {
   "cell_type": "code",
   "execution_count": 8,
   "metadata": {
    "ExecuteTime": {
     "end_time": "2020-08-03T01:47:13.532922Z",
     "start_time": "2020-08-03T01:47:13.526940Z"
    }
   },
   "outputs": [
    {
     "data": {
      "text/plain": [
       "(8.142857142857142, 1983.4540816326532)"
      ]
     },
     "execution_count": 8,
     "metadata": {},
     "output_type": "execute_result"
    }
   ],
   "source": [
    "#(a)\n",
    "get_var(x), get_var(y)"
   ]
  },
  {
   "cell_type": "code",
   "execution_count": 9,
   "metadata": {
    "ExecuteTime": {
     "end_time": "2020-08-03T01:47:13.537746Z",
     "start_time": "2020-08-03T01:47:13.535166Z"
    }
   },
   "outputs": [],
   "source": [
    "#(b)"
   ]
  },
  {
   "cell_type": "code",
   "execution_count": 10,
   "metadata": {
    "ExecuteTime": {
     "end_time": "2020-08-03T01:47:13.542898Z",
     "start_time": "2020-08-03T01:47:13.539423Z"
    }
   },
   "outputs": [],
   "source": [
    "# 표준화 된 x의 모음\n",
    "standardized_x = []\n",
    "for x_i in x : \n",
    "    standardized_x.append(standardization(x_i, mean=get_mean(x), std=get_std(x)))"
   ]
  },
  {
   "cell_type": "code",
   "execution_count": 11,
   "metadata": {
    "ExecuteTime": {
     "end_time": "2020-08-03T01:47:13.548568Z",
     "start_time": "2020-08-03T01:47:13.544120Z"
    }
   },
   "outputs": [],
   "source": [
    "# 표준화 된 y의 모음\n",
    "standardized_y = []\n",
    "for y_i in y : \n",
    "    standardized_y.append(standardization(y_i, get_mean(y), get_std(y)))"
   ]
  },
  {
   "cell_type": "code",
   "execution_count": 12,
   "metadata": {
    "ExecuteTime": {
     "end_time": "2020-08-03T01:47:13.558405Z",
     "start_time": "2020-08-03T01:47:13.549877Z"
    }
   },
   "outputs": [
    {
     "name": "stdout",
     "output_type": "stream",
     "text": [
      "3.172065784643304e-17\n",
      "1.0\n"
     ]
    }
   ],
   "source": [
    "print(get_mean(standardized_x))\n",
    "print(get_std(standardized_x))"
   ]
  },
  {
   "cell_type": "code",
   "execution_count": 13,
   "metadata": {
    "ExecuteTime": {
     "end_time": "2020-08-03T01:47:13.562924Z",
     "start_time": "2020-08-03T01:47:13.559851Z"
    }
   },
   "outputs": [
    {
     "name": "stdout",
     "output_type": "stream",
     "text": [
      "7.930164461608261e-17\n",
      "1.0\n"
     ]
    }
   ],
   "source": [
    "print(get_mean(standardized_y))\n",
    "print(get_std(standardized_y))"
   ]
  },
  {
   "cell_type": "markdown",
   "metadata": {},
   "source": [
    "#### 2.2 다음 진술들에 대하여 동의하는지 혹은 그렇지 않은지를 그 이유와 함께 설명하시오."
   ]
  },
  {
   "cell_type": "markdown",
   "metadata": {},
   "source": [
    "(a) Cov(Y, X)와 Cor(Y, X)는 $-\\infty$ 와 $\\infty$ 사이의 값을 가질 수 있다.  \n",
    "-> 그럴 것 같다"
   ]
  },
  {
   "cell_type": "markdown",
   "metadata": {},
   "source": [
    "(b) Cov(Y, X) = 0 또는 Cor(Y,X) = 0 이면, Y와 X사이에 아무런 관계가 없다고 결론 지을 수 있다  \n",
    "-> 상관 관계만 0이고 인과 관계는 또 모르는 일임"
   ]
  },
  {
   "cell_type": "markdown",
   "metadata": {},
   "source": [
    "(c) Y대 $\\hat{Y}$ 의 산점도에 있는 점들에 적합된 최소제곱회귀선은 절편항 0과 기울기 1을 가진다.  \n",
    "-> 안 그럴 것 같은데...?"
   ]
  },
  {
   "cell_type": "markdown",
   "metadata": {},
   "source": [
    "#### 2.3 표 2.9에 있는 회귀 분석 결과를 이용하여 다음 가설들에 대한 검정을 수행하여라($\\alpha$ = 0.1)\n",
    "| variables | coefficient | s.e.  | t-test | p-value |\n",
    "|-----------|-------------|-------|--------|---------|\n",
    "| const.    | 4.162       | 3.355 | 1.24   | 0.2385  |\n",
    "| Units     | 15.509      | 0.505 | 30.71  | <0.0001 |"
   ]
  },
  {
   "cell_type": "markdown",
   "metadata": {},
   "source": [
    "(a) $H_0 : B_1 = 15$ 대 $H_1 : B_1 \\ne 15$"
   ]
  },
  {
   "cell_type": "code",
   "execution_count": 14,
   "metadata": {
    "ExecuteTime": {
     "end_time": "2020-08-03T01:47:13.568828Z",
     "start_time": "2020-08-03T01:47:13.565093Z"
    }
   },
   "outputs": [
    {
     "data": {
      "text/plain": [
       "1.0079207920792086"
      ]
     },
     "execution_count": 14,
     "metadata": {},
     "output_type": "execute_result"
    }
   ],
   "source": [
    "# s.e.(B^_1) = 0.505\n",
    "(15.509-15)/0.505"
   ]
  },
  {
   "cell_type": "markdown",
   "metadata": {},
   "source": [
    "자유도 12를 따르는 t 분포의 유의 수준 = 0.1 기준으로 양측 검정 시, 이 귀무가설의 임계값은 1.782 이므로 귀무가설을 기각할 수 없다.  "
   ]
  },
  {
   "cell_type": "markdown",
   "metadata": {},
   "source": [
    "(b) $H_0 : B_1 = 15$ 대 $H_1 : B_1 > 15$"
   ]
  },
  {
   "cell_type": "markdown",
   "metadata": {},
   "source": [
    "위 결과를 이용,  자유도 12의 t 분포에서 유의 수준 0.1에 해당하는 t 값은 1.356이므로 귀무가설을 기각할 수 없다."
   ]
  },
  {
   "cell_type": "markdown",
   "metadata": {},
   "source": [
    "(c) $H_0 : B_0 = 0$ 대 $H_1 : B_0 \\ne 15$"
   ]
  },
  {
   "cell_type": "code",
   "execution_count": 15,
   "metadata": {
    "ExecuteTime": {
     "end_time": "2020-08-03T01:47:13.574810Z",
     "start_time": "2020-08-03T01:47:13.570901Z"
    }
   },
   "outputs": [
    {
     "data": {
      "text/plain": [
       "1.2405365126676602"
      ]
     },
     "execution_count": 15,
     "metadata": {},
     "output_type": "execute_result"
    }
   ],
   "source": [
    "4.162/3.355"
   ]
  },
  {
   "cell_type": "markdown",
   "metadata": {},
   "source": [
    "1.24 < 1.782 이므로 기각할 수 없다"
   ]
  },
  {
   "cell_type": "markdown",
   "metadata": {},
   "source": [
    "(c) $H_0 : B_0 = 5$ 대 $H_1 : B_0 \\ne 5$"
   ]
  },
  {
   "cell_type": "code",
   "execution_count": 16,
   "metadata": {
    "ExecuteTime": {
     "end_time": "2020-08-03T01:47:13.580796Z",
     "start_time": "2020-08-03T01:47:13.575809Z"
    }
   },
   "outputs": [
    {
     "data": {
      "text/plain": [
       "-0.2497764530551416"
      ]
     },
     "execution_count": 16,
     "metadata": {},
     "output_type": "execute_result"
    }
   ],
   "source": [
    "(4.162-5)/3.355"
   ]
  },
  {
   "cell_type": "markdown",
   "metadata": {},
   "source": [
    "-0.24 > -1.356 이므로 기각할 수 없다."
   ]
  },
  {
   "cell_type": "markdown",
   "metadata": {},
   "source": [
    "#### 2.3 표2.9에 있는 회귀분석 결과를 이용하여 $B_0$에 대한 99% 신뢰구간을 구축하여라"
   ]
  },
  {
   "cell_type": "code",
   "execution_count": 17,
   "metadata": {
    "ExecuteTime": {
     "end_time": "2020-08-03T01:47:13.587878Z",
     "start_time": "2020-08-03T01:47:13.581849Z"
    }
   },
   "outputs": [
    {
     "data": {
      "text/plain": [
       "(-6.087525, 14.411525000000001)"
      ]
     },
     "execution_count": 17,
     "metadata": {},
     "output_type": "execute_result"
    }
   ],
   "source": [
    "(4.162 - (3.055 * 3.355), 4.162 + (3.055 * 3.355))"
   ]
  },
  {
   "cell_type": "markdown",
   "metadata": {},
   "source": [
    "#### 최소 제곱법을 이용하여 단순선형회귀모형 $Y = B_0 + B_1 X + \\epsilon$ 을 데이터에 적합할 때, 다음의 각 진술들이 사실임을 증명할 수 있다.   각 진술들을 수리적으로 증명하거나, 옳음을 수치적으로 보여라(표 2.5의 데이터를 이용하여)"
   ]
  },
  {
   "cell_type": "markdown",
   "metadata": {},
   "source": [
    "#### 표 2.5의 데이터와 표 2.7의 적합값 및 잔차를 이용하여 다음을 보여라."
   ]
  },
  {
   "cell_type": "markdown",
   "metadata": {},
   "source": [
    "(a) $Cor(Y, X) = Cor(Y, \\hat{Y}) = 0.994$"
   ]
  },
  {
   "cell_type": "code",
   "execution_count": 18,
   "metadata": {
    "ExecuteTime": {
     "end_time": "2020-08-03T01:47:13.592762Z",
     "start_time": "2020-08-03T01:47:13.588773Z"
    }
   },
   "outputs": [],
   "source": [
    "y_hat = [19.67, 35.18, 50.69, 66.20, 66.20, 81.71, 97.21, 97.21, 112.72, 128.23, 143.74, 143.74, 159.25, 159.25]"
   ]
  },
  {
   "cell_type": "code",
   "execution_count": 19,
   "metadata": {
    "ExecuteTime": {
     "end_time": "2020-08-03T01:47:13.598746Z",
     "start_time": "2020-08-03T01:47:13.593761Z"
    }
   },
   "outputs": [
    {
     "data": {
      "text/plain": [
       "0.9937010506867261"
      ]
     },
     "execution_count": 19,
     "metadata": {},
     "output_type": "execute_result"
    }
   ],
   "source": [
    "get_cor(y, y_hat)"
   ]
  },
  {
   "cell_type": "markdown",
   "metadata": {},
   "source": [
    "(b) SST = 22768.348  \n",
    "SST = $\\sum_{i=1}^n(y_i - \\bar{y})^2$"
   ]
  },
  {
   "cell_type": "code",
   "execution_count": 20,
   "metadata": {
    "ExecuteTime": {
     "end_time": "2020-08-03T01:47:13.604731Z",
     "start_time": "2020-08-03T01:47:13.600050Z"
    }
   },
   "outputs": [
    {
     "data": {
      "text/plain": [
       "27768.357142857145"
      ]
     },
     "execution_count": 20,
     "metadata": {},
     "output_type": "execute_result"
    }
   ],
   "source": [
    "# SST\n",
    "get_tot_diff_with_mean(y)"
   ]
  },
  {
   "cell_type": "markdown",
   "metadata": {},
   "source": [
    "(c)SSE = 348.848  \n",
    "SSE = $\\sum_{i=1}^n(y_i - \\hat{y_i})^2$"
   ]
  },
  {
   "cell_type": "code",
   "execution_count": 21,
   "metadata": {
    "ExecuteTime": {
     "end_time": "2020-08-03T01:47:13.613718Z",
     "start_time": "2020-08-03T01:47:13.606739Z"
    }
   },
   "outputs": [
    {
     "data": {
      "text/plain": [
       "29.060099999999967"
      ]
     },
     "execution_count": 21,
     "metadata": {},
     "output_type": "execute_result"
    }
   ],
   "source": [
    "get_SSE(y, y_hat)"
   ]
  },
  {
   "cell_type": "markdown",
   "metadata": {},
   "source": [
    "#### 2.7 표 2.4에 있는 네 개의 데이터들은 다음 통계량들에 대하여 동일한 값을 준다는 것을 보여라"
   ]
  },
  {
   "cell_type": "code",
   "execution_count": 22,
   "metadata": {
    "ExecuteTime": {
     "end_time": "2020-08-03T01:47:13.619690Z",
     "start_time": "2020-08-03T01:47:13.615701Z"
    }
   },
   "outputs": [],
   "source": [
    "x_1 = [10, 8, 13, 9, 11, 14,6, 4,12, 7,5,]\n",
    "y_1 = [8.04, 6.95, 7.58, 8.81, 8.33, 9.96, 7.24, 4.26, 10.84, 4.82, 5.68, ]"
   ]
  },
  {
   "cell_type": "code",
   "execution_count": 23,
   "metadata": {
    "ExecuteTime": {
     "end_time": "2020-08-03T01:47:13.627381Z",
     "start_time": "2020-08-03T01:47:13.623679Z"
    }
   },
   "outputs": [],
   "source": [
    "x_2 = [10, 8, 13, 9, 11, 14, 6, 4, 12, 7, 5]\n",
    "y_2 = [9.14, 8.14, 8.74, 8.77, 9.26, 8.1, 6.13, 3.1, 9.13, 7.26, 4.74]"
   ]
  },
  {
   "cell_type": "code",
   "execution_count": 24,
   "metadata": {
    "ExecuteTime": {
     "end_time": "2020-08-03T01:47:13.632685Z",
     "start_time": "2020-08-03T01:47:13.630169Z"
    }
   },
   "outputs": [],
   "source": [
    "x_3 = [10, 8, 13, 9, 11, 14, 6, 4, 12, 7, 5, ]\n",
    "y_3= [7.46, 6.77, 12.74, 7.11, 7.81, 8.84, 6.08, 5.39, 8.15, 6.42, 5.73,]"
   ]
  },
  {
   "cell_type": "code",
   "execution_count": 25,
   "metadata": {
    "ExecuteTime": {
     "end_time": "2020-08-03T01:47:13.638661Z",
     "start_time": "2020-08-03T01:47:13.634865Z"
    }
   },
   "outputs": [],
   "source": [
    "x_4 = [8, 8, 8, 8, 8, 8, 8, 19, 8, 8, 8, ]\n",
    "y_4 = [6.58, 5.76, 7.71, 8.84, 8.47, 7.04, 5.25, 12.5, 5.56, 7.91, 6.89, ]"
   ]
  },
  {
   "cell_type": "code",
   "execution_count": 26,
   "metadata": {
    "ExecuteTime": {
     "end_time": "2020-08-03T01:47:13.645114Z",
     "start_time": "2020-08-03T01:47:13.640467Z"
    }
   },
   "outputs": [
    {
     "data": {
      "text/plain": [
       "(0.5000909090909091, 0.5, 0.49972727272727274, 0.49990909090909086)"
      ]
     },
     "execution_count": 26,
     "metadata": {},
     "output_type": "execute_result"
    }
   ],
   "source": [
    "get_slope(x_1, y_1), get_slope(x_2, y_2), get_slope(x_3, y_3), get_slope(x_4, y_4)"
   ]
  },
  {
   "cell_type": "code",
   "execution_count": 27,
   "metadata": {
    "ExecuteTime": {
     "end_time": "2020-08-03T01:47:13.653600Z",
     "start_time": "2020-08-03T01:47:13.646618Z"
    }
   },
   "outputs": [
    {
     "data": {
      "text/plain": [
       "(3.0000909090909103, 3.000909090909091, 3.0024545454545466, 3.0017272727272726)"
      ]
     },
     "execution_count": 27,
     "metadata": {},
     "output_type": "execute_result"
    }
   ],
   "source": [
    "get_intercept(x_1, y_1), get_intercept(x_2, y_2), get_intercept(x_3, y_3), get_intercept(x_4, y_4)"
   ]
  },
  {
   "cell_type": "code",
   "execution_count": 28,
   "metadata": {
    "ExecuteTime": {
     "end_time": "2020-08-03T01:47:13.659657Z",
     "start_time": "2020-08-03T01:47:13.654597Z"
    }
   },
   "outputs": [
    {
     "data": {
      "text/plain": [
       "(0.8164205163448399,\n",
       " 0.8162365060002429,\n",
       " 0.8162867394895982,\n",
       " 0.8165214368885029)"
      ]
     },
     "execution_count": 28,
     "metadata": {},
     "output_type": "execute_result"
    }
   ],
   "source": [
    "get_cor(x_1, y_1), get_cor(x_2, y_2), get_cor(x_3, y_3), get_cor(x_4, y_4)"
   ]
  },
  {
   "cell_type": "code",
   "execution_count": 29,
   "metadata": {
    "ExecuteTime": {
     "end_time": "2020-08-03T01:47:13.666565Z",
     "start_time": "2020-08-03T01:47:13.660628Z"
    }
   },
   "outputs": [
    {
     "data": {
      "text/plain": [
       "(0.9333609090909091,\n",
       " 0.9333370707070707,\n",
       " 0.9332967676767677,\n",
       " 0.9333611111111111)"
      ]
     },
     "execution_count": 29,
     "metadata": {},
     "output_type": "execute_result"
    }
   ],
   "source": [
    "get_R_sqr(x_1, y_1), get_R_sqr(x_2, y_2), get_R_sqr(x_3, y_3), get_R_sqr(x_4, y_4)"
   ]
  },
  {
   "cell_type": "markdown",
   "metadata": {},
   "source": [
    "#### 2.8 최소제곱법을 이용하여 단순선형회귀모형 $Y = B_0 + B_1X + \\epsilon$ 을 데이터에 적합할 때, $H_0 : B_1 = 0$가 기각되지 않는다고 가정하자. 이것은 모형을 $Y = B_0 + \\epsilon$ 과 같이 단순하게 쓸수 있음을 의미한다. $B_0$의 최소제곱추정치는 $\\hat{B_0} = \\bar{y}$ 이다(이를 증명할 수 있는가?)"
   ]
  },
  {
   "cell_type": "code",
   "execution_count": 30,
   "metadata": {
    "ExecuteTime": {
     "end_time": "2020-08-03T01:47:13.670334Z",
     "start_time": "2020-08-03T01:47:13.667579Z"
    }
   },
   "outputs": [],
   "source": [
    "# 아이패드 풀이 참고"
   ]
  },
  {
   "cell_type": "markdown",
   "metadata": {},
   "source": [
    "#### 2.9 아이패드 풀이 참고\n"
   ]
  },
  {
   "cell_type": "code",
   "execution_count": 31,
   "metadata": {
    "ExecuteTime": {
     "end_time": "2020-08-03T01:47:13.676199Z",
     "start_time": "2020-08-03T01:47:13.671968Z"
    }
   },
   "outputs": [
    {
     "data": {
      "text/plain": [
       "0.08323225"
      ]
     },
     "execution_count": 31,
     "metadata": {},
     "output_type": "execute_result"
    }
   ],
   "source": [
    "0.2885 ** 2"
   ]
  },
  {
   "cell_type": "code",
   "execution_count": 32,
   "metadata": {
    "ExecuteTime": {
     "end_time": "2020-08-03T01:47:13.681393Z",
     "start_time": "2020-08-03T01:47:13.677867Z"
    }
   },
   "outputs": [
    {
     "data": {
      "text/plain": [
       "0.49520000000000003"
      ]
     },
     "execution_count": 32,
     "metadata": {},
     "output_type": "execute_result"
    }
   ],
   "source": [
    "#(b)\n",
    "0.656 * 0.45 + 0.2"
   ]
  },
  {
   "cell_type": "code",
   "execution_count": 33,
   "metadata": {
    "ExecuteTime": {
     "end_time": "2020-08-03T01:47:13.685526Z",
     "start_time": "2020-08-03T01:47:13.682612Z"
    }
   },
   "outputs": [],
   "source": [
    "#(c) (b) 에서 얻어진 추정치에 대한 95% 신뢰구간을 구축하여라"
   ]
  },
  {
   "cell_type": "markdown",
   "metadata": {},
   "source": [
    "$s.e.(\\hat{y}) = \\hat{\\sigma}\\sqrt{1+\\frac{1}{n}+\\frac{(x_0-\\bar{x})^2}{\\sum(x_i-\\bar{x})^2}}$"
   ]
  },
  {
   "cell_type": "code",
   "execution_count": 34,
   "metadata": {
    "ExecuteTime": {
     "end_time": "2020-08-03T01:47:13.690263Z",
     "start_time": "2020-08-03T01:47:13.687209Z"
    }
   },
   "outputs": [],
   "source": [
    "result = 0.0567 * sqrt(1 + (1/19) + (((0.495 - 0.5) ** 2) / (0.45-0.5) ** 2) )"
   ]
  },
  {
   "cell_type": "code",
   "execution_count": 35,
   "metadata": {
    "ExecuteTime": {
     "end_time": "2020-08-03T01:47:13.696016Z",
     "start_time": "2020-08-03T01:47:13.691498Z"
    }
   },
   "outputs": [
    {
     "data": {
      "text/plain": [
       "(0.6183266325478188, 0.37167336745218116)"
      ]
     },
     "execution_count": 35,
     "metadata": {},
     "output_type": "execute_result"
    }
   ],
   "source": [
    "(0.495 + (result*2.110), 0.495 - (result*2.110))"
   ]
  },
  {
   "cell_type": "code",
   "execution_count": 36,
   "metadata": {
    "ExecuteTime": {
     "end_time": "2020-08-03T01:47:13.702469Z",
     "start_time": "2020-08-03T01:47:13.697482Z"
    }
   },
   "outputs": [
    {
     "data": {
      "text/plain": [
       "(0.24222900000000008, 1.069771)"
      ]
     },
     "execution_count": 36,
     "metadata": {},
     "output_type": "execute_result"
    }
   ],
   "source": [
    "#(d) 회귀선의 기울기 $B_1$에 대한 95% 신뢰구간을 구축하여라\n",
    "(0.656 - (2.110 * 0.1961), 0.656 + (2.110 * 0.1961))"
   ]
  },
  {
   "cell_type": "code",
   "execution_count": 37,
   "metadata": {
    "ExecuteTime": {
     "end_time": "2020-08-03T01:47:13.707863Z",
     "start_time": "2020-08-03T01:47:13.703513Z"
    }
   },
   "outputs": [
    {
     "data": {
      "text/plain": [
       "-1.754207037225905"
      ]
     },
     "execution_count": 37,
     "metadata": {},
     "output_type": "execute_result"
    }
   ],
   "source": [
    "#(e) 5% 유의 수준 하에서 가설을 검정하여라\n",
    "(0.656-1)/0.1961"
   ]
  },
  {
   "cell_type": "markdown",
   "metadata": {},
   "source": [
    "#### 2.10 비슷한 키를 가진 사람들끼리 결혼하는 경향이 있는지가 관심이라고 하자. 이를 위해 신혼 부부들의 표본이 선택되었다. X는 남편의 키이고 Y는 아내의 키라고 하자."
   ]
  },
  {
   "cell_type": "code",
   "execution_count": 38,
   "metadata": {
    "ExecuteTime": {
     "end_time": "2020-08-03T01:47:13.712944Z",
     "start_time": "2020-08-03T01:47:13.708966Z"
    }
   },
   "outputs": [],
   "source": [
    "data = \"\"\"Husband\tWife\n",
    "186\t175 180\t168 160\t154 186\t166 163\t162 172\t152 192\t179 170\t163 174\t172 191\t170 182\t170 178\t147 181\t165 168\t162 162\t154 188\t166\n",
    "168\t167 183\t174 188\t173 166\t164 180\t163 176\t163 185\t171 169\t161 182\t167 162\t160 169\t165 176\t167 180\t175 157\t157 170\t172 186\t181\n",
    "180\t166 188\t181 153\t148 179\t169 175\t170 165\t157 156\t162 185\t174 172\t168 166\t162 179\t159 181\t155 176\t171 170\t159 165\t164 183\t175\n",
    "162\t156 192\t180 185\t167 163\t157 185\t167 170\t157 176\t168 176\t167 160\t145 167\t156 157\t153 180\t162 172\t156 184\t174 185\t160 165\t152\n",
    "181\t175 170\t169 161\t149 188\t176 181\t165 156\t143 161\t158 152\t141 179\t160 170\t149 170\t160 165\t148 165\t154 169\t171 171\t165 192\t175\n",
    "176\t161 168\t162 169\t162 184\t176 171\t160 161\t158 185\t175 184\t174 179\t168 184\t177 175\t158 173\t161 164\t146 181\t168 187\t178 181\t170\"\"\".split()"
   ]
  },
  {
   "cell_type": "code",
   "execution_count": 39,
   "metadata": {
    "ExecuteTime": {
     "end_time": "2020-08-03T01:47:13.727402Z",
     "start_time": "2020-08-03T01:47:13.714562Z"
    }
   },
   "outputs": [],
   "source": [
    "# 짝수는 남편, 홀수는 아내\n",
    "husband = [data[i] for i in range(len(data)) if i % 2 == 0]\n",
    "wife = [data[i] for i in range(len(data)) if i % 2 != 0]"
   ]
  },
  {
   "cell_type": "code",
   "execution_count": 40,
   "metadata": {
    "ExecuteTime": {
     "end_time": "2020-08-03T01:47:13.732149Z",
     "start_time": "2020-08-03T01:47:13.729712Z"
    }
   },
   "outputs": [],
   "source": [
    "husband = husband[1:]\n",
    "wife = wife[1:]"
   ]
  },
  {
   "cell_type": "code",
   "execution_count": 41,
   "metadata": {
    "ExecuteTime": {
     "end_time": "2020-08-03T01:47:13.739389Z",
     "start_time": "2020-08-03T01:47:13.734384Z"
    }
   },
   "outputs": [],
   "source": [
    "husband = list(map(int, husband))\n",
    "wife = list(map(int, wife))"
   ]
  },
  {
   "cell_type": "code",
   "execution_count": 42,
   "metadata": {
    "ExecuteTime": {
     "end_time": "2020-08-03T01:47:13.745671Z",
     "start_time": "2020-08-03T01:47:13.741396Z"
    }
   },
   "outputs": [
    {
     "data": {
      "text/plain": [
       "69.41293859649122"
      ]
     },
     "execution_count": 42,
     "metadata": {},
     "output_type": "execute_result"
    }
   ],
   "source": [
    "# (a) 남편과 아내의 키 사이의 공분산을 계산하여라\n",
    "get_cov(husband, wife)"
   ]
  },
  {
   "cell_type": "code",
   "execution_count": 43,
   "metadata": {
    "ExecuteTime": {
     "end_time": "2020-08-03T01:47:13.752348Z",
     "start_time": "2020-08-03T01:47:13.746682Z"
    }
   },
   "outputs": [
    {
     "data": {
      "text/plain": [
       "0.006941293859649124"
      ]
     },
     "execution_count": 43,
     "metadata": {},
     "output_type": "execute_result"
    }
   ],
   "source": [
    "#(b) 키가 세티미터가 아닌 미터로 측정되었다면 공분산은 어떻게 되겠는가\n",
    "husband_meter = list(map(lambda x: x/100, husband))\n",
    "wife_meter = list(map(lambda x: x/100, wife))\n",
    "get_cov(husband_meter, wife_meter)"
   ]
  },
  {
   "cell_type": "code",
   "execution_count": 44,
   "metadata": {
    "ExecuteTime": {
     "end_time": "2020-08-03T01:47:13.756352Z",
     "start_time": "2020-08-03T01:47:13.753716Z"
    }
   },
   "outputs": [],
   "source": [
    "import numpy as np"
   ]
  },
  {
   "cell_type": "code",
   "execution_count": 45,
   "metadata": {
    "ExecuteTime": {
     "end_time": "2020-08-03T01:47:13.778266Z",
     "start_time": "2020-08-03T01:47:13.758006Z"
    }
   },
   "outputs": [
    {
     "data": {
      "text/plain": [
       "array([[1.       , 0.7633864],\n",
       "       [0.7633864, 1.       ]])"
      ]
     },
     "execution_count": 45,
     "metadata": {},
     "output_type": "execute_result"
    }
   ],
   "source": [
    "np.corrcoef(x=husband, y=wife)"
   ]
  },
  {
   "cell_type": "code",
   "execution_count": 46,
   "metadata": {
    "ExecuteTime": {
     "end_time": "2020-08-03T01:47:13.784250Z",
     "start_time": "2020-08-03T01:47:13.780002Z"
    }
   },
   "outputs": [
    {
     "data": {
      "text/plain": [
       "0.7633863969860972"
      ]
     },
     "execution_count": 46,
     "metadata": {},
     "output_type": "execute_result"
    }
   ],
   "source": [
    "#(c) 남편과 아내의 키 사이의 상관계수를 계산하여라\n",
    "get_cor(husband, wife)"
   ]
  },
  {
   "cell_type": "code",
   "execution_count": 47,
   "metadata": {
    "ExecuteTime": {
     "end_time": "2020-08-03T01:47:13.791232Z",
     "start_time": "2020-08-03T01:47:13.786244Z"
    }
   },
   "outputs": [
    {
     "data": {
      "text/plain": [
       "0.7633863969860971"
      ]
     },
     "execution_count": 47,
     "metadata": {},
     "output_type": "execute_result"
    }
   ],
   "source": [
    "#(d) 키가 센티미터가 아닌 미터로 측정되었다면 상관계수는 어떻게 되겠는가?\n",
    "get_cor(husband_meter, wife_meter)"
   ]
  },
  {
   "cell_type": "code",
   "execution_count": 48,
   "metadata": {
    "ExecuteTime": {
     "end_time": "2020-08-03T01:47:13.797216Z",
     "start_time": "2020-08-03T01:47:13.793226Z"
    }
   },
   "outputs": [],
   "source": [
    "#(e) 모든 남자들이 자신보다 정확히 5센티미터 작은 여자와 결혼하였다면 상관계수는 어떻게 되겠는가?\n",
    "wife_minus_5 = list(map(lambda x: x-5, wife))"
   ]
  },
  {
   "cell_type": "code",
   "execution_count": 49,
   "metadata": {
    "ExecuteTime": {
     "end_time": "2020-08-03T01:47:13.804196Z",
     "start_time": "2020-08-03T01:47:13.799210Z"
    }
   },
   "outputs": [
    {
     "data": {
      "text/plain": [
       "0.7633863969860972"
      ]
     },
     "execution_count": 49,
     "metadata": {},
     "output_type": "execute_result"
    }
   ],
   "source": [
    "get_cor(husband, wife_minus_5)"
   ]
  },
  {
   "cell_type": "code",
   "execution_count": 50,
   "metadata": {
    "ExecuteTime": {
     "end_time": "2020-08-03T01:47:13.809183Z",
     "start_time": "2020-08-03T01:47:13.806191Z"
    }
   },
   "outputs": [],
   "source": [
    "#(f) 남편과 아내의 키에 관한 회귀 모형을 적합하려고 한다. 두 변수 중 어느 것을 반응변수로 하겠는가? 당신의 답을 정당화하여라.\n",
    "#-> 질문의 의도를 파악하기 어렵다. 반응 변수에 대한 독립 변수의 영향력을 알고 싶을 때 사용하는 방법인데 왜 둘 다 반응 변수의 고려 대상이 되는지 이해할 수 없다\n",
    "# 우선 반응 변수를 wife로, 예측 변수를 husband로 해보자"
   ]
  },
  {
   "cell_type": "code",
   "execution_count": 51,
   "metadata": {
    "ExecuteTime": {
     "end_time": "2020-08-03T01:47:13.819693Z",
     "start_time": "2020-08-03T01:47:13.811178Z"
    }
   },
   "outputs": [],
   "source": [
    "def get_simple_linear_regression(x, y, alpha) : \n",
    "    slope = get_slope(x, y)\n",
    "    intercept = get_intercept(x, y)\n",
    "    y_hat = get_y_hat(slope=slope, intercept=intercept, x=x)\n",
    "    std_err_of_intercept = get_std_err_of_intercept(x=x, y=y, y_hat=y_hat)\n",
    "    std_err_of_slope = get_std_err_of_slope(x=x, y=y, y_hat=y_hat)\n",
    "    print(\"slope : \", slope)\n",
    "    print(\"intercept : \", intercept)\n",
    "    print(\"std_err_of_intercept : \", std_err_of_intercept)\n",
    "    print(\"std_err_of_slope : \", std_err_of_slope)\n",
    "    t_stat_of_slope = slope/std_err_of_slope\n",
    "    t_stat_of_intercept = intercept/std_err_of_intercept\n",
    "    print(\"t_stat_of_slope : \", t_stat_of_slope)\n",
    "    print(\"t_stat_of_intercept : \", t_stat_of_intercept)\n",
    "    interval = sp.stats.t.interval(alpha = alpha, df=len(x)-2)\n",
    "    result_of_slope = interval[0] > t_stat_of_slope or interval[1] < t_stat_of_slope\n",
    "    result_of_intercept = interval[0] > t_stat_of_intercept or interval[1] < t_stat_of_intercept\n",
    "    print(\"Hypothesis test of slope : \" , result_of_slope)\n",
    "    print(\"Hypothesis test of intercept : \" , result_of_intercept)\n",
    "    print(\"R score : \", get_R_sqr(y, y_hat))"
   ]
  },
  {
   "cell_type": "code",
   "execution_count": 53,
   "metadata": {
    "ExecuteTime": {
     "end_time": "2020-08-03T01:47:20.450544Z",
     "start_time": "2020-08-03T01:47:20.443298Z"
    }
   },
   "outputs": [
    {
     "name": "stdout",
     "output_type": "stream",
     "text": [
      "slope :  0.8329245764629727\n",
      "intercept :  37.81004910345402\n",
      "std_err_of_intercept :  11.932308795763904\n",
      "std_err_of_slope :  0.07269272184678918\n",
      "t_stat_of_slope :  11.458156405513144\n",
      "t_stat_of_intercept :  3.1687119190945667\n",
      "Hypothesis test of slope :  True\n",
      "Hypothesis test of intercept :  False\n",
      "R score :  0.9955612637351428\n"
     ]
    }
   ],
   "source": [
    "#(f) 남편과 아내의 키에 관한 회귀 모형을 적합하려고 한다. 두 변수 중 어느 것을 반응변수로 하겠는가? 당신의 답을 정당화하여라.\n",
    "#-> 질문의 의도를 파악하기 어렵다. 반응 변수에 대한 독립 변수의 영향력을 알고 싶을 때 사용하는 방법인데 왜 둘 다 반응 변수의 고려 대상이 되는지 이해할 수 없다\n",
    "# 우선 반응 변수를 wife로, 예측 변수를 husband로 해보자\n",
    "get_simple_linear_regression(x=wife, y=husband, alpha=0.999)"
   ]
  },
  {
   "cell_type": "markdown",
   "metadata": {},
   "source": [
    "어떤 것을 반응 변수를 택할지 선택하기 위해 반응변수와 예측 변수에 각각 데이터를 대입한 후, 단순선형회귀 분석을 통해 나오는 회귀 계수가 0인지 아닌지 양측 가설검정을 해보자.\n",
    "t 검정 통계량은 자유도가 n-2인 t 분포를 따르게 된다. "
   ]
  },
  {
   "cell_type": "code",
   "execution_count": 54,
   "metadata": {
    "ExecuteTime": {
     "end_time": "2020-08-03T01:47:21.791973Z",
     "start_time": "2020-08-03T01:47:21.785991Z"
    }
   },
   "outputs": [
    {
     "name": "stdout",
     "output_type": "stream",
     "text": [
      "slope :  0.6996537352494864\n",
      "intercept :  41.93015354791507\n",
      "std_err_of_intercept :  10.661622663048517\n",
      "std_err_of_slope :  0.06106163247281604\n",
      "t_stat_of_slope :  11.458156405513142\n",
      "t_stat_of_intercept :  3.932811624748106\n",
      "Hypothesis test of slope :  True\n",
      "Hypothesis test of intercept :  True\n",
      "R score :  0.9955612637351428\n"
     ]
    }
   ],
   "source": [
    "get_simple_linear_regression(x=husband, y=wife, alpha=0.999)"
   ]
  },
  {
   "cell_type": "markdown",
   "metadata": {},
   "source": [
    "반응 변수를 어떤 것을 선택하든 신뢰도 0.95에선 2개의 계수 모두 0이라는 귀무가설을 기각할 수 있었음. 이렇게 테스트 함으로써 남은 문제인 (g), (h) 모두 해결"
   ]
  },
  {
   "cell_type": "code",
   "execution_count": null,
   "metadata": {},
   "outputs": [],
   "source": []
  },
  {
   "cell_type": "markdown",
   "metadata": {},
   "source": [
    "#### 2.12"
   ]
  },
  {
   "cell_type": "code",
   "execution_count": 55,
   "metadata": {
    "ExecuteTime": {
     "end_time": "2020-08-03T01:47:23.193386Z",
     "start_time": "2020-08-03T01:47:23.179265Z"
    }
   },
   "outputs": [],
   "source": [
    "newspaper = pd.read_csv(\"Newspaper_data.csv\", sep=\"\\t\")"
   ]
  },
  {
   "cell_type": "code",
   "execution_count": 56,
   "metadata": {
    "ExecuteTime": {
     "end_time": "2020-08-03T01:47:23.610111Z",
     "start_time": "2020-08-03T01:47:23.482453Z"
    }
   },
   "outputs": [],
   "source": [
    "import seaborn as sns"
   ]
  },
  {
   "cell_type": "code",
   "execution_count": 57,
   "metadata": {
    "ExecuteTime": {
     "end_time": "2020-08-03T01:47:24.254404Z",
     "start_time": "2020-08-03T01:47:23.731787Z"
    }
   },
   "outputs": [
    {
     "data": {
      "text/plain": [
       "<seaborn.axisgrid.JointGrid at 0x24349bc3310>"
      ]
     },
     "execution_count": 57,
     "metadata": {},
     "output_type": "execute_result"
    },
    {
     "data": {
      "image/png": "[encoded data removed]",
      "text/plain": [
       "<Figure size 432x432 with 3 Axes>"
      ]
     },
     "metadata": {},
     "output_type": "display_data"
    }
   ],
   "source": [
    "#(a) 일요일 판매 부수 대 주중 판매부수의 산점도를 그려라. 그 플롯은 주중과 일요일 판매부수에 대하여 선형관계를 나타내는가? 이것이 그럴듯한 관계라고 생각하는가?\n",
    "sns.jointplot(x=\"Daily\", y=\"Sunday\" , data=newspaper)"
   ]
  },
  {
   "cell_type": "markdown",
   "metadata": {},
   "source": [
    "주중과 일요일의 판매 부수는 선형관계를 나타나는 것처럼 보이는데, 이래야 할 이유가 있는지 잘 모르겠다."
   ]
  },
  {
   "cell_type": "code",
   "execution_count": 58,
   "metadata": {
    "ExecuteTime": {
     "end_time": "2020-08-03T01:47:25.175973Z",
     "start_time": "2020-08-03T01:47:25.170993Z"
    }
   },
   "outputs": [
    {
     "name": "stdout",
     "output_type": "stream",
     "text": [
      "1.3397147576841255\n",
      "13.835629909636168\n"
     ]
    }
   ],
   "source": [
    "print(get_slope(x=newspaper[\"Daily\"], y=newspaper[\"Sunday\"]))\n",
    "print(get_intercept(x=newspaper[\"Daily\"], y=newspaper[\"Sunday\"]))"
   ]
  },
  {
   "cell_type": "code",
   "execution_count": 59,
   "metadata": {
    "ExecuteTime": {
     "end_time": "2020-08-03T01:47:25.704081Z",
     "start_time": "2020-08-03T01:47:25.699095Z"
    }
   },
   "outputs": [
    {
     "name": "stdout",
     "output_type": "stream",
     "text": [
      "slope :  1.3397147576841255\n",
      "intercept :  13.835629909636168\n",
      "std_err_of_intercept :  35.80400579072759\n",
      "std_err_of_slope :  0.07075395080745958\n",
      "t_stat_of_slope :  18.934840279518067\n",
      "t_stat_of_intercept :  0.38642687051568064\n",
      "Hypothesis test of slope :  True\n",
      "Hypothesis test of intercept :  False\n",
      "R score :  0.9974393652996041\n"
     ]
    }
   ],
   "source": [
    "#(c) 일요일 판매부수와 주중 판매부수 사이에 유의한 관계가 존재하는가? 통계적 검정에 의하여 당신의 답을 정당화하여라. 당신이 검정하고 있는 가설과 그의 결론이 무엇인지를 나타내어라\n",
    "get_simple_linear_regression(x=newspaper[\"Daily\"], y=newspaper[\"Sunday\"], alpha=0.95)"
   ]
  },
  {
   "cell_type": "markdown",
   "metadata": {},
   "source": [
    "일요일 판매부수와 주중 판매부수 사이에는 유의한 관계가 존재한다.\n",
    "단순선형회귀 모델에서 계수 중 하나에 해당하는 기울기(slope)를 최소 자승법을 이용하여 구했고, \n",
    "계산 결과 기울기는 1.34, 표준오차는 0.07이었다. 기울기와 표준오차를 이용해 t-test를 실시하면\n",
    "t statistics는 18.93 이며 이는 95% 신뢰 구간에서 양측 가설 검정 시, 기울기=0이라는 귀무 가설을 기각할 수 있는 범위에 해당하므로,\n",
    "일요일 판매 부수와 주중 판매 부수 사이에는 유의한 관계가 존재한다라는 결론을 내릴 수 있다."
   ]
  },
  {
   "cell_type": "markdown",
   "metadata": {},
   "source": [
    "(e) 일요일 판매부수의 변이 중 주중 판매 부수에 의하여 설명되는 비율은 얼마 인가?\n",
    "R score 계산 결과 99.7% 이다."
   ]
  },
  {
   "cell_type": "code",
   "execution_count": 99,
   "metadata": {
    "ExecuteTime": {
     "end_time": "2020-08-03T11:22:52.035702Z",
     "start_time": "2020-08-03T11:22:52.032459Z"
    }
   },
   "outputs": [
    {
     "data": {
      "text/plain": [
       "392285.5459564663"
      ]
     },
     "execution_count": 99,
     "metadata": {},
     "output_type": "execute_result"
    }
   ],
   "source": [
    "get_SSE(y, y_hat)"
   ]
  },
  {
   "cell_type": "code",
   "execution_count": 102,
   "metadata": {
    "ExecuteTime": {
     "end_time": "2020-08-03T11:23:24.964893Z",
     "start_time": "2020-08-03T11:23:24.959907Z"
    }
   },
   "outputs": [
    {
     "data": {
      "text/plain": [
       "12159.535369773721"
      ]
     },
     "execution_count": 102,
     "metadata": {},
     "output_type": "execute_result"
    }
   ],
   "source": [
    "std_err_of_predicted_value"
   ]
  },
  {
   "cell_type": "code",
   "execution_count": 101,
   "metadata": {
    "ExecuteTime": {
     "end_time": "2020-08-03T11:23:14.915077Z",
     "start_time": "2020-08-03T11:23:14.905105Z"
    }
   },
   "outputs": [
    {
     "name": "stdout",
     "output_type": "stream",
     "text": [
      "12159.535369773721\n",
      "683.6930087516989\n",
      "(-2.036933343460101, 2.036933343460101)\n"
     ]
    },
    {
     "data": {
      "text/plain": [
       "(-24084.47002692284, 25451.85604442624)"
      ]
     },
     "execution_count": 101,
     "metadata": {},
     "output_type": "execute_result"
    }
   ],
   "source": [
    "#(f) 주중 판매부수가 500,000일 때, 일요일 판매부수의 평균에 대한 신뢰구간을 구하여라(95% 신뢰수준 하에서)\n",
    "slope = get_slope(newspaper[\"Daily\"], newspaper[\"Sunday\"])\n",
    "intercept = get_intercept(newspaper[\"Daily\"], newspaper[\"Sunday\"])\n",
    "given_x = 500\n",
    "predicted_value = get_predicted_value(slope=slope, intercept=intercept, given_x=given_x)\n",
    "y_hat = get_y_hat(slope=slope, intercept=intercept, x=newspaper[\"Daily\"])\n",
    "std_err_of_predicted_value = get_std_err_of_predicted_value(SSE=get_SSE(newspaper[\"Sunday\"], y_hat), x=newspaper[\"Daily\"], given_x=given_x)\n",
    "get_confidence_interval_of_predicted_values(predicted_value=predicted_value, std_err_of_predicted_value=std_err_of_predicted_value, x=newspaper[\"Daily\"])"
   ]
  },
  {
   "cell_type": "code",
   "execution_count": 104,
   "metadata": {
    "ExecuteTime": {
     "end_time": "2020-08-03T11:24:25.948863Z",
     "start_time": "2020-08-03T11:24:25.912690Z"
    }
   },
   "outputs": [],
   "source": [
    "model = smf.ols(formula=\"Sunday ~ Daily\",data=newspaper)"
   ]
  },
  {
   "cell_type": "code",
   "execution_count": 105,
   "metadata": {
    "ExecuteTime": {
     "end_time": "2020-08-03T11:24:30.691699Z",
     "start_time": "2020-08-03T11:24:30.679756Z"
    }
   },
   "outputs": [],
   "source": [
    "result = model.fit()"
   ]
  },
  {
   "cell_type": "code",
   "execution_count": 112,
   "metadata": {
    "ExecuteTime": {
     "end_time": "2020-08-03T11:42:43.292660Z",
     "start_time": "2020-08-03T11:42:43.279695Z"
    }
   },
   "outputs": [
    {
     "data": {
      "text/html": [
       "<table class=\"simpletable\">\n",
       "<caption>OLS Regression Results</caption>\n",
       "<tr>\n",
       "  <th>Dep. Variable:</th>         <td>Sunday</td>      <th>  R-squared:         </th> <td>   0.918</td>\n",
       "</tr>\n",
       "<tr>\n",
       "  <th>Model:</th>                   <td>OLS</td>       <th>  Adj. R-squared:    </th> <td>   0.915</td>\n",
       "</tr>\n",
       "<tr>\n",
       "  <th>Method:</th>             <td>Least Squares</td>  <th>  F-statistic:       </th> <td>   358.5</td>\n",
       "</tr>\n",
       "<tr>\n",
       "  <th>Date:</th>             <td>Mon, 03 Aug 2020</td> <th>  Prob (F-statistic):</th> <td>6.02e-19</td>\n",
       "</tr>\n",
       "<tr>\n",
       "  <th>Time:</th>                 <td>20:42:43</td>     <th>  Log-Likelihood:    </th> <td> -206.85</td>\n",
       "</tr>\n",
       "<tr>\n",
       "  <th>No. Observations:</th>      <td>    34</td>      <th>  AIC:               </th> <td>   417.7</td>\n",
       "</tr>\n",
       "<tr>\n",
       "  <th>Df Residuals:</th>          <td>    32</td>      <th>  BIC:               </th> <td>   420.8</td>\n",
       "</tr>\n",
       "<tr>\n",
       "  <th>Df Model:</th>              <td>     1</td>      <th>                     </th>     <td> </td>   \n",
       "</tr>\n",
       "<tr>\n",
       "  <th>Covariance Type:</th>      <td>nonrobust</td>    <th>                     </th>     <td> </td>   \n",
       "</tr>\n",
       "</table>\n",
       "<table class=\"simpletable\">\n",
       "<tr>\n",
       "      <td></td>         <th>coef</th>     <th>std err</th>      <th>t</th>      <th>P>|t|</th>  <th>[0.025</th>    <th>0.975]</th>  \n",
       "</tr>\n",
       "<tr>\n",
       "  <th>Intercept</th> <td>   13.8356</td> <td>   35.804</td> <td>    0.386</td> <td> 0.702</td> <td>  -59.095</td> <td>   86.766</td>\n",
       "</tr>\n",
       "<tr>\n",
       "  <th>Daily</th>     <td>    1.3397</td> <td>    0.071</td> <td>   18.935</td> <td> 0.000</td> <td>    1.196</td> <td>    1.484</td>\n",
       "</tr>\n",
       "</table>\n",
       "<table class=\"simpletable\">\n",
       "<tr>\n",
       "  <th>Omnibus:</th>       <td> 3.297</td> <th>  Durbin-Watson:     </th> <td>   2.059</td>\n",
       "</tr>\n",
       "<tr>\n",
       "  <th>Prob(Omnibus):</th> <td> 0.192</td> <th>  Jarque-Bera (JB):  </th> <td>   1.990</td>\n",
       "</tr>\n",
       "<tr>\n",
       "  <th>Skew:</th>          <td> 0.396</td> <th>  Prob(JB):          </th> <td>   0.370</td>\n",
       "</tr>\n",
       "<tr>\n",
       "  <th>Kurtosis:</th>      <td> 3.882</td> <th>  Cond. No.          </th> <td>    965.</td>\n",
       "</tr>\n",
       "</table><br/><br/>Warnings:<br/>[1] Standard Errors assume that the covariance matrix of the errors is correctly specified."
      ],
      "text/plain": [
       "<class 'statsmodels.iolib.summary.Summary'>\n",
       "\"\"\"\n",
       "                            OLS Regression Results                            \n",
       "==============================================================================\n",
       "Dep. Variable:                 Sunday   R-squared:                       0.918\n",
       "Model:                            OLS   Adj. R-squared:                  0.915\n",
       "Method:                 Least Squares   F-statistic:                     358.5\n",
       "Date:                Mon, 03 Aug 2020   Prob (F-statistic):           6.02e-19\n",
       "Time:                        20:42:43   Log-Likelihood:                -206.85\n",
       "No. Observations:                  34   AIC:                             417.7\n",
       "Df Residuals:                      32   BIC:                             420.8\n",
       "Df Model:                           1                                         \n",
       "Covariance Type:            nonrobust                                         \n",
       "==============================================================================\n",
       "                 coef    std err          t      P>|t|      [0.025      0.975]\n",
       "------------------------------------------------------------------------------\n",
       "Intercept     13.8356     35.804      0.386      0.702     -59.095      86.766\n",
       "Daily          1.3397      0.071     18.935      0.000       1.196       1.484\n",
       "==============================================================================\n",
       "Omnibus:                        3.297   Durbin-Watson:                   2.059\n",
       "Prob(Omnibus):                  0.192   Jarque-Bera (JB):                1.990\n",
       "Skew:                           0.396   Prob(JB):                        0.370\n",
       "Kurtosis:                       3.882   Cond. No.                         965.\n",
       "==============================================================================\n",
       "\n",
       "Warnings:\n",
       "[1] Standard Errors assume that the covariance matrix of the errors is correctly specified.\n",
       "\"\"\""
      ]
     },
     "execution_count": 112,
     "metadata": {},
     "output_type": "execute_result"
    }
   ],
   "source": [
    "result.summary()"
   ]
  },
  {
   "cell_type": "code",
   "execution_count": null,
   "metadata": {},
   "outputs": [],
   "source": [
    "#(g) 일요일판을 고려하고 있는 어떤 신문의 주중판매부수가 500,000 이라고 하자. 이 신문의 예측된 일요일 판매부수에 대하여 구간 추정치를 제시하여라."
   ]
  },
  {
   "cell_type": "code",
   "execution_count": null,
   "metadata": {},
   "outputs": [],
   "source": []
  }
 ],
 "metadata": {
  "kernelspec": {
   "display_name": "Python 3",
   "language": "python",
   "name": "python3"
  },
  "language_info": {
   "codemirror_mode": {
    "name": "ipython",
    "version": 3
   },
   "file_extension": ".py",
   "mimetype": "text/x-python",
   "name": "python",
   "nbconvert_exporter": "python",
   "pygments_lexer": "ipython3",
   "version": "3.8.3"
  },
  "toc": {
   "base_numbering": 1,
   "nav_menu": {},
   "number_sections": true,
   "sideBar": false,
   "skip_h1_title": false,
   "title_cell": "Table of Contents",
   "title_sidebar": "Contents",
   "toc_cell": false,
   "toc_position": {
    "height": "377px",
    "left": "1657px",
    "top": "151px",
    "width": "191.391px"
   },
   "toc_section_display": true,
   "toc_window_display": false
  },
  "varInspector": {
   "cols": {
    "lenName": 16,
    "lenType": 16,
    "lenVar": 40
   },
   "kernels_config": {
    "python": {
     "delete_cmd_postfix": "",
     "delete_cmd_prefix": "del ",
     "library": "var_list.py",
     "varRefreshCmd": "print(var_dic_list())"
    },
    "r": {
     "delete_cmd_postfix": ") ",
     "delete_cmd_prefix": "rm(",
     "library": "var_list.r",
     "varRefreshCmd": "cat(var_dic_list()) "
    }
   },
   "types_to_exclude": [
    "module",
    "function",
    "builtin_function_or_method",
    "instance",
    "_Feature"
   ],
   "window_display": false
  }
 },
 "nbformat": 4,
 "nbformat_minor": 2
}
